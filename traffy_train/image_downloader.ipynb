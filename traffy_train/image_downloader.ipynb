{
  "cells": [
    {
      "cell_type": "code",
      "execution_count": 1,
      "metadata": {
        "id": "SYtqehUwUUa7"
      },
      "outputs": [],
      "source": [
        "import polars as pl\n",
        "from polars import col, lit\n",
        "\n",
        "from matplotlib import pyplot as plt\n",
        "\n",
        "from os import system, rename, listdir"
      ]
    },
    {
      "cell_type": "code",
      "execution_count": 2,
      "metadata": {
        "id": "9RHtTzFkUUa8"
      },
      "outputs": [
        {
          "data": {
            "text/html": [
              "<div><style>\n",
              ".dataframe > thead > tr > th,\n",
              ".dataframe > tbody > tr > td {\n",
              "  text-align: right;\n",
              "}\n",
              "</style>\n",
              "<small>shape: (208_518, 26)</small><table border=\"1\" class=\"dataframe\"><thead><tr><th>id</th><th>photo_url</th><th>type_PM2.5</th><th>type_การเดินทาง</th><th>type_กีดขวาง</th><th>type_คนจรจัด</th><th>type_คลอง</th><th>type_ความปลอดภัย</th><th>type_ความสะอาด</th><th>type_จราจร</th><th>type_ต้นไม้</th><th>type_ถนน</th><th>type_ทางเท้า</th><th>type_ท่อระบายน้ำ</th><th>type_น้ำท่วม</th><th>type_ป้าย</th><th>type_ป้ายจราจร</th><th>type_ร้องเรียน</th><th>type_สอบถาม</th><th>type_สะพาน</th><th>type_สัตว์จรจัด</th><th>type_สายไฟ</th><th>type_ห้องน้ำ</th><th>type_เสนอแนะ</th><th>type_เสียงรบกวน</th><th>type_แสงสว่าง</th></tr><tr><td>str</td><td>str</td><td>u8</td><td>u8</td><td>u8</td><td>u8</td><td>u8</td><td>u8</td><td>u8</td><td>u8</td><td>u8</td><td>u8</td><td>u8</td><td>u8</td><td>u8</td><td>u8</td><td>u8</td><td>u8</td><td>u8</td><td>u8</td><td>u8</td><td>u8</td><td>u8</td><td>u8</td><td>u8</td><td>u8</td></tr></thead><tbody><tr><td>&quot;2022-GVPG22&quot;</td><td>&quot;https://storag…</td><td>0</td><td>0</td><td>0</td><td>0</td><td>0</td><td>0</td><td>0</td><td>0</td><td>0</td><td>1</td><td>1</td><td>0</td><td>0</td><td>0</td><td>0</td><td>0</td><td>0</td><td>0</td><td>0</td><td>0</td><td>0</td><td>0</td><td>0</td><td>0</td></tr><tr><td>&quot;2023-KWURTL&quot;</td><td>&quot;https://storag…</td><td>0</td><td>0</td><td>0</td><td>0</td><td>0</td><td>1</td><td>0</td><td>0</td><td>0</td><td>0</td><td>0</td><td>0</td><td>0</td><td>0</td><td>0</td><td>0</td><td>0</td><td>0</td><td>0</td><td>0</td><td>0</td><td>0</td><td>0</td><td>0</td></tr><tr><td>&quot;2022-DNEQR8&quot;</td><td>&quot;https://storag…</td><td>0</td><td>0</td><td>0</td><td>0</td><td>1</td><td>0</td><td>0</td><td>0</td><td>0</td><td>1</td><td>0</td><td>0</td><td>0</td><td>0</td><td>0</td><td>0</td><td>0</td><td>0</td><td>0</td><td>0</td><td>0</td><td>0</td><td>0</td><td>0</td></tr><tr><td>&quot;2023-7224NR&quot;</td><td>&quot;https://storag…</td><td>0</td><td>0</td><td>0</td><td>0</td><td>0</td><td>0</td><td>0</td><td>0</td><td>0</td><td>1</td><td>0</td><td>0</td><td>0</td><td>0</td><td>0</td><td>0</td><td>0</td><td>0</td><td>0</td><td>0</td><td>0</td><td>0</td><td>0</td><td>0</td></tr><tr><td>&quot;2022-KLWY6C&quot;</td><td>&quot;https://storag…</td><td>0</td><td>0</td><td>0</td><td>0</td><td>0</td><td>0</td><td>0</td><td>0</td><td>0</td><td>1</td><td>0</td><td>0</td><td>0</td><td>0</td><td>0</td><td>0</td><td>0</td><td>0</td><td>0</td><td>0</td><td>0</td><td>0</td><td>0</td><td>0</td></tr><tr><td>&quot;2022-MTQD3X&quot;</td><td>&quot;https://storag…</td><td>0</td><td>0</td><td>0</td><td>0</td><td>0</td><td>0</td><td>0</td><td>0</td><td>0</td><td>1</td><td>0</td><td>0</td><td>0</td><td>0</td><td>0</td><td>0</td><td>0</td><td>0</td><td>0</td><td>0</td><td>0</td><td>0</td><td>0</td><td>0</td></tr><tr><td>&quot;2023-BMMLXM&quot;</td><td>&quot;https://storag…</td><td>0</td><td>0</td><td>0</td><td>0</td><td>0</td><td>0</td><td>0</td><td>0</td><td>0</td><td>0</td><td>0</td><td>0</td><td>0</td><td>0</td><td>0</td><td>0</td><td>0</td><td>0</td><td>0</td><td>0</td><td>0</td><td>0</td><td>1</td><td>0</td></tr><tr><td>&quot;M9HHYK&quot;</td><td>&quot;https://storag…</td><td>0</td><td>0</td><td>0</td><td>0</td><td>0</td><td>0</td><td>1</td><td>0</td><td>0</td><td>1</td><td>0</td><td>0</td><td>0</td><td>0</td><td>0</td><td>0</td><td>0</td><td>0</td><td>0</td><td>0</td><td>0</td><td>0</td><td>0</td><td>0</td></tr><tr><td>&quot;2022-864A26&quot;</td><td>&quot;https://storag…</td><td>0</td><td>0</td><td>0</td><td>0</td><td>0</td><td>0</td><td>0</td><td>0</td><td>0</td><td>0</td><td>0</td><td>0</td><td>1</td><td>0</td><td>0</td><td>0</td><td>0</td><td>0</td><td>0</td><td>0</td><td>0</td><td>0</td><td>0</td><td>0</td></tr><tr><td>&quot;2022-9PHDVC&quot;</td><td>&quot;https://storag…</td><td>0</td><td>0</td><td>0</td><td>0</td><td>0</td><td>0</td><td>0</td><td>0</td><td>0</td><td>1</td><td>0</td><td>0</td><td>0</td><td>0</td><td>0</td><td>0</td><td>0</td><td>0</td><td>0</td><td>0</td><td>0</td><td>0</td><td>0</td><td>0</td></tr><tr><td>&quot;2022-72QK38&quot;</td><td>&quot;https://storag…</td><td>0</td><td>0</td><td>0</td><td>0</td><td>0</td><td>0</td><td>0</td><td>0</td><td>0</td><td>1</td><td>0</td><td>0</td><td>0</td><td>0</td><td>0</td><td>0</td><td>0</td><td>0</td><td>0</td><td>0</td><td>0</td><td>0</td><td>0</td><td>0</td></tr><tr><td>&quot;2022-P8F9CG&quot;</td><td>&quot;https://storag…</td><td>0</td><td>0</td><td>0</td><td>1</td><td>0</td><td>0</td><td>0</td><td>0</td><td>0</td><td>1</td><td>0</td><td>0</td><td>0</td><td>0</td><td>0</td><td>0</td><td>0</td><td>0</td><td>0</td><td>0</td><td>0</td><td>0</td><td>0</td><td>0</td></tr><tr><td>&hellip;</td><td>&hellip;</td><td>&hellip;</td><td>&hellip;</td><td>&hellip;</td><td>&hellip;</td><td>&hellip;</td><td>&hellip;</td><td>&hellip;</td><td>&hellip;</td><td>&hellip;</td><td>&hellip;</td><td>&hellip;</td><td>&hellip;</td><td>&hellip;</td><td>&hellip;</td><td>&hellip;</td><td>&hellip;</td><td>&hellip;</td><td>&hellip;</td><td>&hellip;</td><td>&hellip;</td><td>&hellip;</td><td>&hellip;</td><td>&hellip;</td><td>&hellip;</td></tr><tr><td>&quot;2022-GC9VQD&quot;</td><td>&quot;https://storag…</td><td>0</td><td>0</td><td>0</td><td>0</td><td>0</td><td>0</td><td>0</td><td>0</td><td>0</td><td>1</td><td>0</td><td>0</td><td>0</td><td>0</td><td>0</td><td>0</td><td>0</td><td>0</td><td>0</td><td>0</td><td>0</td><td>0</td><td>0</td><td>0</td></tr><tr><td>&quot;2022-9L2R7Z&quot;</td><td>&quot;https://storag…</td><td>0</td><td>0</td><td>0</td><td>0</td><td>0</td><td>0</td><td>0</td><td>0</td><td>0</td><td>1</td><td>0</td><td>0</td><td>0</td><td>0</td><td>0</td><td>0</td><td>0</td><td>0</td><td>0</td><td>0</td><td>0</td><td>0</td><td>0</td><td>0</td></tr><tr><td>&quot;2022-7B6MKR&quot;</td><td>&quot;https://storag…</td><td>0</td><td>0</td><td>0</td><td>0</td><td>0</td><td>0</td><td>0</td><td>0</td><td>0</td><td>0</td><td>0</td><td>0</td><td>1</td><td>0</td><td>0</td><td>0</td><td>0</td><td>0</td><td>0</td><td>0</td><td>0</td><td>0</td><td>0</td><td>0</td></tr><tr><td>&quot;2023-A2UZUA&quot;</td><td>&quot;https://storag…</td><td>0</td><td>0</td><td>0</td><td>0</td><td>0</td><td>0</td><td>0</td><td>0</td><td>0</td><td>1</td><td>0</td><td>1</td><td>1</td><td>0</td><td>0</td><td>0</td><td>0</td><td>0</td><td>0</td><td>0</td><td>0</td><td>0</td><td>0</td><td>0</td></tr><tr><td>&quot;2023-KEN8DE&quot;</td><td>&quot;https://storag…</td><td>0</td><td>0</td><td>1</td><td>0</td><td>0</td><td>1</td><td>0</td><td>0</td><td>0</td><td>0</td><td>0</td><td>0</td><td>0</td><td>0</td><td>0</td><td>0</td><td>0</td><td>1</td><td>0</td><td>0</td><td>0</td><td>0</td><td>0</td><td>0</td></tr><tr><td>&quot;2022-G9QU7Q&quot;</td><td>&quot;https://storag…</td><td>0</td><td>0</td><td>0</td><td>0</td><td>0</td><td>0</td><td>0</td><td>0</td><td>0</td><td>0</td><td>0</td><td>0</td><td>1</td><td>0</td><td>0</td><td>0</td><td>0</td><td>0</td><td>0</td><td>0</td><td>0</td><td>0</td><td>0</td><td>0</td></tr><tr><td>&quot;2023-NXMPC3&quot;</td><td>&quot;https://storag…</td><td>0</td><td>0</td><td>0</td><td>0</td><td>0</td><td>0</td><td>1</td><td>0</td><td>0</td><td>0</td><td>0</td><td>0</td><td>0</td><td>0</td><td>0</td><td>0</td><td>0</td><td>0</td><td>0</td><td>0</td><td>0</td><td>0</td><td>0</td><td>0</td></tr><tr><td>&quot;2023-66D3T8&quot;</td><td>&quot;https://storag…</td><td>0</td><td>0</td><td>0</td><td>0</td><td>0</td><td>0</td><td>0</td><td>0</td><td>0</td><td>1</td><td>0</td><td>0</td><td>0</td><td>0</td><td>0</td><td>0</td><td>0</td><td>0</td><td>0</td><td>0</td><td>0</td><td>0</td><td>0</td><td>0</td></tr><tr><td>&quot;LK2BXD&quot;</td><td>&quot;https://storag…</td><td>0</td><td>0</td><td>1</td><td>0</td><td>0</td><td>0</td><td>0</td><td>0</td><td>0</td><td>1</td><td>1</td><td>0</td><td>0</td><td>0</td><td>0</td><td>0</td><td>0</td><td>0</td><td>0</td><td>0</td><td>0</td><td>0</td><td>0</td><td>0</td></tr><tr><td>&quot;2023-3KG426&quot;</td><td>&quot;https://storag…</td><td>0</td><td>0</td><td>0</td><td>0</td><td>0</td><td>0</td><td>0</td><td>0</td><td>0</td><td>0</td><td>1</td><td>0</td><td>0</td><td>1</td><td>0</td><td>0</td><td>0</td><td>0</td><td>0</td><td>0</td><td>0</td><td>0</td><td>0</td><td>0</td></tr><tr><td>&quot;2022-FBFRWY&quot;</td><td>&quot;https://storag…</td><td>0</td><td>0</td><td>0</td><td>0</td><td>0</td><td>0</td><td>0</td><td>0</td><td>0</td><td>1</td><td>0</td><td>1</td><td>0</td><td>0</td><td>0</td><td>0</td><td>0</td><td>0</td><td>0</td><td>0</td><td>0</td><td>0</td><td>0</td><td>0</td></tr><tr><td>&quot;2022-BBDTWG&quot;</td><td>&quot;https://storag…</td><td>0</td><td>0</td><td>0</td><td>0</td><td>0</td><td>0</td><td>0</td><td>0</td><td>0</td><td>0</td><td>0</td><td>0</td><td>0</td><td>0</td><td>0</td><td>0</td><td>0</td><td>1</td><td>0</td><td>0</td><td>0</td><td>0</td><td>0</td><td>0</td></tr></tbody></table></div>"
            ],
            "text/plain": [
              "shape: (208_518, 26)\n",
              "┌────────┬─────────┬──────────┬────────────┬───┬────────────┬────────────┬────────────┬────────────┐\n",
              "│ id     ┆ photo_u ┆ type_PM2 ┆ type_การเดิ ┆ … ┆ type_ห้องน้ำ ┆ type_เสนอแ ┆ type_เสียงร ┆ type_แสงสว่ │\n",
              "│ ---    ┆ rl      ┆ .5       ┆ นทาง       ┆   ┆ ---        ┆ นะ         ┆ บกวน       ┆ าง         │\n",
              "│ str    ┆ ---     ┆ ---      ┆ ---        ┆   ┆ u8         ┆ ---        ┆ ---        ┆ ---        │\n",
              "│        ┆ str     ┆ u8       ┆ u8         ┆   ┆            ┆ u8         ┆ u8         ┆ u8         │\n",
              "╞════════╪═════════╪══════════╪════════════╪═══╪════════════╪════════════╪════════════╪════════════╡\n",
              "│ 2022-G ┆ https:/ ┆ 0        ┆ 0          ┆ … ┆ 0          ┆ 0          ┆ 0          ┆ 0          │\n",
              "│ VPG22  ┆ /storag ┆          ┆            ┆   ┆            ┆            ┆            ┆            │\n",
              "│        ┆ e.googl ┆          ┆            ┆   ┆            ┆            ┆            ┆            │\n",
              "│        ┆ eapis.c ┆          ┆            ┆   ┆            ┆            ┆            ┆            │\n",
              "│        ┆ om/t…   ┆          ┆            ┆   ┆            ┆            ┆            ┆            │\n",
              "│ 2023-K ┆ https:/ ┆ 0        ┆ 0          ┆ … ┆ 0          ┆ 0          ┆ 0          ┆ 0          │\n",
              "│ WURTL  ┆ /storag ┆          ┆            ┆   ┆            ┆            ┆            ┆            │\n",
              "│        ┆ e.googl ┆          ┆            ┆   ┆            ┆            ┆            ┆            │\n",
              "│        ┆ eapis.c ┆          ┆            ┆   ┆            ┆            ┆            ┆            │\n",
              "│        ┆ om/t…   ┆          ┆            ┆   ┆            ┆            ┆            ┆            │\n",
              "│ 2022-D ┆ https:/ ┆ 0        ┆ 0          ┆ … ┆ 0          ┆ 0          ┆ 0          ┆ 0          │\n",
              "│ NEQR8  ┆ /storag ┆          ┆            ┆   ┆            ┆            ┆            ┆            │\n",
              "│        ┆ e.googl ┆          ┆            ┆   ┆            ┆            ┆            ┆            │\n",
              "│        ┆ eapis.c ┆          ┆            ┆   ┆            ┆            ┆            ┆            │\n",
              "│        ┆ om/t…   ┆          ┆            ┆   ┆            ┆            ┆            ┆            │\n",
              "│ 2023-7 ┆ https:/ ┆ 0        ┆ 0          ┆ … ┆ 0          ┆ 0          ┆ 0          ┆ 0          │\n",
              "│ 224NR  ┆ /storag ┆          ┆            ┆   ┆            ┆            ┆            ┆            │\n",
              "│        ┆ e.googl ┆          ┆            ┆   ┆            ┆            ┆            ┆            │\n",
              "│        ┆ eapis.c ┆          ┆            ┆   ┆            ┆            ┆            ┆            │\n",
              "│        ┆ om/t…   ┆          ┆            ┆   ┆            ┆            ┆            ┆            │\n",
              "│ …      ┆ …       ┆ …        ┆ …          ┆ … ┆ …          ┆ …          ┆ …          ┆ …          │\n",
              "│ LK2BXD ┆ https:/ ┆ 0        ┆ 0          ┆ … ┆ 0          ┆ 0          ┆ 0          ┆ 0          │\n",
              "│        ┆ /storag ┆          ┆            ┆   ┆            ┆            ┆            ┆            │\n",
              "│        ┆ e.googl ┆          ┆            ┆   ┆            ┆            ┆            ┆            │\n",
              "│        ┆ eapis.c ┆          ┆            ┆   ┆            ┆            ┆            ┆            │\n",
              "│        ┆ om/t…   ┆          ┆            ┆   ┆            ┆            ┆            ┆            │\n",
              "│ 2023-3 ┆ https:/ ┆ 0        ┆ 0          ┆ … ┆ 0          ┆ 0          ┆ 0          ┆ 0          │\n",
              "│ KG426  ┆ /storag ┆          ┆            ┆   ┆            ┆            ┆            ┆            │\n",
              "│        ┆ e.googl ┆          ┆            ┆   ┆            ┆            ┆            ┆            │\n",
              "│        ┆ eapis.c ┆          ┆            ┆   ┆            ┆            ┆            ┆            │\n",
              "│        ┆ om/t…   ┆          ┆            ┆   ┆            ┆            ┆            ┆            │\n",
              "│ 2022-F ┆ https:/ ┆ 0        ┆ 0          ┆ … ┆ 0          ┆ 0          ┆ 0          ┆ 0          │\n",
              "│ BFRWY  ┆ /storag ┆          ┆            ┆   ┆            ┆            ┆            ┆            │\n",
              "│        ┆ e.googl ┆          ┆            ┆   ┆            ┆            ┆            ┆            │\n",
              "│        ┆ eapis.c ┆          ┆            ┆   ┆            ┆            ┆            ┆            │\n",
              "│        ┆ om/t…   ┆          ┆            ┆   ┆            ┆            ┆            ┆            │\n",
              "│ 2022-B ┆ https:/ ┆ 0        ┆ 0          ┆ … ┆ 0          ┆ 0          ┆ 0          ┆ 0          │\n",
              "│ BDTWG  ┆ /storag ┆          ┆            ┆   ┆            ┆            ┆            ┆            │\n",
              "│        ┆ e.googl ┆          ┆            ┆   ┆            ┆            ┆            ┆            │\n",
              "│        ┆ eapis.c ┆          ┆            ┆   ┆            ┆            ┆            ┆            │\n",
              "│        ┆ om/t…   ┆          ┆            ┆   ┆            ┆            ┆            ┆            │\n",
              "└────────┴─────────┴──────────┴────────────┴───┴────────────┴────────────┴────────────┴────────────┘"
            ]
          },
          "execution_count": 2,
          "metadata": {},
          "output_type": "execute_result"
        }
      ],
      "source": [
        "df = pl.read_ipc('../data/traffy_multiclass_data.ipc')\n",
        "df"
      ]
    },
    {
      "cell_type": "code",
      "execution_count": 3,
      "metadata": {},
      "outputs": [],
      "source": [
        "existing_imgs = [i.split('.')[0] for i in listdir('./data/traffy_photos/')]"
      ]
    },
    {
      "cell_type": "code",
      "execution_count": 4,
      "metadata": {},
      "outputs": [
        {
          "data": {
            "text/html": [
              "<div><style>\n",
              ".dataframe > thead > tr > th,\n",
              ".dataframe > tbody > tr > td {\n",
              "  text-align: right;\n",
              "}\n",
              "</style>\n",
              "<small>shape: (0, 3)</small><table border=\"1\" class=\"dataframe\"><thead><tr><th>id</th><th>photo_url</th><th>photo_id</th></tr><tr><td>str</td><td>str</td><td>str</td></tr></thead><tbody></tbody></table></div>"
            ],
            "text/plain": [
              "shape: (0, 3)\n",
              "┌─────┬───────────┬──────────┐\n",
              "│ id  ┆ photo_url ┆ photo_id │\n",
              "│ --- ┆ ---       ┆ ---      │\n",
              "│ str ┆ str       ┆ str      │\n",
              "╞═════╪═══════════╪══════════╡\n",
              "└─────┴───────────┴──────────┘"
            ]
          },
          "metadata": {},
          "output_type": "display_data"
        }
      ],
      "source": [
        "to_download_imgs = df.select('id', 'photo_url').with_columns(\n",
        "    col('photo_url').str.split('/').arr.last().str.split('.').arr.first().alias('photo_id')\n",
        ").filter(col('id').is_in(existing_imgs).is_not() & col('photo_id').ne(\"\"))\n",
        "\n",
        "display(to_download_imgs)"
      ]
    },
    {
      "cell_type": "code",
      "execution_count": 5,
      "metadata": {
        "id": "zirkg2IGUUa9"
      },
      "outputs": [],
      "source": [
        "# Generate urls file, specifing what to download according as curl config\n",
        "with open('./data/traffy_photo_urls.txt', 'w') as f:\n",
        "    for i in to_download_imgs.iter_rows(named=True):\n",
        "        f.write(f'url = \"{i[\"photo_url\"]}\"\\n')\n",
        "        f.write(f'output = \"./data/traffy_photos/{i[\"id\"]}.jpg\"\\n')"
      ]
    },
    {
      "cell_type": "code",
      "execution_count": null,
      "metadata": {
        "id": "2VfoUKEnUUa_"
      },
      "outputs": [],
      "source": [
        "# Use curl to download images from urls file, may take a very very long time\n",
        "system('./urls_download.sh')"
      ]
    },
    {
      "cell_type": "code",
      "execution_count": null,
      "metadata": {},
      "outputs": [],
      "source": [
        "# for i in df.select('id', 'photo_url').rows():\n",
        "#     photo_id = i[1].split('/')[-1]\n",
        "#     if photo_id == '':\n",
        "#         continue\n",
        "#     src = './data/traffy_photos/' + photo_id\n",
        "#     dest = './data/traffy_photos/' + i[0] + '.' + photo_id.split('.')[-1]\n",
        "#     print(f\"{src} -> {dest}\")\n",
        "#     try:\n",
        "#         rename(src, dest)\n",
        "#     except FileNotFoundError:\n",
        "#         print(f\"File not found: {src}\")\n",
        "#         continue"
      ]
    },
    {
      "cell_type": "code",
      "execution_count": null,
      "metadata": {},
      "outputs": [],
      "source": [
        "# from pathlib import Path\n",
        "# \n",
        "# for i in Path('./data/traffy_photos/').iterdir():\n",
        "#     src = i\n",
        "#     dest = i.with_name(i.name.split(\".\")[0] + \".jpg\")\n",
        "\n",
        "#     if src != dest:\n",
        "#         rename(src, dest)\n",
        "#         print(f'{src} -> {dest}')"
      ]
    }
  ],
  "metadata": {
    "colab": {
      "provenance": []
    },
    "kernelspec": {
      "display_name": "base",
      "language": "python",
      "name": "python3"
    },
    "language_info": {
      "codemirror_mode": {
        "name": "ipython",
        "version": 3
      },
      "file_extension": ".py",
      "mimetype": "text/x-python",
      "name": "python",
      "nbconvert_exporter": "python",
      "pygments_lexer": "ipython3",
      "version": "3.9.13"
    },
    "orig_nbformat": 4,
    "vscode": {
      "interpreter": {
        "hash": "c9b331834caea015b00ef836b329143fad26c810777fb4cd8b2cec8fd927d17e"
      }
    }
  },
  "nbformat": 4,
  "nbformat_minor": 0
}
