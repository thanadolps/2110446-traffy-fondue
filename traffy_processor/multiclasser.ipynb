{
 "cells": [
  {
   "cell_type": "code",
   "execution_count": 7,
   "metadata": {},
   "outputs": [],
   "source": [
    "import polars as pl\n",
    "from polars import col, lit"
   ]
  },
  {
   "cell_type": "code",
   "execution_count": 8,
   "metadata": {},
   "outputs": [],
   "source": [
    "df = pl.read_ipc('../data/traffy_clean1_data.ipc')\n",
    "# df.describe()"
   ]
  },
  {
   "cell_type": "code",
   "execution_count": 6,
   "metadata": {},
   "outputs": [
    {
     "data": {
      "text/html": [
       "<div><style>\n",
       ".dataframe > thead > tr > th,\n",
       ".dataframe > tbody > tr > td {\n",
       "  text-align: right;\n",
       "}\n",
       "</style>\n",
       "<small>shape: (270_802, 15)</small><table border=\"1\" class=\"dataframe\"><thead><tr><th>address</th><th>after_photo</th><th>count_reopen</th><th>description</th><th>last_activity</th><th>note</th><th>org</th><th>photo_url</th><th>problem_type_abdul</th><th>state</th><th>ticket_id</th><th>timestamp</th><th>type</th><th>lon</th><th>lat</th></tr><tr><td>str</td><td>str</td><td>i32</td><td>str</td><td>str</td><td>str</td><td>str</td><td>str</td><td>list[str]</td><td>str</td><td>str</td><td>datetime[ns, +00:00]</td><td>str</td><td>f32</td><td>f32</td></tr></thead><tbody><tr><td>&quot;227 ซอย เทอดไท…</td><td>&quot;https://storag…</td><td>0</td><td>&quot;1.à¸à¸±à¸à¸«…</td><td>&quot;2023-01-16 03:…</td><td>&quot;สำนักงานเขตธนบ…</td><td>&quot;กรุงเทพมหานคร&quot;</td><td>&quot;https://storag…</td><td>[&quot;ถนน&quot;, &quot;สะพาน&quot;, &quot;คลอง&quot;]</td><td>&quot;เสร็จสิ้น&quot;</td><td>&quot;NAPECY&quot;</td><td>2023-01-15 08:06:58.435364 +00:00</td><td>&quot;ถนน,สะพาน,คลอง…</td><td>100.47718</td><td>13.71201</td></tr><tr><td>&quot;14 192 ซอย คู้…</td><td>&quot;https://storag…</td><td>0</td><td>&quot;à¸à¸±à¸à¸«à¸…</td><td>&quot;2023-02-28 08:…</td><td>&quot;กรณีนี้ชุดสวยต…</td><td>&quot;กรุงเทพมหานคร&quot;</td><td>&quot;https://storag…</td><td>[&quot;กีดขวาง&quot;]</td><td>&quot;เสร็จสิ้น&quot;</td><td>&quot;N2MYXV&quot;</td><td>2023-02-28 02:05:30.358285 +00:00</td><td>&quot;กีดขวาง&quot;</td><td>100.668327</td><td>13.86063</td></tr><tr><td>&quot;บางแค 10 แยกซอ…</td><td>null</td><td>0</td><td>&quot;à¸à¸±à¸à¸«à¸…</td><td>&quot;2023-02-28 07:…</td><td>&quot;เข้าตรวจสอบและ…</td><td>&quot;กรุงเทพมหานคร&quot;</td><td>&quot;https://storag…</td><td>[&quot;ถนน&quot;, &quot;แสงสว่าง&quot;]</td><td>&quot;ส่งต่อ(ใหม่)&quot;</td><td>&quot;X7XHVH&quot;</td><td>2023-02-14 05:51:50.791465 +00:00</td><td>&quot;ถนน,แสงสว่าง&quot;</td><td>100.416718</td><td>13.69708</td></tr><tr><td>&quot;522 ถนน ประชาธ…</td><td>null</td><td>0</td><td>&quot;à¸à¸­à¸à¸à¸…</td><td>&quot;2022-12-29 07:…</td><td>&quot;กำลังดำเนินการ…</td><td>&quot;กรุงเทพมหานคร&quot;</td><td>&quot;https://storag…</td><td>[]</td><td>&quot;กำลังดำเนินการ…</td><td>&quot;2022-CET9MZ&quot;</td><td>2022-12-08 05:34:29.366206 +00:00</td><td>null</td><td>100.494141</td><td>13.72973</td></tr><tr><td>&quot;26/2 ซอย ทัดสา…</td><td>&quot;https://storag…</td><td>0</td><td>&quot;à¸à¸µà¹à¸à¸…</td><td>&quot;2022-09-05 03:…</td><td>&quot;ขอบคุณสำหรับข้…</td><td>&quot;กรุงเทพมหานคร&quot;</td><td>&quot;https://storag…</td><td>[]</td><td>&quot;เสร็จสิ้น&quot;</td><td>&quot;2022-EEFNV2&quot;</td><td>2022-09-03 04:08:03.901070 +00:00</td><td>null</td><td>100.659721</td><td>13.92949</td></tr><tr><td>&quot;3/260 ถ. พหลโย…</td><td>&quot;https://storag…</td><td>0</td><td>&quot;มอร์เตอร์ไซ ขั…</td><td>&quot;2022-12-04 08:…</td><td>&quot;จากพิกัดที่แจ้…</td><td>&quot;กรุงเทพมหานคร&quot;</td><td>&quot;https://storag…</td><td>[&quot;ทางเท้า&quot;]</td><td>&quot;เสร็จสิ้น&quot;</td><td>&quot;2022-BV2UQQ&quot;</td><td>2022-12-02 04:37:25.326529 +00:00</td><td>&quot;ทางเท้า&quot;</td><td>100.607269</td><td>13.8894</td></tr><tr><td>&quot;265/5 ถนน พระร…</td><td>&quot;https://storag…</td><td>null</td><td>&quot;ไฟดับ&quot;</td><td>&quot;2022-08-19 11:…</td><td>&quot;ไฟเสียทั่วไปจ่…</td><td>&quot;กรุงเทพมหานคร&quot;</td><td>&quot;https://storag…</td><td>[&quot;แสงสว่าง&quot;]</td><td>&quot;เสร็จสิ้น&quot;</td><td>&quot;2022-HPMYDL&quot;</td><td>2022-08-15 12:05:46.682218 +00:00</td><td>&quot;แสงสว่าง&quot;</td><td>100.520958</td><td>13.7549</td></tr><tr><td>&quot;37/298 หมู่ที่…</td><td>&quot;https://storag…</td><td>1</td><td>&quot;1.ถนนพังหลุมบ่…</td><td>&quot;2022-09-23 03:…</td><td>&quot;ก่อนอื่นต้องขอ…</td><td>&quot;กรุงเทพมหานคร&quot;</td><td>&quot;https://storag…</td><td>[&quot;ถนน&quot;]</td><td>&quot;เสร็จสิ้น&quot;</td><td>&quot;2022-3HB89A&quot;</td><td>2022-08-04 07:06:20.399225 +00:00</td><td>&quot;ถนน&quot;</td><td>100.706772</td><td>13.88683</td></tr><tr><td>&quot;36/22 เอกชัย แ…</td><td>&quot;https://storag…</td><td>null</td><td>&quot;จอดรถทับพื้นที…</td><td>&quot;2022-07-13 04:…</td><td>&quot;เจ้าหน้าที่ตำร…</td><td>&quot;กรุงเทพมหานคร&quot;</td><td>&quot;https://storag…</td><td>[&quot;กีดขวาง&quot;]</td><td>&quot;เสร็จสิ้น&quot;</td><td>&quot;2022-3A7MG7&quot;</td><td>2022-07-01 10:25:36.734450 +00:00</td><td>&quot;กีดขวาง&quot;</td><td>100.429718</td><td>13.68694</td></tr><tr><td>&quot;45/2 ซ. อารีย์…</td><td>&quot;https://storag…</td><td>null</td><td>&quot;ไฟในซอยอารีย์ส…</td><td>&quot;2022-08-25 08:…</td><td>&quot;สำนักงานเขตพญา…</td><td>&quot;กรุงเทพมหานคร&quot;</td><td>&quot;https://storag…</td><td>[&quot;แสงสว่าง&quot;]</td><td>&quot;เสร็จสิ้น&quot;</td><td>&quot;2022-NG82L7&quot;</td><td>2022-06-20 13:03:34.392861 +00:00</td><td>&quot;แสงสว่าง&quot;</td><td>100.536613</td><td>13.77514</td></tr><tr><td>&quot;QFG4+FH3 แขวง …</td><td>null</td><td>null</td><td>&quot;จราจร&quot;</td><td>&quot;2022-06-30 08:…</td><td>&quot;เขตตลิ่งชัน ส่…</td><td>&quot;กรุงเทพมหานคร&quot;</td><td>&quot;https://storag…</td><td>[]</td><td>&quot;เสร็จสิ้น&quot;</td><td>&quot;2022-PCQY93&quot;</td><td>2022-05-31 07:42:17.550335 +00:00</td><td>null</td><td>100.456398</td><td>13.77597</td></tr><tr><td>&quot;148 ถ. สุนทรโก…</td><td>null</td><td>0</td><td>&quot;พื้นผิวถนนเป็น…</td><td>&quot;2022-12-26 03:…</td><td>&quot;กลุ่มงานควบคุม…</td><td>&quot;กรุงเทพมหานคร&quot;</td><td>&quot;https://storag…</td><td>[&quot;ถนน&quot;]</td><td>&quot;กำลังดำเนินการ…</td><td>&quot;2022-73LTDP&quot;</td><td>2022-09-29 03:19:26.073575 +00:00</td><td>&quot;ถนน&quot;</td><td>100.564857</td><td>13.71495</td></tr><tr><td>&hellip;</td><td>&hellip;</td><td>&hellip;</td><td>&hellip;</td><td>&hellip;</td><td>&hellip;</td><td>&hellip;</td><td>&hellip;</td><td>&hellip;</td><td>&hellip;</td><td>&hellip;</td><td>&hellip;</td><td>&hellip;</td><td>&hellip;</td><td>&hellip;</td></tr><tr><td>&quot;176 ถนน เทอดดำ…</td><td>&quot;https://storag…</td><td>0</td><td>&quot;ไม่มีเจ้าหน้าท…</td><td>&quot;2023-01-04 05:…</td><td>&quot;ฝ่ายรักษาความส…</td><td>&quot;กรุงเทพมหานคร&quot;</td><td>&quot;https://storag…</td><td>[&quot;ความสะอาด&quot;]</td><td>&quot;เสร็จสิ้น&quot;</td><td>&quot;2023-6ZVUAX&quot;</td><td>2023-01-03 04:21:30.712477 +00:00</td><td>&quot;ความสะอาด&quot;</td><td>100.528839</td><td>13.77972</td></tr><tr><td>&quot;56/4 ซอย พหลโย…</td><td>null</td><td>0</td><td>&quot;สายไฟ สายมือถื…</td><td>&quot;2022-11-01 22:…</td><td>&quot;เขตจตุจักร ส่ง…</td><td>&quot;กรุงเทพมหานคร&quot;</td><td>&quot;https://storag…</td><td>[&quot;ความปลอดภัย&quot;, &quot;สายไฟ&quot;]</td><td>&quot;รอรับเรื่อง&quot;</td><td>&quot;2022-9UFN9Q&quot;</td><td>2022-11-01 15:17:57.016644 +00:00</td><td>&quot;ความปลอดภัย,สา…</td><td>100.580711</td><td>13.8516</td></tr><tr><td>&quot;273 ถ. สาทรใต้…</td><td>&quot;https://storag…</td><td>0</td><td>&quot;รถบรรทุกไม่คุม…</td><td>&quot;2023-03-30 11:…</td><td>&quot;นาวา6606 ประชา…</td><td>&quot;กรุงเทพมหานคร&quot;</td><td>&quot;https://storag…</td><td>[&quot;ถนน&quot;]</td><td>&quot;เสร็จสิ้น&quot;</td><td>&quot;2023-AFVUQK&quot;</td><td>2023-03-29 05:40:43.662107 +00:00</td><td>&quot;ถนน&quot;</td><td>100.517967</td><td>13.71805</td></tr><tr><td>&quot;188 ถ. กาญจนาภ…</td><td>null</td><td>0</td><td>&quot;หมู่บ้านจัดสรร…</td><td>&quot;2023-05-01 10:…</td><td>&quot;เขตสายไหม ส่งต…</td><td>&quot;กรุงเทพมหานคร&quot;</td><td>&quot;https://storag…</td><td>[&quot;ถนน&quot;, &quot;PM2.5&quot;, &quot;ความปลอดภัย&quot;]</td><td>&quot;ส่งต่อ(ใหม่)&quot;</td><td>&quot;2023-9DPUX9&quot;</td><td>2023-03-16 01:02:06.088940 +00:00</td><td>&quot;ถนน,PM2.5,ความ…</td><td>100.683777</td><td>13.88039</td></tr><tr><td>&quot;3981 ถนน มิตรไ…</td><td>&quot;https://storag…</td><td>0</td><td>&quot;à¹à¸à¹à¸à¸…</td><td>&quot;2022-09-10 03:…</td><td>&quot;ดำเนินการประสา…</td><td>&quot;กรุงเทพมหานคร&quot;</td><td>&quot;https://storag…</td><td>[&quot;ถนน&quot;]</td><td>&quot;เสร็จสิ้น&quot;</td><td>&quot;2022-G3FE3H&quot;</td><td>2022-09-08 10:05:03.281507 +00:00</td><td>&quot;ถนน&quot;</td><td>100.55542</td><td>13.76747</td></tr><tr><td>&quot;165/6 ซ.รามอิน…</td><td>null</td><td>null</td><td>&quot;à¸£à¸²à¸¡à¸­à¸…</td><td>&quot;2022-07-06 13:…</td><td>&quot;กรณีนี้ได้แจ้ง…</td><td>&quot;กรุงเทพมหานคร&quot;</td><td>&quot;https://storag…</td><td>[]</td><td>&quot;เสร็จสิ้น&quot;</td><td>&quot;2022-773LBW&quot;</td><td>2022-06-16 05:40:42.080152 +00:00</td><td>null</td><td>100.627869</td><td>13.87834</td></tr><tr><td>&quot;10 ก ซอย วิภาว…</td><td>&quot;https://storag…</td><td>3</td><td>&quot;จอดเป็นซากแบบน…</td><td>&quot;2022-10-15 11:…</td><td>&quot;เรื่องซ้ำ ส่งเ…</td><td>&quot;กรุงเทพมหานคร&quot;</td><td>&quot;https://storag…</td><td>[]</td><td>&quot;เสร็จสิ้น&quot;</td><td>&quot;2022-3NFDNX&quot;</td><td>2022-08-21 09:39:27.330031 +00:00</td><td>null</td><td>100.554001</td><td>13.82602</td></tr><tr><td>&quot;43/1 ถนน ประชา…</td><td>null</td><td>null</td><td>&quot;ไฟฟ้า&quot;</td><td>&quot;2023-04-12 22:…</td><td>&quot;ð£à¸ªà¸³à¸à…</td><td>&quot;กรุงเทพมหานคร&quot;</td><td>&quot;https://storag…</td><td>[]</td><td>&quot;กำลังดำเนินการ…</td><td>&quot;2022-NZX96Z&quot;</td><td>2022-07-20 16:09:59.876518 +00:00</td><td>null</td><td>100.5634</td><td>13.77185</td></tr><tr><td>&quot;17/5 ถ. นครลุง…</td><td>null</td><td>null</td><td>&quot;ตอนกลางคืนมืดเ…</td><td>&quot;2022-12-20 02:…</td><td>&quot;สำนักการโยธา ก…</td><td>&quot;สำนักการโยธา ก…</td><td>&quot;https://storag…</td><td>[&quot;แสงสว่าง&quot;]</td><td>&quot;กำลังดำเนินการ…</td><td>&quot;2022-NCPT6D&quot;</td><td>2022-07-03 12:12:36.058991 +00:00</td><td>&quot;แสงสว่าง&quot;</td><td>100.375702</td><td>13.73189</td></tr><tr><td>&quot;1301 ถ. พหลโยธ…</td><td>&quot;https://storag…</td><td>1</td><td>&quot;ซ่อม ทางเท้าไม…</td><td>&quot;2023-03-01 06:…</td><td>&quot;ð£à¸ªà¸³à¸à…</td><td>&quot;กรุงเทพมหานคร&quot;</td><td>&quot;https://storag…</td><td>[&quot;ทางเท้า&quot;]</td><td>&quot;ส่งต่อ(ใหม่)&quot;</td><td>&quot;2023-KLVX9Z&quot;</td><td>2023-02-09 09:57:32.103753 +00:00</td><td>&quot;ทางเท้า&quot;</td><td>100.547234</td><td>13.78716</td></tr><tr><td>&quot;4 มิตรไมตรี 6 …</td><td>&quot;https://storag…</td><td>null</td><td>&quot;บริเวณหน้าร้าน…</td><td>&quot;2023-01-25 07:…</td><td>&quot;สำนักการโยธา ไ…</td><td>&quot;กรุงเทพมหานคร&quot;</td><td>&quot;https://storag…</td><td>[&quot;ถนน&quot;, &quot;ความปลอดภัย&quot;]</td><td>&quot;เสร็จสิ้น&quot;</td><td>&quot;2022-4PGL6F&quot;</td><td>2022-07-18 13:12:54.294093 +00:00</td><td>&quot;ถนน,ความปลอดภั…</td><td>100.853104</td><td>13.85946</td></tr><tr><td>&quot;PF79+P2V ซอยวิ…</td><td>null</td><td>0</td><td>&quot;ไฟสาธารณะ ถนน …</td><td>&quot;2023-03-01 02:…</td><td>&quot;เข้าตรวจสอบและ…</td><td>&quot;กรุงเทพมหานคร&quot;</td><td>&quot;https://storag…</td><td>[&quot;ถนน&quot;, &quot;ความปลอดภัย&quot;]</td><td>&quot;ส่งต่อ(ใหม่)&quot;</td><td>&quot;2023-7FCKE8&quot;</td><td>2023-02-28 13:46:26.307290 +00:00</td><td>&quot;ถนน,ความปลอดภั…</td><td>100.467537</td><td>13.71414</td></tr></tbody></table></div>"
      ],
      "text/plain": [
       "shape: (270_802, 15)\n",
       "┌────────────┬───────────┬────────────┬───────────┬───┬─────────┬───────────┬───────────┬──────────┐\n",
       "│ address    ┆ after_pho ┆ count_reop ┆ descripti ┆ … ┆ timesta ┆ type      ┆ lon       ┆ lat      │\n",
       "│ ---        ┆ to        ┆ en         ┆ on        ┆   ┆ mp      ┆ ---       ┆ ---       ┆ ---      │\n",
       "│ str        ┆ ---       ┆ ---        ┆ ---       ┆   ┆ ---     ┆ str       ┆ f32       ┆ f32      │\n",
       "│            ┆ str       ┆ i32        ┆ str       ┆   ┆ datetim ┆           ┆           ┆          │\n",
       "│            ┆           ┆            ┆           ┆   ┆ e[ns,   ┆           ┆           ┆          │\n",
       "│            ┆           ┆            ┆           ┆   ┆ +00:00] ┆           ┆           ┆          │\n",
       "╞════════════╪═══════════╪════════════╪═══════════╪═══╪═════════╪═══════════╪═══════════╪══════════╡\n",
       "│ 227 ซอย    ┆ https://s ┆ 0          ┆ 1.à¸à¸±à  ┆ … ┆ 2023-01 ┆ ถนน,สะพาน ┆ 100.47718 ┆ 13.71201 │\n",
       "│ เทอดไท 33  ┆ torage.go ┆            ┆ ¸à¸«à¸² : ┆   ┆ -15 08: ┆ ,คลอง     ┆           ┆          │\n",
       "│ แขวง       ┆ ogleapis. ┆            ┆ à¸¡à¸µà¸  ┆   ┆ 06:58.4 ┆           ┆           ┆          │\n",
       "│ ดาวคะนอง … ┆ com/t…    ┆            ┆ à¸…       ┆   ┆ 35364   ┆           ┆           ┆          │\n",
       "│            ┆           ┆            ┆           ┆   ┆ +00:0…  ┆           ┆           ┆          │\n",
       "│ 14 192 ซอย ┆ https://s ┆ 0          ┆ à¸à¸±à¸   ┆ … ┆ 2023-02 ┆ กีดขวาง    ┆ 100.66832 ┆ 13.86063 │\n",
       "│ คู้บอน 27    ┆ torage.go ┆            ┆ à¸«à¸²:à¸ ┆   ┆ -28 02: ┆           ┆ 7         ┆          │\n",
       "│ แยก 10     ┆ ogleapis. ┆            ┆ à¸±à¹à¸   ┆   ┆ 05:30.3 ┆           ┆           ┆          │\n",
       "│ แขวง…      ┆ com/t…    ┆            ┆ à¸§à…     ┆   ┆ 58285   ┆           ┆           ┆          │\n",
       "│            ┆           ┆            ┆           ┆   ┆ +00:0…  ┆           ┆           ┆          │\n",
       "│ บางแค 10   ┆ null      ┆ 0          ┆ à¸à¸±à¸   ┆ … ┆ 2023-02 ┆ ถนน,แสงสว่ ┆ 100.41671 ┆ 13.69708 │\n",
       "│ แยกซอยร่วมใ ┆           ┆            ┆ à¸«à¸²:à¹ ┆   ┆ -14 05: ┆ าง        ┆ 8         ┆          │\n",
       "│ จ บางแค    ┆           ┆            ┆ à¸à¸ªà¹   ┆   ┆ 51:50.7 ┆           ┆           ┆          │\n",
       "│ บางแ…      ┆           ┆            ┆ à¸­à…     ┆   ┆ 91465   ┆           ┆           ┆          │\n",
       "│            ┆           ┆            ┆           ┆   ┆ +00:0…  ┆           ┆           ┆          │\n",
       "│ 522 ถนน    ┆ null      ┆ 0          ┆ à¸à¸­à¸   ┆ … ┆ 2022-12 ┆ null      ┆ 100.49414 ┆ 13.72973 │\n",
       "│ ประชาธิปก   ┆           ┆            ┆ à¸à¸´à¸   ┆   ┆ -08 05: ┆           ┆ 1         ┆          │\n",
       "│ แขวง       ┆           ┆            ┆ à¹à¸à¸§   ┆   ┆ 34:29.3 ┆           ┆           ┆          │\n",
       "│ หิรัญรูจี…     ┆           ┆            ┆ à¸à¸…     ┆   ┆ 66206   ┆           ┆           ┆          │\n",
       "│            ┆           ┆            ┆           ┆   ┆ +00:0…  ┆           ┆           ┆          │\n",
       "│ …          ┆ …         ┆ …          ┆ …         ┆ … ┆ …       ┆ …         ┆ …         ┆ …        │\n",
       "│ 17/5 ถ.    ┆ null      ┆ null       ┆ ตอนกลางคืน ┆ … ┆ 2022-07 ┆ แสงสว่าง   ┆ 100.37570 ┆ 13.73189 │\n",
       "│ นครลุง 15   ┆           ┆            ┆ มืดเลยค่ะ   ┆   ┆ -03 12: ┆           ┆ 2         ┆          │\n",
       "│ แขวง บางไผ่ ┆           ┆            ┆           ┆   ┆ 12:36.0 ┆           ┆           ┆          │\n",
       "│ เข…        ┆           ┆            ┆           ┆   ┆ 58991   ┆           ┆           ┆          │\n",
       "│            ┆           ┆            ┆           ┆   ┆ +00:0…  ┆           ┆           ┆          │\n",
       "│ 1301 ถ.    ┆ https://s ┆ 1          ┆ ซ่อม ทางเท้ ┆ … ┆ 2023-02 ┆ ทางเท้า    ┆ 100.54723 ┆ 13.78716 │\n",
       "│ พหลโยธิน    ┆ torage.go ┆            ┆ าไม่ได้มาตร ┆   ┆ -09 09: ┆           ┆ 4         ┆          │\n",
       "│ แขวงสามเสน ┆ ogleapis. ┆            ┆ าฐาน      ┆   ┆ 57:32.1 ┆           ┆           ┆          │\n",
       "│ ใน เข…     ┆ com/t…    ┆            ┆           ┆   ┆ 03753   ┆           ┆           ┆          │\n",
       "│            ┆           ┆            ┆           ┆   ┆ +00:0…  ┆           ┆           ┆          │\n",
       "│ 4 มิตรไมตรี  ┆ https://s ┆ null       ┆ บริเวณหน้าร้ ┆ … ┆ 2022-07 ┆ ถนน,ความป ┆ 100.85310 ┆ 13.85946 │\n",
       "│ 6 แขวง     ┆ torage.go ┆            ┆ านซีเจ     ┆   ┆ -18 13: ┆ ลอดภัย     ┆ 4         ┆          │\n",
       "│ หนองจอก    ┆ ogleapis. ┆            ┆ ถ.มิตรไมตรี ┆   ┆ 12:54.2 ┆           ┆           ┆          │\n",
       "│ เขต ห…     ┆ com/t…    ┆            ┆ ห…        ┆   ┆ 94093   ┆           ┆           ┆          │\n",
       "│            ┆           ┆            ┆           ┆   ┆ +00:0…  ┆           ┆           ┆          │\n",
       "│ PF79+P2V   ┆ null      ┆ 0          ┆ ไฟสาธารณะ ┆ … ┆ 2023-02 ┆ ถนน,ความป ┆ 100.46753 ┆ 13.71414 │\n",
       "│ ซอยวิ่งวัว    ┆           ┆            ┆ ถนน led   ┆   ┆ -28 13: ┆ ลอดภัย     ┆ 7         ┆          │\n",
       "│ แขวง บางค้อ ┆           ┆            ┆ ดับหลายดวง ┆   ┆ 46:26.3 ┆           ┆           ┆          │\n",
       "│ …          ┆           ┆            ┆ เริ…       ┆   ┆ 07290   ┆           ┆           ┆          │\n",
       "│            ┆           ┆            ┆           ┆   ┆ +00:0…  ┆           ┆           ┆          │\n",
       "└────────────┴───────────┴────────────┴───────────┴───┴─────────┴───────────┴───────────┴──────────┘"
      ]
     },
     "execution_count": 6,
     "metadata": {},
     "output_type": "execute_result"
    }
   ],
   "source": [
    "df"
   ]
  },
  {
   "cell_type": "code",
   "execution_count": 48,
   "metadata": {},
   "outputs": [
    {
     "data": {
      "text/html": [
       "<div><style>\n",
       ".dataframe > thead > tr > th,\n",
       ".dataframe > tbody > tr > td {\n",
       "  text-align: right;\n",
       "}\n",
       "</style>\n",
       "<small>shape: (887, 25)</small><table border=\"1\" class=\"dataframe\"><thead><tr><th>id</th><th>photo</th><th>type_PM2.5</th><th>type_การเดินทาง</th><th>type_กีดขวาง</th><th>type_คนจรจัด</th><th>type_คลอง</th><th>type_ความปลอดภัย</th><th>type_ความสะอาด</th><th>type_จราจร</th><th>type_ต้นไม้</th><th>type_ถนน</th><th>type_ทางเท้า</th><th>type_ท่อระบายน้ำ</th><th>type_น้ำท่วม</th><th>type_ป้าย</th><th>type_ร้องเรียน</th><th>type_สอบถาม</th><th>type_สะพาน</th><th>type_สัตว์จรจัด</th><th>type_สายไฟ</th><th>type_ห้องน้ำ</th><th>type_เสนอแนะ</th><th>type_เสียงรบกวน</th><th>type_แสงสว่าง</th></tr><tr><td>str</td><td>str</td><td>i64</td><td>i64</td><td>i64</td><td>i64</td><td>i64</td><td>i64</td><td>i64</td><td>i64</td><td>i64</td><td>i64</td><td>i64</td><td>i64</td><td>i64</td><td>i64</td><td>i64</td><td>i64</td><td>i64</td><td>i64</td><td>i64</td><td>i64</td><td>i64</td><td>i64</td><td>i64</td></tr></thead><tbody><tr><td>&quot;2023-DKRHHE&quot;</td><td>&quot;https://storag…</td><td>0</td><td>0</td><td>1</td><td>0</td><td>0</td><td>0</td><td>0</td><td>0</td><td>0</td><td>0</td><td>0</td><td>0</td><td>0</td><td>0</td><td>0</td><td>0</td><td>0</td><td>0</td><td>0</td><td>0</td><td>0</td><td>0</td><td>0</td></tr><tr><td>&quot;2023-GF4F9E&quot;</td><td>&quot;https://storag…</td><td>0</td><td>0</td><td>1</td><td>0</td><td>0</td><td>0</td><td>0</td><td>0</td><td>0</td><td>0</td><td>0</td><td>0</td><td>0</td><td>0</td><td>0</td><td>0</td><td>0</td><td>0</td><td>0</td><td>0</td><td>0</td><td>0</td><td>0</td></tr><tr><td>&quot;2023-HTMN7H&quot;</td><td>&quot;https://storag…</td><td>0</td><td>0</td><td>0</td><td>0</td><td>0</td><td>0</td><td>0</td><td>0</td><td>0</td><td>0</td><td>0</td><td>0</td><td>0</td><td>0</td><td>1</td><td>0</td><td>0</td><td>0</td><td>0</td><td>0</td><td>0</td><td>0</td><td>0</td></tr><tr><td>&quot;2023-GMUFY6&quot;</td><td>&quot;https://storag…</td><td>0</td><td>0</td><td>0</td><td>0</td><td>0</td><td>0</td><td>0</td><td>0</td><td>0</td><td>0</td><td>1</td><td>0</td><td>0</td><td>0</td><td>0</td><td>0</td><td>0</td><td>0</td><td>0</td><td>0</td><td>0</td><td>0</td><td>0</td></tr><tr><td>&quot;2023-3FT8MN&quot;</td><td>&quot;https://storag…</td><td>0</td><td>0</td><td>0</td><td>0</td><td>0</td><td>0</td><td>0</td><td>0</td><td>0</td><td>0</td><td>1</td><td>0</td><td>0</td><td>0</td><td>0</td><td>0</td><td>0</td><td>0</td><td>0</td><td>0</td><td>0</td><td>0</td><td>0</td></tr><tr><td>&quot;2023-HM3AGT&quot;</td><td>&quot;https://storag…</td><td>0</td><td>0</td><td>0</td><td>0</td><td>0</td><td>0</td><td>0</td><td>0</td><td>0</td><td>1</td><td>0</td><td>0</td><td>0</td><td>0</td><td>0</td><td>0</td><td>0</td><td>0</td><td>0</td><td>0</td><td>0</td><td>0</td><td>0</td></tr><tr><td>&quot;2023-6AYZMA&quot;</td><td>&quot;https://storag…</td><td>0</td><td>0</td><td>0</td><td>0</td><td>0</td><td>0</td><td>0</td><td>0</td><td>0</td><td>0</td><td>0</td><td>1</td><td>0</td><td>0</td><td>0</td><td>0</td><td>0</td><td>0</td><td>0</td><td>0</td><td>0</td><td>0</td><td>0</td></tr><tr><td>&quot;2023-K3FQWZ&quot;</td><td>&quot;https://storag…</td><td>0</td><td>0</td><td>0</td><td>0</td><td>0</td><td>0</td><td>0</td><td>0</td><td>0</td><td>0</td><td>0</td><td>1</td><td>0</td><td>0</td><td>0</td><td>0</td><td>0</td><td>0</td><td>0</td><td>0</td><td>0</td><td>0</td><td>0</td></tr><tr><td>&quot;2023-CVY2TY&quot;</td><td>&quot;https://storag…</td><td>0</td><td>0</td><td>0</td><td>0</td><td>0</td><td>0</td><td>0</td><td>0</td><td>0</td><td>0</td><td>0</td><td>0</td><td>0</td><td>0</td><td>0</td><td>0</td><td>1</td><td>0</td><td>0</td><td>0</td><td>0</td><td>0</td><td>1</td></tr><tr><td>&quot;2023-BQRWAD&quot;</td><td>&quot;https://storag…</td><td>0</td><td>0</td><td>0</td><td>0</td><td>0</td><td>0</td><td>0</td><td>0</td><td>0</td><td>0</td><td>1</td><td>0</td><td>0</td><td>0</td><td>0</td><td>0</td><td>0</td><td>0</td><td>0</td><td>0</td><td>0</td><td>0</td><td>0</td></tr><tr><td>&quot;2023-KNHZDM&quot;</td><td>&quot;https://storag…</td><td>0</td><td>0</td><td>0</td><td>0</td><td>0</td><td>0</td><td>0</td><td>0</td><td>0</td><td>0</td><td>1</td><td>0</td><td>0</td><td>0</td><td>0</td><td>0</td><td>0</td><td>0</td><td>0</td><td>0</td><td>0</td><td>0</td><td>0</td></tr><tr><td>&quot;EDWYYR&quot;</td><td>&quot;https://storag…</td><td>0</td><td>0</td><td>0</td><td>0</td><td>0</td><td>0</td><td>0</td><td>0</td><td>0</td><td>0</td><td>0</td><td>0</td><td>0</td><td>0</td><td>1</td><td>0</td><td>0</td><td>0</td><td>0</td><td>0</td><td>0</td><td>0</td><td>0</td></tr><tr><td>&hellip;</td><td>&hellip;</td><td>&hellip;</td><td>&hellip;</td><td>&hellip;</td><td>&hellip;</td><td>&hellip;</td><td>&hellip;</td><td>&hellip;</td><td>&hellip;</td><td>&hellip;</td><td>&hellip;</td><td>&hellip;</td><td>&hellip;</td><td>&hellip;</td><td>&hellip;</td><td>&hellip;</td><td>&hellip;</td><td>&hellip;</td><td>&hellip;</td><td>&hellip;</td><td>&hellip;</td><td>&hellip;</td><td>&hellip;</td><td>&hellip;</td></tr><tr><td>&quot;2023-6YVXL9&quot;</td><td>&quot;https://storag…</td><td>0</td><td>0</td><td>0</td><td>0</td><td>0</td><td>0</td><td>0</td><td>0</td><td>0</td><td>0</td><td>0</td><td>0</td><td>0</td><td>0</td><td>0</td><td>0</td><td>0</td><td>0</td><td>0</td><td>0</td><td>0</td><td>0</td><td>1</td></tr><tr><td>&quot;43G4UL&quot;</td><td>&quot;https://storag…</td><td>0</td><td>0</td><td>0</td><td>0</td><td>0</td><td>0</td><td>0</td><td>0</td><td>0</td><td>1</td><td>0</td><td>0</td><td>0</td><td>0</td><td>0</td><td>0</td><td>0</td><td>0</td><td>0</td><td>0</td><td>0</td><td>0</td><td>0</td></tr><tr><td>&quot;2023-MRVEP4&quot;</td><td>&quot;https://storag…</td><td>0</td><td>0</td><td>0</td><td>0</td><td>0</td><td>0</td><td>0</td><td>0</td><td>0</td><td>0</td><td>0</td><td>0</td><td>0</td><td>1</td><td>1</td><td>0</td><td>0</td><td>0</td><td>0</td><td>1</td><td>0</td><td>0</td><td>0</td></tr><tr><td>&quot;N2DMF7&quot;</td><td>&quot;https://storag…</td><td>0</td><td>0</td><td>0</td><td>0</td><td>1</td><td>0</td><td>0</td><td>0</td><td>0</td><td>1</td><td>0</td><td>0</td><td>0</td><td>0</td><td>0</td><td>0</td><td>0</td><td>0</td><td>0</td><td>0</td><td>0</td><td>1</td><td>0</td></tr><tr><td>&quot;2023-9PBPQV&quot;</td><td>&quot;https://storag…</td><td>0</td><td>0</td><td>0</td><td>0</td><td>1</td><td>0</td><td>0</td><td>0</td><td>0</td><td>0</td><td>0</td><td>0</td><td>0</td><td>0</td><td>0</td><td>0</td><td>1</td><td>0</td><td>1</td><td>0</td><td>0</td><td>0</td><td>0</td></tr><tr><td>&quot;2023-NU6RLE&quot;</td><td>&quot;https://storag…</td><td>0</td><td>0</td><td>0</td><td>0</td><td>0</td><td>1</td><td>0</td><td>0</td><td>0</td><td>0</td><td>0</td><td>0</td><td>0</td><td>0</td><td>0</td><td>0</td><td>0</td><td>0</td><td>0</td><td>0</td><td>0</td><td>0</td><td>0</td></tr><tr><td>&quot;2023-E43AFF&quot;</td><td>&quot;https://storag…</td><td>0</td><td>0</td><td>1</td><td>0</td><td>0</td><td>0</td><td>0</td><td>0</td><td>0</td><td>0</td><td>0</td><td>0</td><td>0</td><td>0</td><td>0</td><td>0</td><td>0</td><td>0</td><td>0</td><td>0</td><td>0</td><td>0</td><td>0</td></tr><tr><td>&quot;2023-FBTZH9&quot;</td><td>&quot;https://storag…</td><td>0</td><td>0</td><td>0</td><td>0</td><td>0</td><td>0</td><td>0</td><td>1</td><td>0</td><td>0</td><td>0</td><td>0</td><td>0</td><td>0</td><td>0</td><td>0</td><td>0</td><td>0</td><td>0</td><td>0</td><td>0</td><td>0</td><td>0</td></tr><tr><td>&quot;2023-LKRLVK&quot;</td><td>&quot;https://storag…</td><td>0</td><td>0</td><td>0</td><td>0</td><td>0</td><td>0</td><td>0</td><td>1</td><td>0</td><td>1</td><td>0</td><td>0</td><td>0</td><td>0</td><td>0</td><td>0</td><td>0</td><td>0</td><td>0</td><td>0</td><td>0</td><td>0</td><td>0</td></tr><tr><td>&quot;2023-66TGF2&quot;</td><td>&quot;https://storag…</td><td>0</td><td>0</td><td>0</td><td>0</td><td>0</td><td>0</td><td>0</td><td>0</td><td>0</td><td>1</td><td>0</td><td>0</td><td>0</td><td>0</td><td>0</td><td>0</td><td>0</td><td>0</td><td>0</td><td>0</td><td>0</td><td>0</td><td>0</td></tr><tr><td>&quot;2023-9UT947&quot;</td><td>&quot;https://storag…</td><td>0</td><td>0</td><td>0</td><td>0</td><td>0</td><td>0</td><td>0</td><td>0</td><td>0</td><td>0</td><td>0</td><td>0</td><td>0</td><td>0</td><td>0</td><td>0</td><td>0</td><td>0</td><td>0</td><td>0</td><td>0</td><td>1</td><td>0</td></tr><tr><td>&quot;8PELXP&quot;</td><td>&quot;https://storag…</td><td>0</td><td>0</td><td>1</td><td>0</td><td>0</td><td>0</td><td>0</td><td>0</td><td>0</td><td>1</td><td>0</td><td>0</td><td>0</td><td>0</td><td>0</td><td>0</td><td>0</td><td>0</td><td>0</td><td>0</td><td>0</td><td>0</td><td>0</td></tr></tbody></table></div>"
      ],
      "text/plain": [
       "shape: (887, 25)\n",
       "┌─────────┬────────┬──────────┬────────────┬───┬────────────┬────────────┬────────────┬────────────┐\n",
       "│ id      ┆ photo  ┆ type_PM2 ┆ type_การเดิ ┆ … ┆ type_ห้องน้ำ ┆ type_เสนอแ ┆ type_เสียงร ┆ type_แสงสว่ │\n",
       "│ ---     ┆ ---    ┆ .5       ┆ นทาง       ┆   ┆ ---        ┆ นะ         ┆ บกวน       ┆ าง         │\n",
       "│ str     ┆ str    ┆ ---      ┆ ---        ┆   ┆ i64        ┆ ---        ┆ ---        ┆ ---        │\n",
       "│         ┆        ┆ i64      ┆ i64        ┆   ┆            ┆ i64        ┆ i64        ┆ i64        │\n",
       "╞═════════╪════════╪══════════╪════════════╪═══╪════════════╪════════════╪════════════╪════════════╡\n",
       "│ 2023-DK ┆ https: ┆ 0        ┆ 0          ┆ … ┆ 0          ┆ 0          ┆ 0          ┆ 0          │\n",
       "│ RHHE    ┆ //stor ┆          ┆            ┆   ┆            ┆            ┆            ┆            │\n",
       "│         ┆ age.go ┆          ┆            ┆   ┆            ┆            ┆            ┆            │\n",
       "│         ┆ ogleap ┆          ┆            ┆   ┆            ┆            ┆            ┆            │\n",
       "│         ┆ is.com ┆          ┆            ┆   ┆            ┆            ┆            ┆            │\n",
       "│         ┆ /t…    ┆          ┆            ┆   ┆            ┆            ┆            ┆            │\n",
       "│ 2023-GF ┆ https: ┆ 0        ┆ 0          ┆ … ┆ 0          ┆ 0          ┆ 0          ┆ 0          │\n",
       "│ 4F9E    ┆ //stor ┆          ┆            ┆   ┆            ┆            ┆            ┆            │\n",
       "│         ┆ age.go ┆          ┆            ┆   ┆            ┆            ┆            ┆            │\n",
       "│         ┆ ogleap ┆          ┆            ┆   ┆            ┆            ┆            ┆            │\n",
       "│         ┆ is.com ┆          ┆            ┆   ┆            ┆            ┆            ┆            │\n",
       "│         ┆ /t…    ┆          ┆            ┆   ┆            ┆            ┆            ┆            │\n",
       "│ 2023-HT ┆ https: ┆ 0        ┆ 0          ┆ … ┆ 0          ┆ 0          ┆ 0          ┆ 0          │\n",
       "│ MN7H    ┆ //stor ┆          ┆            ┆   ┆            ┆            ┆            ┆            │\n",
       "│         ┆ age.go ┆          ┆            ┆   ┆            ┆            ┆            ┆            │\n",
       "│         ┆ ogleap ┆          ┆            ┆   ┆            ┆            ┆            ┆            │\n",
       "│         ┆ is.com ┆          ┆            ┆   ┆            ┆            ┆            ┆            │\n",
       "│         ┆ /t…    ┆          ┆            ┆   ┆            ┆            ┆            ┆            │\n",
       "│ 2023-GM ┆ https: ┆ 0        ┆ 0          ┆ … ┆ 0          ┆ 0          ┆ 0          ┆ 0          │\n",
       "│ UFY6    ┆ //stor ┆          ┆            ┆   ┆            ┆            ┆            ┆            │\n",
       "│         ┆ age.go ┆          ┆            ┆   ┆            ┆            ┆            ┆            │\n",
       "│         ┆ ogleap ┆          ┆            ┆   ┆            ┆            ┆            ┆            │\n",
       "│         ┆ is.com ┆          ┆            ┆   ┆            ┆            ┆            ┆            │\n",
       "│         ┆ /t…    ┆          ┆            ┆   ┆            ┆            ┆            ┆            │\n",
       "│ …       ┆ …      ┆ …        ┆ …          ┆ … ┆ …          ┆ …          ┆ …          ┆ …          │\n",
       "│ 2023-LK ┆ https: ┆ 0        ┆ 0          ┆ … ┆ 0          ┆ 0          ┆ 0          ┆ 0          │\n",
       "│ RLVK    ┆ //stor ┆          ┆            ┆   ┆            ┆            ┆            ┆            │\n",
       "│         ┆ age.go ┆          ┆            ┆   ┆            ┆            ┆            ┆            │\n",
       "│         ┆ ogleap ┆          ┆            ┆   ┆            ┆            ┆            ┆            │\n",
       "│         ┆ is.com ┆          ┆            ┆   ┆            ┆            ┆            ┆            │\n",
       "│         ┆ /t…    ┆          ┆            ┆   ┆            ┆            ┆            ┆            │\n",
       "│ 2023-66 ┆ https: ┆ 0        ┆ 0          ┆ … ┆ 0          ┆ 0          ┆ 0          ┆ 0          │\n",
       "│ TGF2    ┆ //stor ┆          ┆            ┆   ┆            ┆            ┆            ┆            │\n",
       "│         ┆ age.go ┆          ┆            ┆   ┆            ┆            ┆            ┆            │\n",
       "│         ┆ ogleap ┆          ┆            ┆   ┆            ┆            ┆            ┆            │\n",
       "│         ┆ is.com ┆          ┆            ┆   ┆            ┆            ┆            ┆            │\n",
       "│         ┆ /t…    ┆          ┆            ┆   ┆            ┆            ┆            ┆            │\n",
       "│ 2023-9U ┆ https: ┆ 0        ┆ 0          ┆ … ┆ 0          ┆ 0          ┆ 1          ┆ 0          │\n",
       "│ T947    ┆ //stor ┆          ┆            ┆   ┆            ┆            ┆            ┆            │\n",
       "│         ┆ age.go ┆          ┆            ┆   ┆            ┆            ┆            ┆            │\n",
       "│         ┆ ogleap ┆          ┆            ┆   ┆            ┆            ┆            ┆            │\n",
       "│         ┆ is.com ┆          ┆            ┆   ┆            ┆            ┆            ┆            │\n",
       "│         ┆ /t…    ┆          ┆            ┆   ┆            ┆            ┆            ┆            │\n",
       "│ 8PELXP  ┆ https: ┆ 0        ┆ 0          ┆ … ┆ 0          ┆ 0          ┆ 0          ┆ 0          │\n",
       "│         ┆ //stor ┆          ┆            ┆   ┆            ┆            ┆            ┆            │\n",
       "│         ┆ age.go ┆          ┆            ┆   ┆            ┆            ┆            ┆            │\n",
       "│         ┆ ogleap ┆          ┆            ┆   ┆            ┆            ┆            ┆            │\n",
       "│         ┆ is.com ┆          ┆            ┆   ┆            ┆            ┆            ┆            │\n",
       "│         ┆ /t…    ┆          ┆            ┆   ┆            ┆            ┆            ┆            │\n",
       "└─────────┴────────┴──────────┴────────────┴───┴────────────┴────────────┴────────────┴────────────┘"
      ]
     },
     "execution_count": 48,
     "metadata": {},
     "output_type": "execute_result"
    }
   ],
   "source": [
    "# Expand `type` column (storing array) into multiple one-hot columns\n",
    "\n",
    "df.select(\n",
    "    col('type').str.strip('{}').str.split(','),\n",
    "    col('photo')\n",
    ").explode('type').to_dummies('type').groupby(['id', 'photo']).sum()"
   ]
  }
 ],
 "metadata": {
  "kernelspec": {
   "display_name": "base",
   "language": "python",
   "name": "python3"
  },
  "language_info": {
   "codemirror_mode": {
    "name": "ipython",
    "version": 3
   },
   "file_extension": ".py",
   "mimetype": "text/x-python",
   "name": "python",
   "nbconvert_exporter": "python",
   "pygments_lexer": "ipython3",
   "version": "3.9.13"
  },
  "orig_nbformat": 4,
  "vscode": {
   "interpreter": {
    "hash": "c9b331834caea015b00ef836b329143fad26c810777fb4cd8b2cec8fd927d17e"
   }
  }
 },
 "nbformat": 4,
 "nbformat_minor": 2
}
