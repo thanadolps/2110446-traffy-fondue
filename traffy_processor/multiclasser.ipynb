{
 "cells": [
  {
   "cell_type": "code",
   "execution_count": 1,
   "metadata": {},
   "outputs": [],
   "source": [
    "import polars as pl\n",
    "from polars import col, lit"
   ]
  },
  {
   "cell_type": "code",
   "execution_count": 2,
   "metadata": {},
   "outputs": [],
   "source": [
    "df = pl.read_ipc('../data/traffy_clean1_data.ipc')\n",
    "# df.describe()"
   ]
  },
  {
   "cell_type": "code",
   "execution_count": 3,
   "metadata": {},
   "outputs": [
    {
     "data": {
      "text/html": [
       "<div><style>\n",
       ".dataframe > thead > tr > th,\n",
       ".dataframe > tbody > tr > td {\n",
       "  text-align: right;\n",
       "}\n",
       "</style>\n",
       "<small>shape: (270_802, 15)</small><table border=\"1\" class=\"dataframe\"><thead><tr><th>address</th><th>after_photo</th><th>count_reopen</th><th>description</th><th>last_activity</th><th>note</th><th>org</th><th>photo_url</th><th>problem_type_abdul</th><th>state</th><th>ticket_id</th><th>timestamp</th><th>type</th><th>lon</th><th>lat</th></tr><tr><td>str</td><td>str</td><td>i32</td><td>str</td><td>str</td><td>str</td><td>str</td><td>str</td><td>list[str]</td><td>str</td><td>str</td><td>datetime[ns, +00:00]</td><td>str</td><td>f32</td><td>f32</td></tr></thead><tbody><tr><td>&quot;22 ซอย อินทาปั…</td><td>&quot;https://storag…</td><td>null</td><td>&quot;เป็นหลุม&quot;</td><td>&quot;2022-07-28 12:…</td><td>&quot;จนท.ฝ่ายโยธาได…</td><td>&quot;กรุงเทพมหานคร&quot;</td><td>&quot;https://storag…</td><td>[]</td><td>&quot;เสร็จสิ้น&quot;</td><td>&quot;2022-BRHYEK&quot;</td><td>2022-07-26 08:58:12.793827 +00:00</td><td>null</td><td>100.38166</td><td>13.69264</td></tr><tr><td>&quot;109 ถนนพระยาสุ…</td><td>&quot;https://storag…</td><td>null</td><td>&quot;คลองระบายนำ้&quot;</td><td>&quot;2022-12-13 10:…</td><td>&quot;รับทราบค่ะ..สำ…</td><td>&quot;กรุงเทพมหานคร&quot;</td><td>&quot;https://storag…</td><td>[&quot;คลอง&quot;]</td><td>&quot;เสร็จสิ้น&quot;</td><td>&quot;2022-KLQKTK&quot;</td><td>2022-07-02 10:36:22.537114 +00:00</td><td>&quot;คลอง&quot;</td><td>100.707626</td><td>13.82916</td></tr><tr><td>&quot;ตรงข้ามหมู่บ้า…</td><td>null</td><td>0</td><td>&quot;รถติดมากบน ถ.พ…</td><td>&quot;2022-11-28 01:…</td><td>&quot;เขตบางขุนเทียน…</td><td>&quot;กรุงเทพมหานคร&quot;</td><td>&quot;https://storag…</td><td>[&quot;จราจร&quot;]</td><td>&quot;รอรับเรื่อง&quot;</td><td>&quot;2022-HEZE7Y&quot;</td><td>2022-11-28 01:45:02.407940 +00:00</td><td>&quot;จราจร&quot;</td><td>100.402946</td><td>13.6361</td></tr><tr><td>&quot;32 ถนน บางแค แ…</td><td>&quot;https://storag…</td><td>0</td><td>&quot;ป้ายกองโจร&quot;</td><td>&quot;2022-09-24 06:…</td><td>&quot;ดำเนินการแก้ไข…</td><td>&quot;กรุงเทพมหานคร&quot;</td><td>&quot;https://storag…</td><td>[]</td><td>&quot;เสร็จสิ้น&quot;</td><td>&quot;2022-3K88WM&quot;</td><td>2022-09-24 01:27:37.099410 +00:00</td><td>null</td><td>100.420937</td><td>13.70942</td></tr><tr><td>&quot;12/103 ซอย เฉล…</td><td>&quot;https://storag…</td><td>null</td><td>&quot;-ขยะร้านอาหารเ…</td><td>&quot;2022-07-31 03:…</td><td>&quot;สำนักงานเขตประ…</td><td>&quot;กรุงเทพมหานคร&quot;</td><td>&quot;https://storag…</td><td>[&quot;ความสะอาด&quot;]</td><td>&quot;เสร็จสิ้น&quot;</td><td>&quot;2022-AML782&quot;</td><td>2022-07-31 03:11:14.025006 +00:00</td><td>&quot;ความสะอาด&quot;</td><td>100.655724</td><td>13.68432</td></tr><tr><td>&quot;571/6 ถ. อโศก …</td><td>null</td><td>null</td><td>&quot;คันกั้นคลองสาม…</td><td>&quot;2022-08-10 01:…</td><td>&quot;อยู่ระหว่างของ…</td><td>&quot;กรุงเทพมหานคร&quot;</td><td>&quot;https://storag…</td><td>[&quot;ความปลอดภัย&quot;, &quot;คลอง&quot;]</td><td>&quot;เสร็จสิ้น&quot;</td><td>&quot;2022-GN8ZUN&quot;</td><td>2022-07-06 08:34:04.199206 +00:00</td><td>&quot;ความปลอดภัย,คล…</td><td>100.561569</td><td>13.75551</td></tr><tr><td>&quot;คลองสาน แขวง ค…</td><td>null</td><td>0</td><td>&quot;จุดรอรถเมล์ รถ…</td><td>&quot;2023-03-26 11:…</td><td>&quot;ช่วยอัพเดทหน่อ…</td><td>&quot;กรุงเทพมหานคร&quot;</td><td>&quot;https://storag…</td><td>[&quot;ป้าย&quot;]</td><td>&quot;ติดตามเรื่อง&quot;</td><td>&quot;2023-CLTRLK&quot;</td><td>2023-01-13 15:46:44.145539 +00:00</td><td>&quot;ป้าย&quot;</td><td>100.507751</td><td>13.73034</td></tr><tr><td>&quot;เลขที่ 89/484 …</td><td>null</td><td>0</td><td>&quot;มีป้ายโฆษณากีด…</td><td>&quot;2023-01-15 13:…</td><td>null</td><td>&quot;เพื่อนชัชชาติ&quot;</td><td>&quot;https://storag…</td><td>[&quot;ทางเท้า&quot;, &quot;กีดขวาง&quot;, &quot;ป้าย&quot;]</td><td>&quot;รอรับเรื่อง&quot;</td><td>&quot;2023-NY6YHM&quot;</td><td>2023-01-15 13:19:53.053838 +00:00</td><td>&quot;ทางเท้า,กีดขวา…</td><td>100.722992</td><td>13.92927</td></tr><tr><td>&quot;39 ซอย นาคนิวา…</td><td>&quot;https://storag…</td><td>0</td><td>&quot;à¸à¸¹à¹à¸£à¸…</td><td>&quot;2022-09-01 03:…</td><td>&quot;สำนักงานเขตลาด…</td><td>&quot;กรุงเทพมหานคร&quot;</td><td>&quot;https://storag…</td><td>[&quot;ถนน&quot;, &quot;น้ำท่วม&quot;]</td><td>&quot;เสร็จสิ้น&quot;</td><td>&quot;2022-MHKXHU&quot;</td><td>2022-08-26 03:50:02.161610 +00:00</td><td>&quot;ถนน,น้ำท่วม&quot;</td><td>100.609459</td><td>13.81046</td></tr><tr><td>&quot;1004/8 พหลโยธิ…</td><td>&quot;https://storag…</td><td>null</td><td>&quot;à¸à¸§à¸£à¸¡à¸…</td><td>&quot;2023-03-10 12:…</td><td>&quot;ได้มีการปรับเป…</td><td>&quot;กรุงเทพมหานคร&quot;</td><td>&quot;https://storag…</td><td>[&quot;ถนน&quot;]</td><td>&quot;เสร็จสิ้น&quot;</td><td>&quot;2022-FH7QKH&quot;</td><td>2022-06-04 06:11:03.830281 +00:00</td><td>&quot;ถนน&quot;</td><td>100.583618</td><td>13.8341</td></tr><tr><td>&quot;414 212 ถ. พุท…</td><td>&quot;https://storag…</td><td>null</td><td>&quot;ต้นไม้ละหลังคา…</td><td>&quot;2022-07-23 09:…</td><td>&quot;ฝ่ายรักษาความส…</td><td>&quot;กรุงเทพมหานคร&quot;</td><td>&quot;https://storag…</td><td>[&quot;ต้นไม้&quot;]</td><td>&quot;เสร็จสิ้น&quot;</td><td>&quot;2022-394V6D&quot;</td><td>2022-07-20 02:41:52.723197 +00:00</td><td>&quot;ต้นไม้&quot;</td><td>100.395432</td><td>13.73963</td></tr><tr><td>&quot;93 ถนน ราชดำเน…</td><td>&quot;https://storag…</td><td>null</td><td>&quot;คนไร้บ้านสร้าง…</td><td>&quot;2022-08-20 04:…</td><td>&quot;à¸à¹à¸²à¸¢à¹…</td><td>&quot;กรุงเทพมหานคร&quot;</td><td>&quot;https://storag…</td><td>[]</td><td>&quot;เสร็จสิ้น&quot;</td><td>&quot;2022-PZAFQY&quot;</td><td>2022-08-19 09:45:09.244126 +00:00</td><td>null</td><td>100.503159</td><td>13.75661</td></tr><tr><td>&hellip;</td><td>&hellip;</td><td>&hellip;</td><td>&hellip;</td><td>&hellip;</td><td>&hellip;</td><td>&hellip;</td><td>&hellip;</td><td>&hellip;</td><td>&hellip;</td><td>&hellip;</td><td>&hellip;</td><td>&hellip;</td><td>&hellip;</td><td>&hellip;</td></tr><tr><td>&quot;à¹à¸à¸£à¸´à¸…</td><td>&quot;https://storag…</td><td>0</td><td>&quot;à¸à¸£à¸¸à¸à¸…</td><td>&quot;2023-03-14 06:…</td><td>&quot;ฝ่ายโยธาได้ดำเ…</td><td>&quot;กรุงเทพมหานคร&quot;</td><td>&quot;https://storag…</td><td>[&quot;ถนน&quot;, &quot;แสงสว่าง&quot;]</td><td>&quot;เสร็จสิ้น&quot;</td><td>&quot;9HNDA3&quot;</td><td>2023-03-10 13:02:21.608840 +00:00</td><td>&quot;ถนน,แสงสว่าง&quot;</td><td>100.5112</td><td>13.70569</td></tr><tr><td>&quot;86/15 ซ. ประทุ…</td><td>&quot;https://storag…</td><td>0</td><td>&quot;ฝาท่อระบายน้ำช…</td><td>&quot;2022-09-03 04:…</td><td>&quot;เขตบางนา เชิญร…</td><td>&quot;กรุงเทพมหานคร&quot;</td><td>&quot;https://storag…</td><td>[&quot;ท่อระบายน้ำ&quot;]</td><td>&quot;เสร็จสิ้น&quot;</td><td>&quot;2022-NETGGP&quot;</td><td>2022-08-27 05:18:50.692546 +00:00</td><td>&quot;ท่อระบายน้ำ&quot;</td><td>100.593971</td><td>13.66745</td></tr><tr><td>&quot;216/1 ถนน พิษณ…</td><td>null</td><td>null</td><td>&quot;สายไฟ สายสื่อส…</td><td>&quot;2023-05-08 08:…</td><td>&quot;à¸à¸£à¸´à¸©à¸…</td><td>&quot;กรุงเทพมหานคร&quot;</td><td>&quot;https://storag…</td><td>[&quot;สายไฟ&quot;]</td><td>&quot;กำลังดำเนินการ…</td><td>&quot;2022-ABDLNZ&quot;</td><td>2022-08-06 04:44:44.687414 +00:00</td><td>&quot;สายไฟ&quot;</td><td>100.51577</td><td>13.76121</td></tr><tr><td>&quot;41 ถนน จรัญสนิ…</td><td>&quot;https://storag…</td><td>null</td><td>&quot;สายไฟไม่เรียบร…</td><td>&quot;2022-07-09 10:…</td><td>&quot;ฝึกทดสอบคนงานใ…</td><td>&quot;กรุงเทพมหานคร&quot;</td><td>&quot;https://storag…</td><td>[&quot;สายไฟ&quot;]</td><td>&quot;เสร็จสิ้น&quot;</td><td>&quot;2022-4HYPT9&quot;</td><td>2022-07-09 02:50:53.113633 +00:00</td><td>&quot;สายไฟ&quot;</td><td>100.505508</td><td>13.79381</td></tr><tr><td>&quot;78 ซอย รักษาดิ…</td><td>&quot;https://storag…</td><td>0</td><td>&quot;แจ้งติดตั้งไฟฟ…</td><td>&quot;2022-10-21 08:…</td><td>&quot;สำนักการจราจรแ…</td><td>&quot;กรุงเทพมหานคร&quot;</td><td>&quot;https://storag…</td><td>[]</td><td>&quot;เสร็จสิ้น&quot;</td><td>&quot;2022-G89RKW&quot;</td><td>2022-10-01 09:52:19.137439 +00:00</td><td>null</td><td>100.520828</td><td>13.78448</td></tr><tr><td>&quot;หมู่บ้านรินทร์…</td><td>&quot;https://storag…</td><td>0</td><td>&quot;ถนนไม่เรียบ&quot;</td><td>&quot;2022-11-02 09:…</td><td>&quot;ทางโครงการรถไฟ…</td><td>&quot;กรุงเทพมหานคร&quot;</td><td>&quot;https://storag…</td><td>[&quot;ถนน&quot;]</td><td>&quot;เสร็จสิ้น&quot;</td><td>&quot;2022-MLA4EC&quot;</td><td>2022-09-21 01:40:56.402287 +00:00</td><td>&quot;ถนน&quot;</td><td>100.725128</td><td>13.80453</td></tr><tr><td>&quot;QJ7W+44R แขวงห…</td><td>null</td><td>0</td><td>&quot;ผู้รับเหมาบริเ…</td><td>&quot;2023-02-04 08:…</td><td>&quot;รฟม รับเรื่องร…</td><td>&quot;กรุงเทพมหานคร&quot;</td><td>&quot;https://storag…</td><td>[&quot;ทางเท้า&quot;, &quot;ป้าย&quot;]</td><td>&quot;ส่งต่อ(ใหม่)&quot;</td><td>&quot;2023-3KG426&quot;</td><td>2023-01-27 06:33:57.117726 +00:00</td><td>&quot;ทางเท้า,ป้าย&quot;</td><td>100.645409</td><td>13.76288</td></tr><tr><td>&quot;1547 ถ. พหลโยธ…</td><td>&quot;https://storag…</td><td>1</td><td>&quot;วางของบนทางเท้…</td><td>&quot;2022-07-20 10:…</td><td>&quot;à¸à¸à¸.à¸à…</td><td>&quot;กรุงเทพมหานคร&quot;</td><td>&quot;https://storag…</td><td>[]</td><td>&quot;เสร็จสิ้น&quot;</td><td>&quot;2022-AFWVTE&quot;</td><td>2022-07-05 11:09:02.877458 +00:00</td><td>null</td><td>100.549469</td><td>13.79356</td></tr><tr><td>&quot;163 15 หมู่ 3 …</td><td>null</td><td>null</td><td>&quot;น้ำในท่อระบายน…</td><td>&quot;2022-06-06 04:…</td><td>null</td><td>&quot;เพื่อนชัชชาติ&quot;</td><td>&quot;https://storag…</td><td>[&quot;ท่อระบายน้ำ&quot;, &quot;ถนน&quot;]</td><td>&quot;รอรับเรื่อง&quot;</td><td>&quot;2022-FBFRWY&quot;</td><td>2022-06-06 04:07:15.999225 +00:00</td><td>&quot;ท่อระบายน้ำ,ถน…</td><td>100.605522</td><td>13.9622</td></tr><tr><td>&quot;184 90 ถ. สุขุ…</td><td>null</td><td>null</td><td>&quot;สะพานเชื่อมต่อ…</td><td>&quot;2022-08-05 07:…</td><td>&quot;สำนักการโยธา ก…</td><td>&quot;กรุงเทพมหานคร&quot;</td><td>&quot;https://storag…</td><td>[&quot;สะพาน&quot;]</td><td>&quot;กำลังดำเนินการ…</td><td>&quot;2022-BBDTWG&quot;</td><td>2022-06-04 15:41:53.280546 +00:00</td><td>&quot;สะพาน&quot;</td><td>100.558479</td><td>13.73176</td></tr><tr><td>&quot;43/1039 ซอย รา…</td><td>&quot;https://storag…</td><td>0</td><td>&quot;กลิ่นเหม็นที่ป…</td><td>&quot;2023-03-08 02:…</td><td>&quot;ได้ตรวจสอบแล้ว…</td><td>&quot;กรุงเทพมหานคร&quot;</td><td>&quot;https://storag…</td><td>[]</td><td>&quot;เสร็จสิ้น&quot;</td><td>&quot;2023-32AMZ3&quot;</td><td>2023-03-03 06:55:47.833544 +00:00</td><td>null</td><td>100.60054</td><td>13.87255</td></tr><tr><td>&quot;1737/2 ถ. ลาดพ…</td><td>&quot;https://storag…</td><td>0</td><td>&quot;ขอขอบคุณที่ซ่อ…</td><td>&quot;2022-09-05 02:…</td><td>&quot;เจ้าหน้าที่รับ…</td><td>&quot;กรุงเทพมหานคร&quot;</td><td>&quot;https://storag…</td><td>[]</td><td>&quot;เสร็จสิ้น&quot;</td><td>&quot;2022-9MNVDB&quot;</td><td>2022-09-05 02:12:58.504376 +00:00</td><td>null</td><td>100.588364</td><td>13.79787</td></tr></tbody></table></div>"
      ],
      "text/plain": [
       "shape: (270_802, 15)\n",
       "┌────────────┬───────────┬────────────┬───────────┬───┬─────────┬───────────┬───────────┬──────────┐\n",
       "│ address    ┆ after_pho ┆ count_reop ┆ descripti ┆ … ┆ timesta ┆ type      ┆ lon       ┆ lat      │\n",
       "│ ---        ┆ to        ┆ en         ┆ on        ┆   ┆ mp      ┆ ---       ┆ ---       ┆ ---      │\n",
       "│ str        ┆ ---       ┆ ---        ┆ ---       ┆   ┆ ---     ┆ str       ┆ f32       ┆ f32      │\n",
       "│            ┆ str       ┆ i32        ┆ str       ┆   ┆ datetim ┆           ┆           ┆          │\n",
       "│            ┆           ┆            ┆           ┆   ┆ e[ns,   ┆           ┆           ┆          │\n",
       "│            ┆           ┆            ┆           ┆   ┆ +00:00] ┆           ┆           ┆          │\n",
       "╞════════════╪═══════════╪════════════╪═══════════╪═══╪═════════╪═══════════╪═══════════╪══════════╡\n",
       "│ 22 ซอย     ┆ https://s ┆ null       ┆ เป็นหลุม    ┆ … ┆ 2022-07 ┆ null      ┆ 100.38166 ┆ 13.69264 │\n",
       "│ อินทาปัจ 15  ┆ torage.go ┆            ┆           ┆   ┆ -26 08: ┆           ┆           ┆          │\n",
       "│ แขวง       ┆ ogleapis. ┆            ┆           ┆   ┆ 58:12.7 ┆           ┆           ┆          │\n",
       "│ หลักสอง …   ┆ com/t…    ┆            ┆           ┆   ┆ 93827   ┆           ┆           ┆          │\n",
       "│            ┆           ┆            ┆           ┆   ┆ +00:0…  ┆           ┆           ┆          │\n",
       "│ 109 ถนนพระ ┆ https://s ┆ null       ┆ คลองระบาย ┆ … ┆ 2022-07 ┆ คลอง      ┆ 100.70762 ┆ 13.82916 │\n",
       "│ ยาสุเรน     ┆ torage.go ┆            ┆ นำ้        ┆   ┆ -02 10: ┆           ┆ 6         ┆          │\n",
       "│ แขวง บางชัน ┆ ogleapis. ┆            ┆           ┆   ┆ 36:22.5 ┆           ┆           ┆          │\n",
       "│ เข…        ┆ com/t…    ┆            ┆           ┆   ┆ 37114   ┆           ┆           ┆          │\n",
       "│            ┆           ┆            ┆           ┆   ┆ +00:0…  ┆           ┆           ┆          │\n",
       "│ ตรงข้ามหมู่บ้า ┆ null      ┆ 0          ┆ รถติดมากบน ┆ … ┆ 2022-11 ┆ จราจร     ┆ 100.40294 ┆ 13.6361  │\n",
       "│ นอมรชัย 4   ┆           ┆            ┆ ถ.พระราม  ┆   ┆ -28 01: ┆           ┆ 6         ┆          │\n",
       "│ แขวง แสม…  ┆           ┆            ┆ 2         ┆   ┆ 45:02.4 ┆           ┆           ┆          │\n",
       "│            ┆           ┆            ┆ ก่อนถึงวงแ… ┆   ┆ 07940   ┆           ┆           ┆          │\n",
       "│            ┆           ┆            ┆           ┆   ┆ +00:0…  ┆           ┆           ┆          │\n",
       "│ 32 ถนน     ┆ https://s ┆ 0          ┆ ป้ายกองโจร ┆ … ┆ 2022-09 ┆ null      ┆ 100.42093 ┆ 13.70942 │\n",
       "│ บางแค แขวง ┆ torage.go ┆            ┆           ┆   ┆ -24 01: ┆           ┆ 7         ┆          │\n",
       "│ บางแค      ┆ ogleapis. ┆            ┆           ┆   ┆ 27:37.0 ┆           ┆           ┆          │\n",
       "│ เขตบางแค…  ┆ com/t…    ┆            ┆           ┆   ┆ 99410   ┆           ┆           ┆          │\n",
       "│            ┆           ┆            ┆           ┆   ┆ +00:0…  ┆           ┆           ┆          │\n",
       "│ …          ┆ …         ┆ …          ┆ …         ┆ … ┆ …       ┆ …         ┆ …         ┆ …        │\n",
       "│ 163 15 หมู่  ┆ null      ┆ null       ┆ น้ำในท่อระบ ┆ … ┆ 2022-06 ┆ ท่อระบายน้ำ ┆ 100.60552 ┆ 13.9622  │\n",
       "│ 3 ถ.       ┆           ┆            ┆ ายน้ำตลอดถ ┆   ┆ -06 04: ┆ ,ถนน      ┆ 2         ┆          │\n",
       "│ กำแพงเพชร  ┆           ┆            ┆ นนสรงประภ ┆   ┆ 07:15.9 ┆           ┆           ┆          │\n",
       "│ 6 ตำบ…     ┆           ┆            ┆ า …       ┆   ┆ 99225   ┆           ┆           ┆          │\n",
       "│            ┆           ┆            ┆           ┆   ┆ +00:0…  ┆           ┆           ┆          │\n",
       "│ 184 90 ถ.  ┆ null      ┆ null       ┆ สะพานเชื่อม ┆ … ┆ 2022-06 ┆ สะพาน     ┆ 100.55847 ┆ 13.73176 │\n",
       "│ สุขุมวิท แขวง ┆           ┆            ┆ ต่อระหว่าง  ┆   ┆ -04 15: ┆           ┆ 9         ┆          │\n",
       "│ คลองเตย …  ┆           ┆            ┆ หลังซอย สุ… ┆   ┆ 41:53.2 ┆           ┆           ┆          │\n",
       "│            ┆           ┆            ┆           ┆   ┆ 80546   ┆           ┆           ┆          │\n",
       "│            ┆           ┆            ┆           ┆   ┆ +00:0…  ┆           ┆           ┆          │\n",
       "│ 43/1039    ┆ https://s ┆ 0          ┆ กลิ่นเหม็นที่ป ┆ … ┆ 2023-03 ┆ null      ┆ 100.60054 ┆ 13.87255 │\n",
       "│ ซอย        ┆ torage.go ┆            ┆ ล่อยมาจากห้ ┆   ┆ -03 06: ┆           ┆           ┆          │\n",
       "│ รามอินทรา 1 ┆ ogleapis. ┆            ┆ างเซนทร…  ┆   ┆ 55:47.8 ┆           ┆           ┆          │\n",
       "│ แขวงอนุส…   ┆ com/t…    ┆            ┆           ┆   ┆ 33544   ┆           ┆           ┆          │\n",
       "│            ┆           ┆            ┆           ┆   ┆ +00:0…  ┆           ┆           ┆          │\n",
       "│ 1737/2 ถ.  ┆ https://s ┆ 0          ┆ ขอขอบคุณที่ซ่ ┆ … ┆ 2022-09 ┆ null      ┆ 100.58836 ┆ 13.79787 │\n",
       "│ ลาดพร้าว    ┆ torage.go ┆            ┆ อมขั้นบันไดขึ้ ┆   ┆ -05 02: ┆           ┆ 4         ┆          │\n",
       "│ แขวง       ┆ ogleapis. ┆            ┆ น-ลงใ…    ┆   ┆ 12:58.5 ┆           ┆           ┆          │\n",
       "│ สามเสนนอ…  ┆ com/t…    ┆            ┆           ┆   ┆ 04376   ┆           ┆           ┆          │\n",
       "│            ┆           ┆            ┆           ┆   ┆ +00:0…  ┆           ┆           ┆          │\n",
       "└────────────┴───────────┴────────────┴───────────┴───┴─────────┴───────────┴───────────┴──────────┘"
      ]
     },
     "execution_count": 3,
     "metadata": {},
     "output_type": "execute_result"
    }
   ],
   "source": [
    "df"
   ]
  },
  {
   "cell_type": "code",
   "execution_count": 4,
   "metadata": {},
   "outputs": [
    {
     "data": {
      "text/html": [
       "<div><style>\n",
       ".dataframe > thead > tr > th,\n",
       ".dataframe > tbody > tr > td {\n",
       "  text-align: right;\n",
       "}\n",
       "</style>\n",
       "<small>shape: (208_518, 26)</small><table border=\"1\" class=\"dataframe\"><thead><tr><th>id</th><th>photo_url</th><th>type_PM2.5</th><th>type_การเดินทาง</th><th>type_กีดขวาง</th><th>type_คนจรจัด</th><th>type_คลอง</th><th>type_ความปลอดภัย</th><th>type_ความสะอาด</th><th>type_จราจร</th><th>type_ต้นไม้</th><th>type_ถนน</th><th>type_ทางเท้า</th><th>type_ท่อระบายน้ำ</th><th>type_น้ำท่วม</th><th>type_ป้าย</th><th>type_ป้ายจราจร</th><th>type_ร้องเรียน</th><th>type_สอบถาม</th><th>type_สะพาน</th><th>type_สัตว์จรจัด</th><th>type_สายไฟ</th><th>type_ห้องน้ำ</th><th>type_เสนอแนะ</th><th>type_เสียงรบกวน</th><th>type_แสงสว่าง</th></tr><tr><td>str</td><td>str</td><td>u8</td><td>u8</td><td>u8</td><td>u8</td><td>u8</td><td>u8</td><td>u8</td><td>u8</td><td>u8</td><td>u8</td><td>u8</td><td>u8</td><td>u8</td><td>u8</td><td>u8</td><td>u8</td><td>u8</td><td>u8</td><td>u8</td><td>u8</td><td>u8</td><td>u8</td><td>u8</td><td>u8</td></tr></thead><tbody><tr><td>&quot;2022-GVPG22&quot;</td><td>&quot;https://storag…</td><td>0</td><td>0</td><td>0</td><td>0</td><td>0</td><td>0</td><td>0</td><td>0</td><td>0</td><td>1</td><td>1</td><td>0</td><td>0</td><td>0</td><td>0</td><td>0</td><td>0</td><td>0</td><td>0</td><td>0</td><td>0</td><td>0</td><td>0</td><td>0</td></tr><tr><td>&quot;2023-KWURTL&quot;</td><td>&quot;https://storag…</td><td>0</td><td>0</td><td>0</td><td>0</td><td>0</td><td>1</td><td>0</td><td>0</td><td>0</td><td>0</td><td>0</td><td>0</td><td>0</td><td>0</td><td>0</td><td>0</td><td>0</td><td>0</td><td>0</td><td>0</td><td>0</td><td>0</td><td>0</td><td>0</td></tr><tr><td>&quot;2022-DNEQR8&quot;</td><td>&quot;https://storag…</td><td>0</td><td>0</td><td>0</td><td>0</td><td>1</td><td>0</td><td>0</td><td>0</td><td>0</td><td>1</td><td>0</td><td>0</td><td>0</td><td>0</td><td>0</td><td>0</td><td>0</td><td>0</td><td>0</td><td>0</td><td>0</td><td>0</td><td>0</td><td>0</td></tr><tr><td>&quot;2023-7224NR&quot;</td><td>&quot;https://storag…</td><td>0</td><td>0</td><td>0</td><td>0</td><td>0</td><td>0</td><td>0</td><td>0</td><td>0</td><td>1</td><td>0</td><td>0</td><td>0</td><td>0</td><td>0</td><td>0</td><td>0</td><td>0</td><td>0</td><td>0</td><td>0</td><td>0</td><td>0</td><td>0</td></tr><tr><td>&quot;2022-KLWY6C&quot;</td><td>&quot;https://storag…</td><td>0</td><td>0</td><td>0</td><td>0</td><td>0</td><td>0</td><td>0</td><td>0</td><td>0</td><td>1</td><td>0</td><td>0</td><td>0</td><td>0</td><td>0</td><td>0</td><td>0</td><td>0</td><td>0</td><td>0</td><td>0</td><td>0</td><td>0</td><td>0</td></tr><tr><td>&quot;2022-MTQD3X&quot;</td><td>&quot;https://storag…</td><td>0</td><td>0</td><td>0</td><td>0</td><td>0</td><td>0</td><td>0</td><td>0</td><td>0</td><td>1</td><td>0</td><td>0</td><td>0</td><td>0</td><td>0</td><td>0</td><td>0</td><td>0</td><td>0</td><td>0</td><td>0</td><td>0</td><td>0</td><td>0</td></tr><tr><td>&quot;2023-BMMLXM&quot;</td><td>&quot;https://storag…</td><td>0</td><td>0</td><td>0</td><td>0</td><td>0</td><td>0</td><td>0</td><td>0</td><td>0</td><td>0</td><td>0</td><td>0</td><td>0</td><td>0</td><td>0</td><td>0</td><td>0</td><td>0</td><td>0</td><td>0</td><td>0</td><td>0</td><td>1</td><td>0</td></tr><tr><td>&quot;M9HHYK&quot;</td><td>&quot;https://storag…</td><td>0</td><td>0</td><td>0</td><td>0</td><td>0</td><td>0</td><td>1</td><td>0</td><td>0</td><td>1</td><td>0</td><td>0</td><td>0</td><td>0</td><td>0</td><td>0</td><td>0</td><td>0</td><td>0</td><td>0</td><td>0</td><td>0</td><td>0</td><td>0</td></tr><tr><td>&quot;2022-864A26&quot;</td><td>&quot;https://storag…</td><td>0</td><td>0</td><td>0</td><td>0</td><td>0</td><td>0</td><td>0</td><td>0</td><td>0</td><td>0</td><td>0</td><td>0</td><td>1</td><td>0</td><td>0</td><td>0</td><td>0</td><td>0</td><td>0</td><td>0</td><td>0</td><td>0</td><td>0</td><td>0</td></tr><tr><td>&quot;2022-9PHDVC&quot;</td><td>&quot;https://storag…</td><td>0</td><td>0</td><td>0</td><td>0</td><td>0</td><td>0</td><td>0</td><td>0</td><td>0</td><td>1</td><td>0</td><td>0</td><td>0</td><td>0</td><td>0</td><td>0</td><td>0</td><td>0</td><td>0</td><td>0</td><td>0</td><td>0</td><td>0</td><td>0</td></tr><tr><td>&quot;2022-72QK38&quot;</td><td>&quot;https://storag…</td><td>0</td><td>0</td><td>0</td><td>0</td><td>0</td><td>0</td><td>0</td><td>0</td><td>0</td><td>1</td><td>0</td><td>0</td><td>0</td><td>0</td><td>0</td><td>0</td><td>0</td><td>0</td><td>0</td><td>0</td><td>0</td><td>0</td><td>0</td><td>0</td></tr><tr><td>&quot;2022-P8F9CG&quot;</td><td>&quot;https://storag…</td><td>0</td><td>0</td><td>0</td><td>1</td><td>0</td><td>0</td><td>0</td><td>0</td><td>0</td><td>1</td><td>0</td><td>0</td><td>0</td><td>0</td><td>0</td><td>0</td><td>0</td><td>0</td><td>0</td><td>0</td><td>0</td><td>0</td><td>0</td><td>0</td></tr><tr><td>&hellip;</td><td>&hellip;</td><td>&hellip;</td><td>&hellip;</td><td>&hellip;</td><td>&hellip;</td><td>&hellip;</td><td>&hellip;</td><td>&hellip;</td><td>&hellip;</td><td>&hellip;</td><td>&hellip;</td><td>&hellip;</td><td>&hellip;</td><td>&hellip;</td><td>&hellip;</td><td>&hellip;</td><td>&hellip;</td><td>&hellip;</td><td>&hellip;</td><td>&hellip;</td><td>&hellip;</td><td>&hellip;</td><td>&hellip;</td><td>&hellip;</td><td>&hellip;</td></tr><tr><td>&quot;2022-GC9VQD&quot;</td><td>&quot;https://storag…</td><td>0</td><td>0</td><td>0</td><td>0</td><td>0</td><td>0</td><td>0</td><td>0</td><td>0</td><td>1</td><td>0</td><td>0</td><td>0</td><td>0</td><td>0</td><td>0</td><td>0</td><td>0</td><td>0</td><td>0</td><td>0</td><td>0</td><td>0</td><td>0</td></tr><tr><td>&quot;2022-9L2R7Z&quot;</td><td>&quot;https://storag…</td><td>0</td><td>0</td><td>0</td><td>0</td><td>0</td><td>0</td><td>0</td><td>0</td><td>0</td><td>1</td><td>0</td><td>0</td><td>0</td><td>0</td><td>0</td><td>0</td><td>0</td><td>0</td><td>0</td><td>0</td><td>0</td><td>0</td><td>0</td><td>0</td></tr><tr><td>&quot;2022-7B6MKR&quot;</td><td>&quot;https://storag…</td><td>0</td><td>0</td><td>0</td><td>0</td><td>0</td><td>0</td><td>0</td><td>0</td><td>0</td><td>0</td><td>0</td><td>0</td><td>1</td><td>0</td><td>0</td><td>0</td><td>0</td><td>0</td><td>0</td><td>0</td><td>0</td><td>0</td><td>0</td><td>0</td></tr><tr><td>&quot;2023-A2UZUA&quot;</td><td>&quot;https://storag…</td><td>0</td><td>0</td><td>0</td><td>0</td><td>0</td><td>0</td><td>0</td><td>0</td><td>0</td><td>1</td><td>0</td><td>1</td><td>1</td><td>0</td><td>0</td><td>0</td><td>0</td><td>0</td><td>0</td><td>0</td><td>0</td><td>0</td><td>0</td><td>0</td></tr><tr><td>&quot;2023-KEN8DE&quot;</td><td>&quot;https://storag…</td><td>0</td><td>0</td><td>1</td><td>0</td><td>0</td><td>1</td><td>0</td><td>0</td><td>0</td><td>0</td><td>0</td><td>0</td><td>0</td><td>0</td><td>0</td><td>0</td><td>0</td><td>1</td><td>0</td><td>0</td><td>0</td><td>0</td><td>0</td><td>0</td></tr><tr><td>&quot;2022-G9QU7Q&quot;</td><td>&quot;https://storag…</td><td>0</td><td>0</td><td>0</td><td>0</td><td>0</td><td>0</td><td>0</td><td>0</td><td>0</td><td>0</td><td>0</td><td>0</td><td>1</td><td>0</td><td>0</td><td>0</td><td>0</td><td>0</td><td>0</td><td>0</td><td>0</td><td>0</td><td>0</td><td>0</td></tr><tr><td>&quot;2023-NXMPC3&quot;</td><td>&quot;https://storag…</td><td>0</td><td>0</td><td>0</td><td>0</td><td>0</td><td>0</td><td>1</td><td>0</td><td>0</td><td>0</td><td>0</td><td>0</td><td>0</td><td>0</td><td>0</td><td>0</td><td>0</td><td>0</td><td>0</td><td>0</td><td>0</td><td>0</td><td>0</td><td>0</td></tr><tr><td>&quot;2023-66D3T8&quot;</td><td>&quot;https://storag…</td><td>0</td><td>0</td><td>0</td><td>0</td><td>0</td><td>0</td><td>0</td><td>0</td><td>0</td><td>1</td><td>0</td><td>0</td><td>0</td><td>0</td><td>0</td><td>0</td><td>0</td><td>0</td><td>0</td><td>0</td><td>0</td><td>0</td><td>0</td><td>0</td></tr><tr><td>&quot;LK2BXD&quot;</td><td>&quot;https://storag…</td><td>0</td><td>0</td><td>1</td><td>0</td><td>0</td><td>0</td><td>0</td><td>0</td><td>0</td><td>1</td><td>1</td><td>0</td><td>0</td><td>0</td><td>0</td><td>0</td><td>0</td><td>0</td><td>0</td><td>0</td><td>0</td><td>0</td><td>0</td><td>0</td></tr><tr><td>&quot;2023-3KG426&quot;</td><td>&quot;https://storag…</td><td>0</td><td>0</td><td>0</td><td>0</td><td>0</td><td>0</td><td>0</td><td>0</td><td>0</td><td>0</td><td>1</td><td>0</td><td>0</td><td>1</td><td>0</td><td>0</td><td>0</td><td>0</td><td>0</td><td>0</td><td>0</td><td>0</td><td>0</td><td>0</td></tr><tr><td>&quot;2022-FBFRWY&quot;</td><td>&quot;https://storag…</td><td>0</td><td>0</td><td>0</td><td>0</td><td>0</td><td>0</td><td>0</td><td>0</td><td>0</td><td>1</td><td>0</td><td>1</td><td>0</td><td>0</td><td>0</td><td>0</td><td>0</td><td>0</td><td>0</td><td>0</td><td>0</td><td>0</td><td>0</td><td>0</td></tr><tr><td>&quot;2022-BBDTWG&quot;</td><td>&quot;https://storag…</td><td>0</td><td>0</td><td>0</td><td>0</td><td>0</td><td>0</td><td>0</td><td>0</td><td>0</td><td>0</td><td>0</td><td>0</td><td>0</td><td>0</td><td>0</td><td>0</td><td>0</td><td>1</td><td>0</td><td>0</td><td>0</td><td>0</td><td>0</td><td>0</td></tr></tbody></table></div>"
      ],
      "text/plain": [
       "shape: (208_518, 26)\n",
       "┌────────┬─────────┬──────────┬────────────┬───┬────────────┬────────────┬────────────┬────────────┐\n",
       "│ id     ┆ photo_u ┆ type_PM2 ┆ type_การเดิ ┆ … ┆ type_ห้องน้ำ ┆ type_เสนอแ ┆ type_เสียงร ┆ type_แสงสว่ │\n",
       "│ ---    ┆ rl      ┆ .5       ┆ นทาง       ┆   ┆ ---        ┆ นะ         ┆ บกวน       ┆ าง         │\n",
       "│ str    ┆ ---     ┆ ---      ┆ ---        ┆   ┆ u8         ┆ ---        ┆ ---        ┆ ---        │\n",
       "│        ┆ str     ┆ u8       ┆ u8         ┆   ┆            ┆ u8         ┆ u8         ┆ u8         │\n",
       "╞════════╪═════════╪══════════╪════════════╪═══╪════════════╪════════════╪════════════╪════════════╡\n",
       "│ 2022-G ┆ https:/ ┆ 0        ┆ 0          ┆ … ┆ 0          ┆ 0          ┆ 0          ┆ 0          │\n",
       "│ VPG22  ┆ /storag ┆          ┆            ┆   ┆            ┆            ┆            ┆            │\n",
       "│        ┆ e.googl ┆          ┆            ┆   ┆            ┆            ┆            ┆            │\n",
       "│        ┆ eapis.c ┆          ┆            ┆   ┆            ┆            ┆            ┆            │\n",
       "│        ┆ om/t…   ┆          ┆            ┆   ┆            ┆            ┆            ┆            │\n",
       "│ 2023-K ┆ https:/ ┆ 0        ┆ 0          ┆ … ┆ 0          ┆ 0          ┆ 0          ┆ 0          │\n",
       "│ WURTL  ┆ /storag ┆          ┆            ┆   ┆            ┆            ┆            ┆            │\n",
       "│        ┆ e.googl ┆          ┆            ┆   ┆            ┆            ┆            ┆            │\n",
       "│        ┆ eapis.c ┆          ┆            ┆   ┆            ┆            ┆            ┆            │\n",
       "│        ┆ om/t…   ┆          ┆            ┆   ┆            ┆            ┆            ┆            │\n",
       "│ 2022-D ┆ https:/ ┆ 0        ┆ 0          ┆ … ┆ 0          ┆ 0          ┆ 0          ┆ 0          │\n",
       "│ NEQR8  ┆ /storag ┆          ┆            ┆   ┆            ┆            ┆            ┆            │\n",
       "│        ┆ e.googl ┆          ┆            ┆   ┆            ┆            ┆            ┆            │\n",
       "│        ┆ eapis.c ┆          ┆            ┆   ┆            ┆            ┆            ┆            │\n",
       "│        ┆ om/t…   ┆          ┆            ┆   ┆            ┆            ┆            ┆            │\n",
       "│ 2023-7 ┆ https:/ ┆ 0        ┆ 0          ┆ … ┆ 0          ┆ 0          ┆ 0          ┆ 0          │\n",
       "│ 224NR  ┆ /storag ┆          ┆            ┆   ┆            ┆            ┆            ┆            │\n",
       "│        ┆ e.googl ┆          ┆            ┆   ┆            ┆            ┆            ┆            │\n",
       "│        ┆ eapis.c ┆          ┆            ┆   ┆            ┆            ┆            ┆            │\n",
       "│        ┆ om/t…   ┆          ┆            ┆   ┆            ┆            ┆            ┆            │\n",
       "│ …      ┆ …       ┆ …        ┆ …          ┆ … ┆ …          ┆ …          ┆ …          ┆ …          │\n",
       "│ LK2BXD ┆ https:/ ┆ 0        ┆ 0          ┆ … ┆ 0          ┆ 0          ┆ 0          ┆ 0          │\n",
       "│        ┆ /storag ┆          ┆            ┆   ┆            ┆            ┆            ┆            │\n",
       "│        ┆ e.googl ┆          ┆            ┆   ┆            ┆            ┆            ┆            │\n",
       "│        ┆ eapis.c ┆          ┆            ┆   ┆            ┆            ┆            ┆            │\n",
       "│        ┆ om/t…   ┆          ┆            ┆   ┆            ┆            ┆            ┆            │\n",
       "│ 2023-3 ┆ https:/ ┆ 0        ┆ 0          ┆ … ┆ 0          ┆ 0          ┆ 0          ┆ 0          │\n",
       "│ KG426  ┆ /storag ┆          ┆            ┆   ┆            ┆            ┆            ┆            │\n",
       "│        ┆ e.googl ┆          ┆            ┆   ┆            ┆            ┆            ┆            │\n",
       "│        ┆ eapis.c ┆          ┆            ┆   ┆            ┆            ┆            ┆            │\n",
       "│        ┆ om/t…   ┆          ┆            ┆   ┆            ┆            ┆            ┆            │\n",
       "│ 2022-F ┆ https:/ ┆ 0        ┆ 0          ┆ … ┆ 0          ┆ 0          ┆ 0          ┆ 0          │\n",
       "│ BFRWY  ┆ /storag ┆          ┆            ┆   ┆            ┆            ┆            ┆            │\n",
       "│        ┆ e.googl ┆          ┆            ┆   ┆            ┆            ┆            ┆            │\n",
       "│        ┆ eapis.c ┆          ┆            ┆   ┆            ┆            ┆            ┆            │\n",
       "│        ┆ om/t…   ┆          ┆            ┆   ┆            ┆            ┆            ┆            │\n",
       "│ 2022-B ┆ https:/ ┆ 0        ┆ 0          ┆ … ┆ 0          ┆ 0          ┆ 0          ┆ 0          │\n",
       "│ BDTWG  ┆ /storag ┆          ┆            ┆   ┆            ┆            ┆            ┆            │\n",
       "│        ┆ e.googl ┆          ┆            ┆   ┆            ┆            ┆            ┆            │\n",
       "│        ┆ eapis.c ┆          ┆            ┆   ┆            ┆            ┆            ┆            │\n",
       "│        ┆ om/t…   ┆          ┆            ┆   ┆            ┆            ┆            ┆            │\n",
       "└────────┴─────────┴──────────┴────────────┴───┴────────────┴────────────┴────────────┴────────────┘"
      ]
     },
     "metadata": {},
     "output_type": "display_data"
    }
   ],
   "source": [
    "# Expand `type` column (storing array) into multiple one-hot columns\n",
    "\n",
    "_df = df.select(\n",
    "    col('ticket_id').alias('id'),\n",
    "    col('problem_type_abdul').alias('type'),\n",
    "    col('photo_url')\n",
    ").filter(col('type').arr.lengths() != 0).explode('type').to_dummies('type')\n",
    "\n",
    "df = _df.groupby(['id', 'photo_url']).agg(\n",
    "    *[col(column).sum().cast(pl.UInt8) for column in sorted(_df.columns) if column.startswith('type_')]\n",
    ")\n",
    "\n",
    "display(df)"
   ]
  },
  {
   "cell_type": "code",
   "execution_count": 5,
   "metadata": {},
   "outputs": [],
   "source": [
    "df.write_ipc('../data/traffy_multiclass_data.ipc')\n",
    "df.write_csv('../data/traffy_multiclass_data.csv')"
   ]
  }
 ],
 "metadata": {
  "kernelspec": {
   "display_name": "base",
   "language": "python",
   "name": "python3"
  },
  "language_info": {
   "codemirror_mode": {
    "name": "ipython",
    "version": 3
   },
   "file_extension": ".py",
   "mimetype": "text/x-python",
   "name": "python",
   "nbconvert_exporter": "python",
   "pygments_lexer": "ipython3",
   "version": "3.9.13"
  },
  "orig_nbformat": 4,
  "vscode": {
   "interpreter": {
    "hash": "c9b331834caea015b00ef836b329143fad26c810777fb4cd8b2cec8fd927d17e"
   }
  }
 },
 "nbformat": 4,
 "nbformat_minor": 2
}
