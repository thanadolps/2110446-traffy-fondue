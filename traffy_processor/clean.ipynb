{
 "cells": [
  {
   "cell_type": "code",
   "execution_count": 211,
   "metadata": {},
   "outputs": [],
   "source": [
    "import polars as pl\n",
    "from polars import col, lit, when\n",
    "\n",
    "from matplotlib import pyplot as plt\n",
    "import seaborn as sns"
   ]
  },
  {
   "cell_type": "code",
   "execution_count": 212,
   "metadata": {},
   "outputs": [],
   "source": [
    "df = pl.read_json('../data/traffy_raw_data.json')\n",
    "# df = df.lazy()"
   ]
  },
  {
   "cell_type": "code",
   "execution_count": 213,
   "metadata": {},
   "outputs": [
    {
     "data": {
      "text/html": [
       "<div><style>\n",
       ".dataframe > thead > tr > th,\n",
       ".dataframe > tbody > tr > td {\n",
       "  text-align: right;\n",
       "}\n",
       "</style>\n",
       "<small>shape: (271_486, 14)</small><table border=\"1\" class=\"dataframe\"><thead><tr><th>address</th><th>after_photo</th><th>coords</th><th>count_reopen</th><th>description</th><th>last_activity</th><th>note</th><th>org</th><th>photo_url</th><th>problem_type_abdul</th><th>state</th><th>ticket_id</th><th>timestamp</th><th>type</th></tr><tr><td>str</td><td>str</td><td>list[str]</td><td>i32</td><td>str</td><td>str</td><td>str</td><td>str</td><td>str</td><td>list[str]</td><td>str</td><td>str</td><td>datetime[ns, +00:00]</td><td>str</td></tr></thead><tbody><tr><td>&quot;16 ซอย กาญจนาภ…</td><td>null</td><td>[&quot;100.69943&quot;, &quot;13.71439&quot;]</td><td>0</td><td>&quot;à¹à¸£à¸µà¸¢à¸…</td><td>&quot;2023-05-13 12:…</td><td>null</td><td>&quot;กรุงเทพมหานคร&quot;</td><td>&quot;https://storag…</td><td>[&quot;ร้องเรียน&quot;]</td><td>&quot;รอรับเรื่อง&quot;</td><td>&quot;2023-76ZRQ8&quot;</td><td>2023-05-13 12:37:39.151965 +00:00</td><td>&quot;ร้องเรียน&quot;</td></tr><tr><td>&quot;528 ซอย นวลจัน…</td><td>null</td><td>[&quot;100.64354&quot;, &quot;13.82122&quot;]</td><td>0</td><td>&quot;ð¢ðð¡ð…</td><td>&quot;2023-05-13 12:…</td><td>null</td><td>&quot;กรุงเทพมหานคร&quot;</td><td>&quot;https://storag…</td><td>[&quot;ถนน&quot;, &quot;ป้าย&quot;]</td><td>&quot;รอรับเรื่อง&quot;</td><td>&quot;2023-H8VKLR&quot;</td><td>2023-05-13 12:34:40.086515 +00:00</td><td>&quot;ถนน,ป้าย&quot;</td></tr><tr><td>&quot;วุฒากาศ วุฒากา…</td><td>null</td><td>[&quot;100.46882&quot;, &quot;13.71297&quot;]</td><td>0</td><td>&quot;สถานีรถไฟฟ้าวุ…</td><td>&quot;2023-05-13 12:…</td><td>&quot;เขตธนบุรี ส่งต…</td><td>&quot;กรุงเทพมหานคร&quot;</td><td>&quot;https://storag…</td><td>[&quot;แสงสว่าง&quot;]</td><td>&quot;ส่งต่อ(ใหม่)&quot;</td><td>&quot;2023-KKGF42&quot;</td><td>2023-05-13 12:32:34.437273 +00:00</td><td>&quot;แสงสว่าง&quot;</td></tr><tr><td>&quot;474 ซอย ประชาอ…</td><td>null</td><td>[&quot;100.58855&quot;, &quot;13.77507&quot;]</td><td>0</td><td>&quot;เสาไฟไม่เปิดไฟ…</td><td>&quot;2023-05-13 12:…</td><td>null</td><td>&quot;กรุงเทพมหานคร&quot;</td><td>&quot;https://storag…</td><td>[&quot;ถนน&quot;, &quot;แสงสว่าง&quot;]</td><td>&quot;รอรับเรื่อง&quot;</td><td>&quot;2023-4N4AF2&quot;</td><td>2023-05-13 12:30:48.255606 +00:00</td><td>&quot;ถนน,แสงสว่าง&quot;</td></tr><tr><td>&quot;12 ถนนสามเสน แ…</td><td>null</td><td>[&quot;100.50770&quot;, &quot;13.77698&quot;]</td><td>0</td><td>&quot;ป้ายรถเมล์ชำรุ…</td><td>&quot;2023-05-13 12:…</td><td>null</td><td>&quot;กรุงเทพมหานคร&quot;</td><td>&quot;https://storag…</td><td>[&quot;การเดินทาง&quot;]</td><td>&quot;รอรับเรื่อง&quot;</td><td>&quot;2023-AYFHMD&quot;</td><td>2023-05-13 12:29:56.327782 +00:00</td><td>&quot;การเดินทาง&quot;</td></tr><tr><td>&quot;571 ซอย จรัญสน…</td><td>null</td><td>[&quot;100.49138&quot;, &quot;13.77879&quot;]</td><td>0</td><td>&quot;à¸¡à¸µà¸à¸²à¸…</td><td>&quot;2023-05-13 12:…</td><td>null</td><td>&quot;กรุงเทพมหานคร&quot;</td><td>&quot;https://storag…</td><td>[&quot;ป้าย&quot;, &quot;การเดินทาง&quot;]</td><td>&quot;รอรับเรื่อง&quot;</td><td>&quot;2023-K2ZXVP&quot;</td><td>2023-05-13 12:29:18.335943 +00:00</td><td>&quot;ป้าย,การเดินทา…</td></tr><tr><td>&quot;21 ซอย แสงอุทั…</td><td>null</td><td>[&quot;100.54948&quot;, &quot;13.76224&quot;]</td><td>0</td><td>&quot;ไฟดับ&quot;</td><td>&quot;2023-05-13 12:…</td><td>null</td><td>&quot;กรุงเทพมหานคร&quot;</td><td>&quot;https://storag…</td><td>[&quot;แสงสว่าง&quot;]</td><td>&quot;รอรับเรื่อง&quot;</td><td>&quot;2023-62THQ7&quot;</td><td>2023-05-13 12:26:20.478288 +00:00</td><td>&quot;แสงสว่าง&quot;</td></tr><tr><td>&quot;180/167 หมู่ 4…</td><td>null</td><td>[&quot;100.60941&quot;, &quot;13.88981&quot;]</td><td>0</td><td>&quot;ซ่อมถนนไม่เรีย…</td><td>&quot;2023-05-13 12:…</td><td>null</td><td>&quot;กรุงเทพมหานคร&quot;</td><td>&quot;https://storag…</td><td>[&quot;ถนน&quot;]</td><td>&quot;รอรับเรื่อง&quot;</td><td>&quot;2023-LHYTBQ&quot;</td><td>2023-05-13 12:23:15.710923 +00:00</td><td>&quot;ถนน&quot;</td></tr><tr><td>&quot;888/20 ซ. ประช…</td><td>null</td><td>[&quot;100.58839&quot;, &quot;13.78228&quot;]</td><td>0</td><td>&quot;à¸à¸±à¸à¸«à¸…</td><td>&quot;2023-05-13 12:…</td><td>null</td><td>&quot;กรุงเทพมหานคร&quot;</td><td>&quot;https://storag…</td><td>[&quot;ร้องเรียน&quot;]</td><td>&quot;รอรับเรื่อง&quot;</td><td>&quot;2023-AAF7ZH&quot;</td><td>2023-05-13 12:17:44.350781 +00:00</td><td>&quot;ร้องเรียน&quot;</td></tr><tr><td>&quot;89/1 Chinnamat…</td><td>null</td><td>[&quot;100.60512&quot;, &quot;13.70691&quot;]</td><td>0</td><td>&quot;&quot;XCross&quot; à¹à¸…</td><td>&quot;2023-05-13 12:…</td><td>&quot;เขตวัฒนา ส่งต่…</td><td>&quot;กรุงเทพมหานคร&quot;</td><td>&quot;https://storag…</td><td>[&quot;กีดขวาง&quot;, &quot;สะพาน&quot;, &quot;ความปลอดภัย&quot;]</td><td>&quot;ส่งต่อ(ใหม่)&quot;</td><td>&quot;2023-KEN8DE&quot;</td><td>2023-05-13 12:15:42.180563 +00:00</td><td>&quot;กีดขวาง,สะพาน,…</td></tr><tr><td>&quot;315 ถ. นครชัยศ…</td><td>null</td><td>[&quot;100.51732&quot;, &quot;13.78224&quot;]</td><td>0</td><td>&quot;ไฟไม่ติด&quot;</td><td>&quot;2023-05-13 12:…</td><td>null</td><td>&quot;กรุงเทพมหานคร&quot;</td><td>&quot;https://storag…</td><td>[&quot;แสงสว่าง&quot;]</td><td>&quot;รอรับเรื่อง&quot;</td><td>&quot;2023-FKTPW2&quot;</td><td>2023-05-13 12:13:25.223747 +00:00</td><td>&quot;แสงสว่าง&quot;</td></tr><tr><td>&quot;Yan Hee Hospit…</td><td>null</td><td>[&quot;100.51134&quot;, &quot;13.79963&quot;]</td><td>0</td><td>&quot;ตรงทางเท้าที่ก…</td><td>&quot;2023-05-13 12:…</td><td>null</td><td>&quot;กรุงเทพมหานคร&quot;</td><td>&quot;https://storag…</td><td>[&quot;ถนน&quot;, &quot;ทางเท้า&quot;]</td><td>&quot;รอรับเรื่อง&quot;</td><td>&quot;2023-HBT3ZV&quot;</td><td>2023-05-13 12:12:39.480185 +00:00</td><td>&quot;ถนน,ทางเท้า&quot;</td></tr><tr><td>&hellip;</td><td>&hellip;</td><td>&hellip;</td><td>&hellip;</td><td>&hellip;</td><td>&hellip;</td><td>&hellip;</td><td>&hellip;</td><td>&hellip;</td><td>&hellip;</td><td>&hellip;</td><td>&hellip;</td><td>&hellip;</td><td>&hellip;</td></tr><tr><td>&quot;186 ซอย สุขุมว…</td><td>&quot;https://storag…</td><td>[&quot;100.56505&quot;, &quot;13.72742&quot;]</td><td>1</td><td>&quot;เขตคลองเตย ทาง…</td><td>&quot;2022-07-05 08:…</td><td>&quot;สำนักงานเขตคลอ…</td><td>&quot;กรุงเทพมหานคร&quot;</td><td>&quot;https://storag…</td><td>[&quot;&quot;]</td><td>&quot;เสร็จสิ้น&quot;</td><td>&quot;2022-9D9FFE&quot;</td><td>2022-05-29 23:24:24.851926 +00:00</td><td>null</td></tr><tr><td>&quot;มูลนิธิเพื่อคุ…</td><td>null</td><td>[&quot;100.75715&quot;, &quot;13.82846&quot;]</td><td>null</td><td>&quot;à¹à¸£à¸·à¹à¸…</td><td>&quot;2023-03-08 04:…</td><td>&quot;สำนักการจราจรแ…</td><td>&quot;กรุงเทพมหานคร&quot;</td><td>&quot;https://storag…</td><td>[&quot;ถนน&quot;]</td><td>&quot;ของบประมาณ&quot;</td><td>&quot;2022-G2YBML&quot;</td><td>2022-05-29 23:20:04.384301 +00:00</td><td>&quot;ถนน&quot;</td></tr><tr><td>&quot;483/1 พระราม 3…</td><td>null</td><td>[&quot;100.51472&quot;, &quot;13.68851&quot;]</td><td>null</td><td>&quot;ปกติขับรถผ่านท…</td><td>&quot;2023-03-30 14:…</td><td>&quot;การไฟฟ้านครหลว…</td><td>&quot;กรุงเทพมหานคร&quot;</td><td>&quot;https://storag…</td><td>[&quot;ถนน&quot;]</td><td>&quot;รอรับเรื่อง&quot;</td><td>&quot;2022-DN3LWG&quot;</td><td>2022-05-29 23:18:59.822361 +00:00</td><td>&quot;ถนน&quot;</td></tr><tr><td>&quot;765 ถ. ประชาชื…</td><td>&quot;https://storag…</td><td>[&quot;100.53603&quot;, &quot;13.82149&quot;]</td><td>null</td><td>&quot;ขยะถูกนำมาทิ้ง…</td><td>&quot;2022-06-04 15:…</td><td>null</td><td>&quot;กรุงเทพมหานคร&quot;</td><td>&quot;https://storag…</td><td>[&quot;ความสะอาด&quot;]</td><td>&quot;เสร็จสิ้น&quot;</td><td>&quot;2022-CRF3T8&quot;</td><td>2022-05-29 22:56:46.020058 +00:00</td><td>&quot;ความสะอาด&quot;</td></tr><tr><td>&quot;99/260 กัลปพฤก…</td><td>&quot;https://storag…</td><td>[&quot;100.41100&quot;, &quot;13.68022&quot;]</td><td>null</td><td>&quot;ปัญหาในพื้นที่…</td><td>&quot;2022-07-16 09:…</td><td>&quot;ฝ่ายรักษาความส…</td><td>&quot;กรุงเทพมหานคร&quot;</td><td>&quot;https://storag…</td><td>[&quot;ความสะอาด&quot;]</td><td>&quot;เสร็จสิ้น&quot;</td><td>&quot;2022-8RTTFV&quot;</td><td>2022-05-29 22:09:47.129909 +00:00</td><td>&quot;ความสะอาด&quot;</td></tr><tr><td>&quot;276/46 เพชรเกษ…</td><td>&quot;https://storag…</td><td>[&quot;100.48260&quot;, &quot;13.73389&quot;]</td><td>null</td><td>&quot;à¸à¸­à¸¢à¹à¸…</td><td>&quot;2023-03-27 04:…</td><td>&quot;เจ้าหน้าที่ฝ่า…</td><td>&quot;กรุงเทพมหานคร&quot;</td><td>&quot;https://storag…</td><td>[&quot;ถนน&quot;]</td><td>&quot;เสร็จสิ้น&quot;</td><td>&quot;2022-EEFY4G&quot;</td><td>2022-05-29 22:01:12.485714 +00:00</td><td>&quot;ถนน&quot;</td></tr><tr><td>&quot;204 ถ. พัฒนากา…</td><td>null</td><td>[&quot;100.65725&quot;, &quot;13.72714&quot;]</td><td>null</td><td>&quot;กรณีทีใบนัดพบแ…</td><td>&quot;2022-06-23 12:…</td><td>&quot;จากกรณีที่ผู้ร…</td><td>&quot;กรุงเทพมหานคร&quot;</td><td>&quot;https://storag…</td><td>[&quot;&quot;]</td><td>&quot;เสร็จสิ้น&quot;</td><td>&quot;2022-MF9RNQ&quot;</td><td>2022-05-29 21:00:55.910766 +00:00</td><td>null</td></tr><tr><td>&quot;204 ถ. พัฒนากา…</td><td>null</td><td>[&quot;100.65725&quot;, &quot;13.72714&quot;]</td><td>null</td><td>&quot;ตำแหน่งที่อยูห…</td><td>&quot;2022-06-23 12:…</td><td>&quot;เขตประเวศ ส่งต…</td><td>&quot;กรุงเทพมหานคร&quot;</td><td>&quot;https://storag…</td><td>[&quot;&quot;]</td><td>&quot;เสร็จสิ้น&quot;</td><td>&quot;2022-EGQ6CW&quot;</td><td>2022-05-29 20:58:29.658665 +00:00</td><td>null</td></tr><tr><td>&quot;สำนักงานเขตหนอ…</td><td>&quot;https://storag…</td><td>[&quot;100.86208&quot;, &quot;13.85537&quot;]</td><td>null</td><td>&quot;à¸à¸±à¸à¸«à¸…</td><td>&quot;2022-08-14 07:…</td><td>&quot;งานจราจรได้มีก…</td><td>&quot;กรุงเทพมหานคร&quot;</td><td>&quot;https://storag…</td><td>[&quot;จราจร&quot;]</td><td>&quot;เสร็จสิ้น&quot;</td><td>&quot;2022-GWVZFU&quot;</td><td>2022-05-29 20:10:58.981769 +00:00</td><td>&quot;จราจร&quot;</td></tr><tr><td>&quot;114 ถนน เชื่อม…</td><td>null</td><td>[&quot;100.86163&quot;, &quot;13.85738&quot;]</td><td>null</td><td>&quot;à¸·à¸à¸³à¹à¸…</td><td>&quot;2023-01-29 04:…</td><td>&quot;จะนำข้อเสนอดัง…</td><td>&quot;กรุงเทพมหานคร&quot;</td><td>&quot;https://storag…</td><td>[&quot;คลอง&quot;]</td><td>&quot;กำลังดำเนินการ…</td><td>&quot;2022-KEL8RF&quot;</td><td>2022-05-29 19:58:42.298968 +00:00</td><td>&quot;คลอง&quot;</td></tr><tr><td>&quot;หมู่บ้านศรินดา…</td><td>null</td><td>[&quot;100.86366&quot;, &quot;13.88847&quot;]</td><td>null</td><td>&quot;จำนวนรถเมล์ ทิ…</td><td>&quot;2022-07-20 04:…</td><td>&quot;เขตหนองจอก ส่ง…</td><td>&quot;กรุงเทพมหานคร&quot;</td><td>&quot;https://storag…</td><td>[&quot;ถนน&quot;]</td><td>&quot;กำลังดำเนินการ…</td><td>&quot;2022-B89R63&quot;</td><td>2022-05-29 19:53:38.248163 +00:00</td><td>&quot;ถนน&quot;</td></tr><tr><td>&quot;297 ถนน รามคำแ…</td><td>&quot;https://storag…</td><td>[&quot;100.65757&quot;, &quot;13.76689&quot;]</td><td>1</td><td>&quot;ทางเดินริมคลอง…</td><td>&quot;2023-03-15 05:…</td><td>&quot;📣สำนักการโยธา …</td><td>&quot;กรุงเทพมหานคร&quot;</td><td>&quot;https://storag…</td><td>[&quot;ความปลอดภัย&quot;]</td><td>&quot;จัดซื้อจัดจ้าง…</td><td>&quot;2022-KNV8A9&quot;</td><td>2022-05-29 19:47:10.306217 +00:00</td><td>&quot;ความปลอดภัย&quot;</td></tr></tbody></table></div>"
      ],
      "text/plain": [
       "shape: (271_486, 14)\n",
       "┌───────────┬───────────┬───────────┬────────────┬───┬───────────┬─────────┬───────────┬───────────┐\n",
       "│ address   ┆ after_pho ┆ coords    ┆ count_reop ┆ … ┆ state     ┆ ticket_ ┆ timestamp ┆ type      │\n",
       "│ ---       ┆ to        ┆ ---       ┆ en         ┆   ┆ ---       ┆ id      ┆ ---       ┆ ---       │\n",
       "│ str       ┆ ---       ┆ list[str] ┆ ---        ┆   ┆ str       ┆ ---     ┆ datetime[ ┆ str       │\n",
       "│           ┆ str       ┆           ┆ i32        ┆   ┆           ┆ str     ┆ ns,       ┆           │\n",
       "│           ┆           ┆           ┆            ┆   ┆           ┆         ┆ +00:00]   ┆           │\n",
       "╞═══════════╪═══════════╪═══════════╪════════════╪═══╪═══════════╪═════════╪═══════════╪═══════════╡\n",
       "│ 16 ซอย    ┆ null      ┆ [\"100.699 ┆ 0          ┆ … ┆ รอรับเรื่อง  ┆ 2023-76 ┆ 2023-05-1 ┆ ร้องเรียน   │\n",
       "│ กาญจนาภิเษ ┆           ┆ 43\", \"13. ┆            ┆   ┆           ┆ ZRQ8    ┆ 3 12:37:3 ┆           │\n",
       "│ ก 24 แขวง ┆           ┆ 71439\"]   ┆            ┆   ┆           ┆         ┆ 9.151965  ┆           │\n",
       "│ ประเว…    ┆           ┆           ┆            ┆   ┆           ┆         ┆ +00:0…    ┆           │\n",
       "│ 528 ซอย   ┆ null      ┆ [\"100.643 ┆ 0          ┆ … ┆ รอรับเรื่อง  ┆ 2023-H8 ┆ 2023-05-1 ┆ ถนน,ป้าย   │\n",
       "│ นวลจันทร์   ┆           ┆ 54\", \"13. ┆            ┆   ┆           ┆ VKLR    ┆ 3 12:34:4 ┆           │\n",
       "│ 22 แขวง   ┆           ┆ 82122\"]   ┆            ┆   ┆           ┆         ┆ 0.086515  ┆           │\n",
       "│ บึงกุ่…      ┆           ┆           ┆            ┆   ┆           ┆         ┆ +00:0…    ┆           │\n",
       "│ วุฒากาศ    ┆ null      ┆ [\"100.468 ┆ 0          ┆ … ┆ ส่งต่อ(ใหม่) ┆ 2023-KK ┆ 2023-05-1 ┆ แสงสว่าง   │\n",
       "│ วุฒากาศ    ┆           ┆ 82\", \"13. ┆            ┆   ┆           ┆ GF42    ┆ 3 12:32:3 ┆           │\n",
       "│ แขวง      ┆           ┆ 71297\"]   ┆            ┆   ┆           ┆         ┆ 4.437273  ┆           │\n",
       "│ ตลาดพลู    ┆           ┆           ┆            ┆   ┆           ┆         ┆ +00:0…    ┆           │\n",
       "│ เขต…      ┆           ┆           ┆            ┆   ┆           ┆         ┆           ┆           │\n",
       "│ 474 ซอย   ┆ null      ┆ [\"100.588 ┆ 0          ┆ … ┆ รอรับเรื่อง  ┆ 2023-4N ┆ 2023-05-1 ┆ ถนน,แสงสว่ │\n",
       "│ ประชาอุทิศ  ┆           ┆ 55\", \"13. ┆            ┆   ┆           ┆ 4AF2    ┆ 3 12:30:4 ┆ าง        │\n",
       "│ 19 แขวงสา ┆           ┆ 77507\"]   ┆            ┆   ┆           ┆         ┆ 8.255606  ┆           │\n",
       "│ มเสน…     ┆           ┆           ┆            ┆   ┆           ┆         ┆ +00:0…    ┆           │\n",
       "│ …         ┆ …         ┆ …         ┆ …          ┆ … ┆ …         ┆ …       ┆ …         ┆ …         │\n",
       "│ สำนักงานเข ┆ https://s ┆ [\"100.862 ┆ null       ┆ … ┆ เสร็จสิ้น    ┆ 2022-GW ┆ 2022-05-2 ┆ จราจร     │\n",
       "│ ตหนองจอก  ┆ torage.go ┆ 08\", \"13. ┆            ┆   ┆           ┆ VZFU    ┆ 9 20:10:5 ┆           │\n",
       "│ แขวง      ┆ ogleapis. ┆ 85537\"]   ┆            ┆   ┆           ┆         ┆ 8.981769  ┆           │\n",
       "│ กระทุ่มร…   ┆ com/t…    ┆           ┆            ┆   ┆           ┆         ┆ +00:0…    ┆           │\n",
       "│ 114 ถนน   ┆ null      ┆ [\"100.861 ┆ null       ┆ … ┆ กำลังดำเนิน ┆ 2022-KE ┆ 2022-05-2 ┆ คลอง      │\n",
       "│ เชื่อมสัมพันธ์ ┆           ┆ 63\", \"13. ┆            ┆   ┆ การ       ┆ L8RF    ┆ 9 19:58:4 ┆           │\n",
       "│ แขวง      ┆           ┆ 85738\"]   ┆            ┆   ┆           ┆         ┆ 2.298968  ┆           │\n",
       "│ หนอง…     ┆           ┆           ┆            ┆   ┆           ┆         ┆ +00:0…    ┆           │\n",
       "│ หมู่บ้านศรินด ┆ null      ┆ [\"100.863 ┆ null       ┆ … ┆ กำลังดำเนิน ┆ 2022-B8 ┆ 2022-05-2 ┆ ถนน       │\n",
       "│ า แขวง    ┆           ┆ 66\", \"13. ┆            ┆   ┆ การ       ┆ 9R63    ┆ 9 19:53:3 ┆           │\n",
       "│ คลองสิบสอง ┆           ┆ 88847\"]   ┆            ┆   ┆           ┆         ┆ 8.248163  ┆           │\n",
       "│ เ…        ┆           ┆           ┆            ┆   ┆           ┆         ┆ +00:0…    ┆           │\n",
       "│ 297 ถนน   ┆ https://s ┆ [\"100.657 ┆ 1          ┆ … ┆ จัดซื้อจัดจ้าง ┆ 2022-KN ┆ 2022-05-2 ┆ ความปลอดภั │\n",
       "│ รามคำแหง  ┆ torage.go ┆ 57\", \"13. ┆            ┆   ┆           ┆ V8A9    ┆ 9 19:47:1 ┆ ย         │\n",
       "│ แขวง      ┆ ogleapis. ┆ 76689\"]   ┆            ┆   ┆           ┆         ┆ 0.306217  ┆           │\n",
       "│ หัวหมาก    ┆ com/t…    ┆           ┆            ┆   ┆           ┆         ┆ +00:0…    ┆           │\n",
       "│ เข…       ┆           ┆           ┆            ┆   ┆           ┆         ┆           ┆           │\n",
       "└───────────┴───────────┴───────────┴────────────┴───┴───────────┴─────────┴───────────┴───────────┘"
      ]
     },
     "metadata": {},
     "output_type": "display_data"
    }
   ],
   "source": [
    "# Replace after_photo columns that is empty string with null\n",
    "df = df.with_columns(*[\n",
    "    when(col(column) != '').then(col(column))\n",
    "    for column, dtype in zip(df.columns, df.dtypes) if dtype == pl.Utf8\n",
    "])\n",
    "\n",
    "# Convert count_reopen columns to int\n",
    "df = df.with_columns(col('count_reopen').cast(pl.Int32))\n",
    "# Convert timestamp columns to datetime\n",
    "# 2023-05-13 12:37:39.151965+00\n",
    "df = df.with_columns(col('timestamp').str.strptime(pl.Datetime, format='%Y-%m-%d %H:%M:%S%.f%#z'))\n",
    "\n",
    "display(df)"
   ]
  },
  {
   "cell_type": "code",
   "execution_count": 214,
   "metadata": {},
   "outputs": [
    {
     "data": {
      "text/html": [
       "<div><style>\n",
       ".dataframe > thead > tr > th,\n",
       ".dataframe > tbody > tr > td {\n",
       "  text-align: right;\n",
       "}\n",
       "</style>\n",
       "<small>shape: (271_135, 14)</small><table border=\"1\" class=\"dataframe\"><thead><tr><th>address</th><th>after_photo</th><th>coords</th><th>count_reopen</th><th>description</th><th>last_activity</th><th>note</th><th>org</th><th>photo_url</th><th>problem_type_abdul</th><th>state</th><th>ticket_id</th><th>timestamp</th><th>type</th></tr><tr><td>str</td><td>str</td><td>list[str]</td><td>i32</td><td>str</td><td>str</td><td>str</td><td>str</td><td>str</td><td>list[str]</td><td>str</td><td>str</td><td>datetime[ns, +00:00]</td><td>str</td></tr></thead><tbody><tr><td>&quot;16 ซอย กาญจนาภ…</td><td>null</td><td>[&quot;100.69943&quot;, &quot;13.71439&quot;]</td><td>0</td><td>&quot;à¹à¸£à¸µà¸¢à¸…</td><td>&quot;2023-05-13 12:…</td><td>null</td><td>&quot;กรุงเทพมหานคร&quot;</td><td>&quot;https://storag…</td><td>[&quot;ร้องเรียน&quot;]</td><td>&quot;รอรับเรื่อง&quot;</td><td>&quot;2023-76ZRQ8&quot;</td><td>2023-05-13 12:37:39.151965 +00:00</td><td>&quot;ร้องเรียน&quot;</td></tr><tr><td>&quot;528 ซอย นวลจัน…</td><td>null</td><td>[&quot;100.64354&quot;, &quot;13.82122&quot;]</td><td>0</td><td>&quot;ð¢ðð¡ð…</td><td>&quot;2023-05-13 12:…</td><td>null</td><td>&quot;กรุงเทพมหานคร&quot;</td><td>&quot;https://storag…</td><td>[&quot;ถนน&quot;, &quot;ป้าย&quot;]</td><td>&quot;รอรับเรื่อง&quot;</td><td>&quot;2023-H8VKLR&quot;</td><td>2023-05-13 12:34:40.086515 +00:00</td><td>&quot;ถนน,ป้าย&quot;</td></tr><tr><td>&quot;วุฒากาศ วุฒากา…</td><td>null</td><td>[&quot;100.46882&quot;, &quot;13.71297&quot;]</td><td>0</td><td>&quot;สถานีรถไฟฟ้าวุ…</td><td>&quot;2023-05-13 12:…</td><td>&quot;เขตธนบุรี ส่งต…</td><td>&quot;กรุงเทพมหานคร&quot;</td><td>&quot;https://storag…</td><td>[&quot;แสงสว่าง&quot;]</td><td>&quot;ส่งต่อ(ใหม่)&quot;</td><td>&quot;2023-KKGF42&quot;</td><td>2023-05-13 12:32:34.437273 +00:00</td><td>&quot;แสงสว่าง&quot;</td></tr><tr><td>&quot;474 ซอย ประชาอ…</td><td>null</td><td>[&quot;100.58855&quot;, &quot;13.77507&quot;]</td><td>0</td><td>&quot;เสาไฟไม่เปิดไฟ…</td><td>&quot;2023-05-13 12:…</td><td>null</td><td>&quot;กรุงเทพมหานคร&quot;</td><td>&quot;https://storag…</td><td>[&quot;ถนน&quot;, &quot;แสงสว่าง&quot;]</td><td>&quot;รอรับเรื่อง&quot;</td><td>&quot;2023-4N4AF2&quot;</td><td>2023-05-13 12:30:48.255606 +00:00</td><td>&quot;ถนน,แสงสว่าง&quot;</td></tr><tr><td>&quot;12 ถนนสามเสน แ…</td><td>null</td><td>[&quot;100.50770&quot;, &quot;13.77698&quot;]</td><td>0</td><td>&quot;ป้ายรถเมล์ชำรุ…</td><td>&quot;2023-05-13 12:…</td><td>null</td><td>&quot;กรุงเทพมหานคร&quot;</td><td>&quot;https://storag…</td><td>[&quot;การเดินทาง&quot;]</td><td>&quot;รอรับเรื่อง&quot;</td><td>&quot;2023-AYFHMD&quot;</td><td>2023-05-13 12:29:56.327782 +00:00</td><td>&quot;การเดินทาง&quot;</td></tr><tr><td>&quot;571 ซอย จรัญสน…</td><td>null</td><td>[&quot;100.49138&quot;, &quot;13.77879&quot;]</td><td>0</td><td>&quot;à¸¡à¸µà¸à¸²à¸…</td><td>&quot;2023-05-13 12:…</td><td>null</td><td>&quot;กรุงเทพมหานคร&quot;</td><td>&quot;https://storag…</td><td>[&quot;ป้าย&quot;, &quot;การเดินทาง&quot;]</td><td>&quot;รอรับเรื่อง&quot;</td><td>&quot;2023-K2ZXVP&quot;</td><td>2023-05-13 12:29:18.335943 +00:00</td><td>&quot;ป้าย,การเดินทา…</td></tr><tr><td>&quot;21 ซอย แสงอุทั…</td><td>null</td><td>[&quot;100.54948&quot;, &quot;13.76224&quot;]</td><td>0</td><td>&quot;ไฟดับ&quot;</td><td>&quot;2023-05-13 12:…</td><td>null</td><td>&quot;กรุงเทพมหานคร&quot;</td><td>&quot;https://storag…</td><td>[&quot;แสงสว่าง&quot;]</td><td>&quot;รอรับเรื่อง&quot;</td><td>&quot;2023-62THQ7&quot;</td><td>2023-05-13 12:26:20.478288 +00:00</td><td>&quot;แสงสว่าง&quot;</td></tr><tr><td>&quot;180/167 หมู่ 4…</td><td>null</td><td>[&quot;100.60941&quot;, &quot;13.88981&quot;]</td><td>0</td><td>&quot;ซ่อมถนนไม่เรีย…</td><td>&quot;2023-05-13 12:…</td><td>null</td><td>&quot;กรุงเทพมหานคร&quot;</td><td>&quot;https://storag…</td><td>[&quot;ถนน&quot;]</td><td>&quot;รอรับเรื่อง&quot;</td><td>&quot;2023-LHYTBQ&quot;</td><td>2023-05-13 12:23:15.710923 +00:00</td><td>&quot;ถนน&quot;</td></tr><tr><td>&quot;888/20 ซ. ประช…</td><td>null</td><td>[&quot;100.58839&quot;, &quot;13.78228&quot;]</td><td>0</td><td>&quot;à¸à¸±à¸à¸«à¸…</td><td>&quot;2023-05-13 12:…</td><td>null</td><td>&quot;กรุงเทพมหานคร&quot;</td><td>&quot;https://storag…</td><td>[&quot;ร้องเรียน&quot;]</td><td>&quot;รอรับเรื่อง&quot;</td><td>&quot;2023-AAF7ZH&quot;</td><td>2023-05-13 12:17:44.350781 +00:00</td><td>&quot;ร้องเรียน&quot;</td></tr><tr><td>&quot;89/1 Chinnamat…</td><td>null</td><td>[&quot;100.60512&quot;, &quot;13.70691&quot;]</td><td>0</td><td>&quot;&quot;XCross&quot; à¹à¸…</td><td>&quot;2023-05-13 12:…</td><td>&quot;เขตวัฒนา ส่งต่…</td><td>&quot;กรุงเทพมหานคร&quot;</td><td>&quot;https://storag…</td><td>[&quot;กีดขวาง&quot;, &quot;สะพาน&quot;, &quot;ความปลอดภัย&quot;]</td><td>&quot;ส่งต่อ(ใหม่)&quot;</td><td>&quot;2023-KEN8DE&quot;</td><td>2023-05-13 12:15:42.180563 +00:00</td><td>&quot;กีดขวาง,สะพาน,…</td></tr><tr><td>&quot;315 ถ. นครชัยศ…</td><td>null</td><td>[&quot;100.51732&quot;, &quot;13.78224&quot;]</td><td>0</td><td>&quot;ไฟไม่ติด&quot;</td><td>&quot;2023-05-13 12:…</td><td>null</td><td>&quot;กรุงเทพมหานคร&quot;</td><td>&quot;https://storag…</td><td>[&quot;แสงสว่าง&quot;]</td><td>&quot;รอรับเรื่อง&quot;</td><td>&quot;2023-FKTPW2&quot;</td><td>2023-05-13 12:13:25.223747 +00:00</td><td>&quot;แสงสว่าง&quot;</td></tr><tr><td>&quot;Yan Hee Hospit…</td><td>null</td><td>[&quot;100.51134&quot;, &quot;13.79963&quot;]</td><td>0</td><td>&quot;ตรงทางเท้าที่ก…</td><td>&quot;2023-05-13 12:…</td><td>null</td><td>&quot;กรุงเทพมหานคร&quot;</td><td>&quot;https://storag…</td><td>[&quot;ถนน&quot;, &quot;ทางเท้า&quot;]</td><td>&quot;รอรับเรื่อง&quot;</td><td>&quot;2023-HBT3ZV&quot;</td><td>2023-05-13 12:12:39.480185 +00:00</td><td>&quot;ถนน,ทางเท้า&quot;</td></tr><tr><td>&hellip;</td><td>&hellip;</td><td>&hellip;</td><td>&hellip;</td><td>&hellip;</td><td>&hellip;</td><td>&hellip;</td><td>&hellip;</td><td>&hellip;</td><td>&hellip;</td><td>&hellip;</td><td>&hellip;</td><td>&hellip;</td><td>&hellip;</td></tr><tr><td>&quot;186 ซอย สุขุมว…</td><td>&quot;https://storag…</td><td>[&quot;100.56505&quot;, &quot;13.72742&quot;]</td><td>1</td><td>&quot;เขตคลองเตย ทาง…</td><td>&quot;2022-07-05 08:…</td><td>&quot;สำนักงานเขตคลอ…</td><td>&quot;กรุงเทพมหานคร&quot;</td><td>&quot;https://storag…</td><td>[&quot;&quot;]</td><td>&quot;เสร็จสิ้น&quot;</td><td>&quot;2022-9D9FFE&quot;</td><td>2022-05-29 23:24:24.851926 +00:00</td><td>null</td></tr><tr><td>&quot;มูลนิธิเพื่อคุ…</td><td>null</td><td>[&quot;100.75715&quot;, &quot;13.82846&quot;]</td><td>null</td><td>&quot;à¹à¸£à¸·à¹à¸…</td><td>&quot;2023-03-08 04:…</td><td>&quot;สำนักการจราจรแ…</td><td>&quot;กรุงเทพมหานคร&quot;</td><td>&quot;https://storag…</td><td>[&quot;ถนน&quot;]</td><td>&quot;ของบประมาณ&quot;</td><td>&quot;2022-G2YBML&quot;</td><td>2022-05-29 23:20:04.384301 +00:00</td><td>&quot;ถนน&quot;</td></tr><tr><td>&quot;483/1 พระราม 3…</td><td>null</td><td>[&quot;100.51472&quot;, &quot;13.68851&quot;]</td><td>null</td><td>&quot;ปกติขับรถผ่านท…</td><td>&quot;2023-03-30 14:…</td><td>&quot;การไฟฟ้านครหลว…</td><td>&quot;กรุงเทพมหานคร&quot;</td><td>&quot;https://storag…</td><td>[&quot;ถนน&quot;]</td><td>&quot;รอรับเรื่อง&quot;</td><td>&quot;2022-DN3LWG&quot;</td><td>2022-05-29 23:18:59.822361 +00:00</td><td>&quot;ถนน&quot;</td></tr><tr><td>&quot;765 ถ. ประชาชื…</td><td>&quot;https://storag…</td><td>[&quot;100.53603&quot;, &quot;13.82149&quot;]</td><td>null</td><td>&quot;ขยะถูกนำมาทิ้ง…</td><td>&quot;2022-06-04 15:…</td><td>null</td><td>&quot;กรุงเทพมหานคร&quot;</td><td>&quot;https://storag…</td><td>[&quot;ความสะอาด&quot;]</td><td>&quot;เสร็จสิ้น&quot;</td><td>&quot;2022-CRF3T8&quot;</td><td>2022-05-29 22:56:46.020058 +00:00</td><td>&quot;ความสะอาด&quot;</td></tr><tr><td>&quot;99/260 กัลปพฤก…</td><td>&quot;https://storag…</td><td>[&quot;100.41100&quot;, &quot;13.68022&quot;]</td><td>null</td><td>&quot;ปัญหาในพื้นที่…</td><td>&quot;2022-07-16 09:…</td><td>&quot;ฝ่ายรักษาความส…</td><td>&quot;กรุงเทพมหานคร&quot;</td><td>&quot;https://storag…</td><td>[&quot;ความสะอาด&quot;]</td><td>&quot;เสร็จสิ้น&quot;</td><td>&quot;2022-8RTTFV&quot;</td><td>2022-05-29 22:09:47.129909 +00:00</td><td>&quot;ความสะอาด&quot;</td></tr><tr><td>&quot;276/46 เพชรเกษ…</td><td>&quot;https://storag…</td><td>[&quot;100.48260&quot;, &quot;13.73389&quot;]</td><td>null</td><td>&quot;à¸à¸­à¸¢à¹à¸…</td><td>&quot;2023-03-27 04:…</td><td>&quot;เจ้าหน้าที่ฝ่า…</td><td>&quot;กรุงเทพมหานคร&quot;</td><td>&quot;https://storag…</td><td>[&quot;ถนน&quot;]</td><td>&quot;เสร็จสิ้น&quot;</td><td>&quot;2022-EEFY4G&quot;</td><td>2022-05-29 22:01:12.485714 +00:00</td><td>&quot;ถนน&quot;</td></tr><tr><td>&quot;204 ถ. พัฒนากา…</td><td>null</td><td>[&quot;100.65725&quot;, &quot;13.72714&quot;]</td><td>null</td><td>&quot;กรณีทีใบนัดพบแ…</td><td>&quot;2022-06-23 12:…</td><td>&quot;จากกรณีที่ผู้ร…</td><td>&quot;กรุงเทพมหานคร&quot;</td><td>&quot;https://storag…</td><td>[&quot;&quot;]</td><td>&quot;เสร็จสิ้น&quot;</td><td>&quot;2022-MF9RNQ&quot;</td><td>2022-05-29 21:00:55.910766 +00:00</td><td>null</td></tr><tr><td>&quot;204 ถ. พัฒนากา…</td><td>null</td><td>[&quot;100.65725&quot;, &quot;13.72714&quot;]</td><td>null</td><td>&quot;ตำแหน่งที่อยูห…</td><td>&quot;2022-06-23 12:…</td><td>&quot;เขตประเวศ ส่งต…</td><td>&quot;กรุงเทพมหานคร&quot;</td><td>&quot;https://storag…</td><td>[&quot;&quot;]</td><td>&quot;เสร็จสิ้น&quot;</td><td>&quot;2022-EGQ6CW&quot;</td><td>2022-05-29 20:58:29.658665 +00:00</td><td>null</td></tr><tr><td>&quot;สำนักงานเขตหนอ…</td><td>&quot;https://storag…</td><td>[&quot;100.86208&quot;, &quot;13.85537&quot;]</td><td>null</td><td>&quot;à¸à¸±à¸à¸«à¸…</td><td>&quot;2022-08-14 07:…</td><td>&quot;งานจราจรได้มีก…</td><td>&quot;กรุงเทพมหานคร&quot;</td><td>&quot;https://storag…</td><td>[&quot;จราจร&quot;]</td><td>&quot;เสร็จสิ้น&quot;</td><td>&quot;2022-GWVZFU&quot;</td><td>2022-05-29 20:10:58.981769 +00:00</td><td>&quot;จราจร&quot;</td></tr><tr><td>&quot;114 ถนน เชื่อม…</td><td>null</td><td>[&quot;100.86163&quot;, &quot;13.85738&quot;]</td><td>null</td><td>&quot;à¸·à¸à¸³à¹à¸…</td><td>&quot;2023-01-29 04:…</td><td>&quot;จะนำข้อเสนอดัง…</td><td>&quot;กรุงเทพมหานคร&quot;</td><td>&quot;https://storag…</td><td>[&quot;คลอง&quot;]</td><td>&quot;กำลังดำเนินการ…</td><td>&quot;2022-KEL8RF&quot;</td><td>2022-05-29 19:58:42.298968 +00:00</td><td>&quot;คลอง&quot;</td></tr><tr><td>&quot;หมู่บ้านศรินดา…</td><td>null</td><td>[&quot;100.86366&quot;, &quot;13.88847&quot;]</td><td>null</td><td>&quot;จำนวนรถเมล์ ทิ…</td><td>&quot;2022-07-20 04:…</td><td>&quot;เขตหนองจอก ส่ง…</td><td>&quot;กรุงเทพมหานคร&quot;</td><td>&quot;https://storag…</td><td>[&quot;ถนน&quot;]</td><td>&quot;กำลังดำเนินการ…</td><td>&quot;2022-B89R63&quot;</td><td>2022-05-29 19:53:38.248163 +00:00</td><td>&quot;ถนน&quot;</td></tr><tr><td>&quot;297 ถนน รามคำแ…</td><td>&quot;https://storag…</td><td>[&quot;100.65757&quot;, &quot;13.76689&quot;]</td><td>1</td><td>&quot;ทางเดินริมคลอง…</td><td>&quot;2023-03-15 05:…</td><td>&quot;📣สำนักการโยธา …</td><td>&quot;กรุงเทพมหานคร&quot;</td><td>&quot;https://storag…</td><td>[&quot;ความปลอดภัย&quot;]</td><td>&quot;จัดซื้อจัดจ้าง…</td><td>&quot;2022-KNV8A9&quot;</td><td>2022-05-29 19:47:10.306217 +00:00</td><td>&quot;ความปลอดภัย&quot;</td></tr></tbody></table></div>"
      ],
      "text/plain": [
       "shape: (271_135, 14)\n",
       "┌───────────┬───────────┬───────────┬────────────┬───┬───────────┬─────────┬───────────┬───────────┐\n",
       "│ address   ┆ after_pho ┆ coords    ┆ count_reop ┆ … ┆ state     ┆ ticket_ ┆ timestamp ┆ type      │\n",
       "│ ---       ┆ to        ┆ ---       ┆ en         ┆   ┆ ---       ┆ id      ┆ ---       ┆ ---       │\n",
       "│ str       ┆ ---       ┆ list[str] ┆ ---        ┆   ┆ str       ┆ ---     ┆ datetime[ ┆ str       │\n",
       "│           ┆ str       ┆           ┆ i32        ┆   ┆           ┆ str     ┆ ns,       ┆           │\n",
       "│           ┆           ┆           ┆            ┆   ┆           ┆         ┆ +00:00]   ┆           │\n",
       "╞═══════════╪═══════════╪═══════════╪════════════╪═══╪═══════════╪═════════╪═══════════╪═══════════╡\n",
       "│ 16 ซอย    ┆ null      ┆ [\"100.699 ┆ 0          ┆ … ┆ รอรับเรื่อง  ┆ 2023-76 ┆ 2023-05-1 ┆ ร้องเรียน   │\n",
       "│ กาญจนาภิเษ ┆           ┆ 43\", \"13. ┆            ┆   ┆           ┆ ZRQ8    ┆ 3 12:37:3 ┆           │\n",
       "│ ก 24 แขวง ┆           ┆ 71439\"]   ┆            ┆   ┆           ┆         ┆ 9.151965  ┆           │\n",
       "│ ประเว…    ┆           ┆           ┆            ┆   ┆           ┆         ┆ +00:0…    ┆           │\n",
       "│ 528 ซอย   ┆ null      ┆ [\"100.643 ┆ 0          ┆ … ┆ รอรับเรื่อง  ┆ 2023-H8 ┆ 2023-05-1 ┆ ถนน,ป้าย   │\n",
       "│ นวลจันทร์   ┆           ┆ 54\", \"13. ┆            ┆   ┆           ┆ VKLR    ┆ 3 12:34:4 ┆           │\n",
       "│ 22 แขวง   ┆           ┆ 82122\"]   ┆            ┆   ┆           ┆         ┆ 0.086515  ┆           │\n",
       "│ บึงกุ่…      ┆           ┆           ┆            ┆   ┆           ┆         ┆ +00:0…    ┆           │\n",
       "│ วุฒากาศ    ┆ null      ┆ [\"100.468 ┆ 0          ┆ … ┆ ส่งต่อ(ใหม่) ┆ 2023-KK ┆ 2023-05-1 ┆ แสงสว่าง   │\n",
       "│ วุฒากาศ    ┆           ┆ 82\", \"13. ┆            ┆   ┆           ┆ GF42    ┆ 3 12:32:3 ┆           │\n",
       "│ แขวง      ┆           ┆ 71297\"]   ┆            ┆   ┆           ┆         ┆ 4.437273  ┆           │\n",
       "│ ตลาดพลู    ┆           ┆           ┆            ┆   ┆           ┆         ┆ +00:0…    ┆           │\n",
       "│ เขต…      ┆           ┆           ┆            ┆   ┆           ┆         ┆           ┆           │\n",
       "│ 474 ซอย   ┆ null      ┆ [\"100.588 ┆ 0          ┆ … ┆ รอรับเรื่อง  ┆ 2023-4N ┆ 2023-05-1 ┆ ถนน,แสงสว่ │\n",
       "│ ประชาอุทิศ  ┆           ┆ 55\", \"13. ┆            ┆   ┆           ┆ 4AF2    ┆ 3 12:30:4 ┆ าง        │\n",
       "│ 19 แขวงสา ┆           ┆ 77507\"]   ┆            ┆   ┆           ┆         ┆ 8.255606  ┆           │\n",
       "│ มเสน…     ┆           ┆           ┆            ┆   ┆           ┆         ┆ +00:0…    ┆           │\n",
       "│ …         ┆ …         ┆ …         ┆ …          ┆ … ┆ …         ┆ …       ┆ …         ┆ …         │\n",
       "│ สำนักงานเข ┆ https://s ┆ [\"100.862 ┆ null       ┆ … ┆ เสร็จสิ้น    ┆ 2022-GW ┆ 2022-05-2 ┆ จราจร     │\n",
       "│ ตหนองจอก  ┆ torage.go ┆ 08\", \"13. ┆            ┆   ┆           ┆ VZFU    ┆ 9 20:10:5 ┆           │\n",
       "│ แขวง      ┆ ogleapis. ┆ 85537\"]   ┆            ┆   ┆           ┆         ┆ 8.981769  ┆           │\n",
       "│ กระทุ่มร…   ┆ com/t…    ┆           ┆            ┆   ┆           ┆         ┆ +00:0…    ┆           │\n",
       "│ 114 ถนน   ┆ null      ┆ [\"100.861 ┆ null       ┆ … ┆ กำลังดำเนิน ┆ 2022-KE ┆ 2022-05-2 ┆ คลอง      │\n",
       "│ เชื่อมสัมพันธ์ ┆           ┆ 63\", \"13. ┆            ┆   ┆ การ       ┆ L8RF    ┆ 9 19:58:4 ┆           │\n",
       "│ แขวง      ┆           ┆ 85738\"]   ┆            ┆   ┆           ┆         ┆ 2.298968  ┆           │\n",
       "│ หนอง…     ┆           ┆           ┆            ┆   ┆           ┆         ┆ +00:0…    ┆           │\n",
       "│ หมู่บ้านศรินด ┆ null      ┆ [\"100.863 ┆ null       ┆ … ┆ กำลังดำเนิน ┆ 2022-B8 ┆ 2022-05-2 ┆ ถนน       │\n",
       "│ า แขวง    ┆           ┆ 66\", \"13. ┆            ┆   ┆ การ       ┆ 9R63    ┆ 9 19:53:3 ┆           │\n",
       "│ คลองสิบสอง ┆           ┆ 88847\"]   ┆            ┆   ┆           ┆         ┆ 8.248163  ┆           │\n",
       "│ เ…        ┆           ┆           ┆            ┆   ┆           ┆         ┆ +00:0…    ┆           │\n",
       "│ 297 ถนน   ┆ https://s ┆ [\"100.657 ┆ 1          ┆ … ┆ จัดซื้อจัดจ้าง ┆ 2022-KN ┆ 2022-05-2 ┆ ความปลอดภั │\n",
       "│ รามคำแหง  ┆ torage.go ┆ 57\", \"13. ┆            ┆   ┆           ┆ V8A9    ┆ 9 19:47:1 ┆ ย         │\n",
       "│ แขวง      ┆ ogleapis. ┆ 76689\"]   ┆            ┆   ┆           ┆         ┆ 0.306217  ┆           │\n",
       "│ หัวหมาก    ┆ com/t…    ┆           ┆            ┆   ┆           ┆         ┆ +00:0…    ┆           │\n",
       "│ เข…       ┆           ┆           ┆            ┆   ┆           ┆         ┆           ┆           │\n",
       "└───────────┴───────────┴───────────┴────────────┴───┴───────────┴─────────┴───────────┴───────────┘"
      ]
     },
     "metadata": {},
     "output_type": "display_data"
    }
   ],
   "source": [
    "# Remove rows with null ticket_id\n",
    "\n",
    "df = df.filter(\n",
    "    (col('ticket_id').is_not_null())\n",
    ")\n",
    "display(df)"
   ]
  },
  {
   "cell_type": "code",
   "execution_count": 215,
   "metadata": {},
   "outputs": [
    {
     "data": {
      "text/html": [
       "<div><style>\n",
       ".dataframe > thead > tr > th,\n",
       ".dataframe > tbody > tr > td {\n",
       "  text-align: right;\n",
       "}\n",
       "</style>\n",
       "<small>shape: (271_108, 14)</small><table border=\"1\" class=\"dataframe\"><thead><tr><th>address</th><th>after_photo</th><th>coords</th><th>count_reopen</th><th>description</th><th>last_activity</th><th>note</th><th>org</th><th>photo_url</th><th>problem_type_abdul</th><th>state</th><th>ticket_id</th><th>timestamp</th><th>type</th></tr><tr><td>str</td><td>str</td><td>list[str]</td><td>i32</td><td>str</td><td>str</td><td>str</td><td>str</td><td>str</td><td>list[str]</td><td>str</td><td>str</td><td>datetime[ns, +00:00]</td><td>str</td></tr></thead><tbody><tr><td>&quot;22 ซอย อินทาปั…</td><td>&quot;https://storag…</td><td>[&quot;100.38166&quot;, &quot;13.69264&quot;]</td><td>null</td><td>&quot;เป็นหลุม&quot;</td><td>&quot;2022-07-28 12:…</td><td>&quot;จนท.ฝ่ายโยธาได…</td><td>&quot;กรุงเทพมหานคร&quot;</td><td>&quot;https://storag…</td><td>[&quot;&quot;]</td><td>&quot;เสร็จสิ้น&quot;</td><td>&quot;2022-BRHYEK&quot;</td><td>2022-07-26 08:58:12.793827 +00:00</td><td>null</td></tr><tr><td>&quot;109 ถนนพระยาสุ…</td><td>&quot;https://storag…</td><td>[&quot;100.70763&quot;, &quot;13.82916&quot;]</td><td>null</td><td>&quot;คลองระบายนำ้&quot;</td><td>&quot;2022-12-13 10:…</td><td>&quot;รับทราบค่ะ..สำ…</td><td>&quot;กรุงเทพมหานคร&quot;</td><td>&quot;https://storag…</td><td>[&quot;คลอง&quot;]</td><td>&quot;เสร็จสิ้น&quot;</td><td>&quot;2022-KLQKTK&quot;</td><td>2022-07-02 10:36:22.537114 +00:00</td><td>&quot;คลอง&quot;</td></tr><tr><td>&quot;ตรงข้ามหมู่บ้า…</td><td>null</td><td>[&quot;100.40295&quot;, &quot;13.63610&quot;]</td><td>0</td><td>&quot;รถติดมากบน ถ.พ…</td><td>&quot;2022-11-28 01:…</td><td>&quot;เขตบางขุนเทียน…</td><td>&quot;กรุงเทพมหานคร&quot;</td><td>&quot;https://storag…</td><td>[&quot;จราจร&quot;]</td><td>&quot;รอรับเรื่อง&quot;</td><td>&quot;2022-HEZE7Y&quot;</td><td>2022-11-28 01:45:02.407940 +00:00</td><td>&quot;จราจร&quot;</td></tr><tr><td>&quot;32 ถนน บางแค แ…</td><td>&quot;https://storag…</td><td>[&quot;100.42094&quot;, &quot;13.70942&quot;]</td><td>0</td><td>&quot;ป้ายกองโจร&quot;</td><td>&quot;2022-09-24 06:…</td><td>&quot;ดำเนินการแก้ไข…</td><td>&quot;กรุงเทพมหานคร&quot;</td><td>&quot;https://storag…</td><td>[&quot;&quot;]</td><td>&quot;เสร็จสิ้น&quot;</td><td>&quot;2022-3K88WM&quot;</td><td>2022-09-24 01:27:37.099410 +00:00</td><td>null</td></tr><tr><td>&quot;12/103 ซอย เฉล…</td><td>&quot;https://storag…</td><td>[&quot;100.65572&quot;, &quot;13.68432&quot;]</td><td>null</td><td>&quot;-ขยะร้านอาหารเ…</td><td>&quot;2022-07-31 03:…</td><td>&quot;สำนักงานเขตประ…</td><td>&quot;กรุงเทพมหานคร&quot;</td><td>&quot;https://storag…</td><td>[&quot;ความสะอาด&quot;]</td><td>&quot;เสร็จสิ้น&quot;</td><td>&quot;2022-AML782&quot;</td><td>2022-07-31 03:11:14.025006 +00:00</td><td>&quot;ความสะอาด&quot;</td></tr><tr><td>&quot;571/6 ถ. อโศก …</td><td>null</td><td>[&quot;100.56157&quot;, &quot;13.75551&quot;]</td><td>null</td><td>&quot;คันกั้นคลองสาม…</td><td>&quot;2022-08-10 01:…</td><td>&quot;อยู่ระหว่างของ…</td><td>&quot;กรุงเทพมหานคร&quot;</td><td>&quot;https://storag…</td><td>[&quot;ความปลอดภัย&quot;, &quot;คลอง&quot;]</td><td>&quot;เสร็จสิ้น&quot;</td><td>&quot;2022-GN8ZUN&quot;</td><td>2022-07-06 08:34:04.199206 +00:00</td><td>&quot;ความปลอดภัย,คล…</td></tr><tr><td>&quot;คลองสาน แขวง ค…</td><td>null</td><td>[&quot;100.50775&quot;, &quot;13.73034&quot;]</td><td>0</td><td>&quot;จุดรอรถเมล์ รถ…</td><td>&quot;2023-03-26 11:…</td><td>&quot;ช่วยอัพเดทหน่อ…</td><td>&quot;กรุงเทพมหานคร&quot;</td><td>&quot;https://storag…</td><td>[&quot;ป้าย&quot;]</td><td>&quot;ติดตามเรื่อง&quot;</td><td>&quot;2023-CLTRLK&quot;</td><td>2023-01-13 15:46:44.145539 +00:00</td><td>&quot;ป้าย&quot;</td></tr><tr><td>&quot;เลขที่ 89/484 …</td><td>null</td><td>[&quot;100.72299&quot;, &quot;13.92927&quot;]</td><td>0</td><td>&quot;มีป้ายโฆษณากีด…</td><td>&quot;2023-01-15 13:…</td><td>null</td><td>&quot;เพื่อนชัชชาติ&quot;</td><td>&quot;https://storag…</td><td>[&quot;ทางเท้า&quot;, &quot;กีดขวาง&quot;, &quot;ป้าย&quot;]</td><td>&quot;รอรับเรื่อง&quot;</td><td>&quot;2023-NY6YHM&quot;</td><td>2023-01-15 13:19:53.053838 +00:00</td><td>&quot;ทางเท้า,กีดขวา…</td></tr><tr><td>&quot;39 ซอย นาคนิวา…</td><td>&quot;https://storag…</td><td>[&quot;100.60946&quot;, &quot;13.81046&quot;]</td><td>0</td><td>&quot;à¸à¸¹à¹à¸£à¸…</td><td>&quot;2022-09-01 03:…</td><td>&quot;สำนักงานเขตลาด…</td><td>&quot;กรุงเทพมหานคร&quot;</td><td>&quot;https://storag…</td><td>[&quot;ถนน&quot;, &quot;น้ำท่วม&quot;]</td><td>&quot;เสร็จสิ้น&quot;</td><td>&quot;2022-MHKXHU&quot;</td><td>2022-08-26 03:50:02.161610 +00:00</td><td>&quot;ถนน,น้ำท่วม&quot;</td></tr><tr><td>&quot;1004/8 พหลโยธิ…</td><td>&quot;https://storag…</td><td>[&quot;100.58362&quot;, &quot;13.83410&quot;]</td><td>null</td><td>&quot;à¸à¸§à¸£à¸¡à¸…</td><td>&quot;2023-03-10 12:…</td><td>&quot;ได้มีการปรับเป…</td><td>&quot;กรุงเทพมหานคร&quot;</td><td>&quot;https://storag…</td><td>[&quot;ถนน&quot;]</td><td>&quot;เสร็จสิ้น&quot;</td><td>&quot;2022-FH7QKH&quot;</td><td>2022-06-04 06:11:03.830281 +00:00</td><td>&quot;ถนน&quot;</td></tr><tr><td>&quot;414 212 ถ. พุท…</td><td>&quot;https://storag…</td><td>[&quot;100.39543&quot;, &quot;13.73963&quot;]</td><td>null</td><td>&quot;ต้นไม้ละหลังคา…</td><td>&quot;2022-07-23 09:…</td><td>&quot;ฝ่ายรักษาความส…</td><td>&quot;กรุงเทพมหานคร&quot;</td><td>&quot;https://storag…</td><td>[&quot;ต้นไม้&quot;]</td><td>&quot;เสร็จสิ้น&quot;</td><td>&quot;2022-394V6D&quot;</td><td>2022-07-20 02:41:52.723197 +00:00</td><td>&quot;ต้นไม้&quot;</td></tr><tr><td>&quot;93 ถนน ราชดำเน…</td><td>&quot;https://storag…</td><td>[&quot;100.50316&quot;, &quot;13.75661&quot;]</td><td>null</td><td>&quot;คนไร้บ้านสร้าง…</td><td>&quot;2022-08-20 04:…</td><td>&quot;à¸à¹à¸²à¸¢à¹…</td><td>&quot;กรุงเทพมหานคร&quot;</td><td>&quot;https://storag…</td><td>[&quot;&quot;]</td><td>&quot;เสร็จสิ้น&quot;</td><td>&quot;2022-PZAFQY&quot;</td><td>2022-08-19 09:45:09.244126 +00:00</td><td>null</td></tr><tr><td>&hellip;</td><td>&hellip;</td><td>&hellip;</td><td>&hellip;</td><td>&hellip;</td><td>&hellip;</td><td>&hellip;</td><td>&hellip;</td><td>&hellip;</td><td>&hellip;</td><td>&hellip;</td><td>&hellip;</td><td>&hellip;</td><td>&hellip;</td></tr><tr><td>&quot;à¹à¸à¸£à¸´à¸…</td><td>&quot;https://storag…</td><td>[&quot;100.51120&quot;, &quot;13.70569&quot;]</td><td>0</td><td>&quot;à¸à¸£à¸¸à¸à¸…</td><td>&quot;2023-03-14 06:…</td><td>&quot;ฝ่ายโยธาได้ดำเ…</td><td>&quot;กรุงเทพมหานคร&quot;</td><td>&quot;https://storag…</td><td>[&quot;ถนน&quot;, &quot;แสงสว่าง&quot;]</td><td>&quot;เสร็จสิ้น&quot;</td><td>&quot;9HNDA3&quot;</td><td>2023-03-10 13:02:21.608840 +00:00</td><td>&quot;ถนน,แสงสว่าง&quot;</td></tr><tr><td>&quot;86/15 ซ. ประทุ…</td><td>&quot;https://storag…</td><td>[&quot;100.59397&quot;, &quot;13.66745&quot;]</td><td>0</td><td>&quot;ฝาท่อระบายน้ำช…</td><td>&quot;2022-09-03 04:…</td><td>&quot;เขตบางนา เชิญร…</td><td>&quot;กรุงเทพมหานคร&quot;</td><td>&quot;https://storag…</td><td>[&quot;ท่อระบายน้ำ&quot;]</td><td>&quot;เสร็จสิ้น&quot;</td><td>&quot;2022-NETGGP&quot;</td><td>2022-08-27 05:18:50.692546 +00:00</td><td>&quot;ท่อระบายน้ำ&quot;</td></tr><tr><td>&quot;216/1 ถนน พิษณ…</td><td>null</td><td>[&quot;100.51577&quot;, &quot;13.76121&quot;]</td><td>null</td><td>&quot;สายไฟ สายสื่อส…</td><td>&quot;2023-05-08 08:…</td><td>&quot;à¸à¸£à¸´à¸©à¸…</td><td>&quot;กรุงเทพมหานคร&quot;</td><td>&quot;https://storag…</td><td>[&quot;สายไฟ&quot;]</td><td>&quot;กำลังดำเนินการ…</td><td>&quot;2022-ABDLNZ&quot;</td><td>2022-08-06 04:44:44.687414 +00:00</td><td>&quot;สายไฟ&quot;</td></tr><tr><td>&quot;41 ถนน จรัญสนิ…</td><td>&quot;https://storag…</td><td>[&quot;100.50551&quot;, &quot;13.79381&quot;]</td><td>null</td><td>&quot;สายไฟไม่เรียบร…</td><td>&quot;2022-07-09 10:…</td><td>&quot;ฝึกทดสอบคนงานใ…</td><td>&quot;กรุงเทพมหานคร&quot;</td><td>&quot;https://storag…</td><td>[&quot;สายไฟ&quot;]</td><td>&quot;เสร็จสิ้น&quot;</td><td>&quot;2022-4HYPT9&quot;</td><td>2022-07-09 02:50:53.113633 +00:00</td><td>&quot;สายไฟ&quot;</td></tr><tr><td>&quot;78 ซอย รักษาดิ…</td><td>&quot;https://storag…</td><td>[&quot;100.52083&quot;, &quot;13.78448&quot;]</td><td>0</td><td>&quot;แจ้งติดตั้งไฟฟ…</td><td>&quot;2022-10-21 08:…</td><td>&quot;สำนักการจราจรแ…</td><td>&quot;กรุงเทพมหานคร&quot;</td><td>&quot;https://storag…</td><td>[&quot;&quot;]</td><td>&quot;เสร็จสิ้น&quot;</td><td>&quot;2022-G89RKW&quot;</td><td>2022-10-01 09:52:19.137439 +00:00</td><td>null</td></tr><tr><td>&quot;หมู่บ้านรินทร์…</td><td>&quot;https://storag…</td><td>[&quot;100.72513&quot;, &quot;13.80453&quot;]</td><td>0</td><td>&quot;ถนนไม่เรียบ&quot;</td><td>&quot;2022-11-02 09:…</td><td>&quot;ทางโครงการรถไฟ…</td><td>&quot;กรุงเทพมหานคร&quot;</td><td>&quot;https://storag…</td><td>[&quot;ถนน&quot;]</td><td>&quot;เสร็จสิ้น&quot;</td><td>&quot;2022-MLA4EC&quot;</td><td>2022-09-21 01:40:56.402287 +00:00</td><td>&quot;ถนน&quot;</td></tr><tr><td>&quot;QJ7W+44R แขวงห…</td><td>null</td><td>[&quot;100.64541&quot;, &quot;13.76288&quot;]</td><td>0</td><td>&quot;ผู้รับเหมาบริเ…</td><td>&quot;2023-02-04 08:…</td><td>&quot;รฟม รับเรื่องร…</td><td>&quot;กรุงเทพมหานคร&quot;</td><td>&quot;https://storag…</td><td>[&quot;ทางเท้า&quot;, &quot;ป้าย&quot;]</td><td>&quot;ส่งต่อ(ใหม่)&quot;</td><td>&quot;2023-3KG426&quot;</td><td>2023-01-27 06:33:57.117726 +00:00</td><td>&quot;ทางเท้า,ป้าย&quot;</td></tr><tr><td>&quot;1547 ถ. พหลโยธ…</td><td>&quot;https://storag…</td><td>[&quot;100.54947&quot;, &quot;13.79356&quot;]</td><td>1</td><td>&quot;วางของบนทางเท้…</td><td>&quot;2022-07-20 10:…</td><td>&quot;à¸à¸à¸.à¸à…</td><td>&quot;กรุงเทพมหานคร&quot;</td><td>&quot;https://storag…</td><td>[&quot;&quot;]</td><td>&quot;เสร็จสิ้น&quot;</td><td>&quot;2022-AFWVTE&quot;</td><td>2022-07-05 11:09:02.877458 +00:00</td><td>null</td></tr><tr><td>&quot;163 15 หมู่ 3 …</td><td>null</td><td>[&quot;100.60552&quot;, &quot;13.96220&quot;]</td><td>null</td><td>&quot;น้ำในท่อระบายน…</td><td>&quot;2022-06-06 04:…</td><td>null</td><td>&quot;เพื่อนชัชชาติ&quot;</td><td>&quot;https://storag…</td><td>[&quot;ท่อระบายน้ำ&quot;, &quot;ถนน&quot;]</td><td>&quot;รอรับเรื่อง&quot;</td><td>&quot;2022-FBFRWY&quot;</td><td>2022-06-06 04:07:15.999225 +00:00</td><td>&quot;ท่อระบายน้ำ,ถน…</td></tr><tr><td>&quot;184 90 ถ. สุขุ…</td><td>null</td><td>[&quot;100.55848&quot;, &quot;13.73176&quot;]</td><td>null</td><td>&quot;สะพานเชื่อมต่อ…</td><td>&quot;2022-08-05 07:…</td><td>&quot;สำนักการโยธา ก…</td><td>&quot;กรุงเทพมหานคร&quot;</td><td>&quot;https://storag…</td><td>[&quot;สะพาน&quot;]</td><td>&quot;กำลังดำเนินการ…</td><td>&quot;2022-BBDTWG&quot;</td><td>2022-06-04 15:41:53.280546 +00:00</td><td>&quot;สะพาน&quot;</td></tr><tr><td>&quot;43/1039 ซอย รา…</td><td>&quot;https://storag…</td><td>[&quot;100.60054&quot;, &quot;13.87255&quot;]</td><td>0</td><td>&quot;กลิ่นเหม็นที่ป…</td><td>&quot;2023-03-08 02:…</td><td>&quot;ได้ตรวจสอบแล้ว…</td><td>&quot;กรุงเทพมหานคร&quot;</td><td>&quot;https://storag…</td><td>[&quot;&quot;]</td><td>&quot;เสร็จสิ้น&quot;</td><td>&quot;2023-32AMZ3&quot;</td><td>2023-03-03 06:55:47.833544 +00:00</td><td>null</td></tr><tr><td>&quot;1737/2 ถ. ลาดพ…</td><td>&quot;https://storag…</td><td>[&quot;100.58836&quot;, &quot;13.79787&quot;]</td><td>0</td><td>&quot;ขอขอบคุณที่ซ่อ…</td><td>&quot;2022-09-05 02:…</td><td>&quot;เจ้าหน้าที่รับ…</td><td>&quot;กรุงเทพมหานคร&quot;</td><td>&quot;https://storag…</td><td>[&quot;&quot;]</td><td>&quot;เสร็จสิ้น&quot;</td><td>&quot;2022-9MNVDB&quot;</td><td>2022-09-05 02:12:58.504376 +00:00</td><td>null</td></tr></tbody></table></div>"
      ],
      "text/plain": [
       "shape: (271_108, 14)\n",
       "┌───────────┬───────────┬───────────┬────────────┬───┬───────────┬─────────┬───────────┬───────────┐\n",
       "│ address   ┆ after_pho ┆ coords    ┆ count_reop ┆ … ┆ state     ┆ ticket_ ┆ timestamp ┆ type      │\n",
       "│ ---       ┆ to        ┆ ---       ┆ en         ┆   ┆ ---       ┆ id      ┆ ---       ┆ ---       │\n",
       "│ str       ┆ ---       ┆ list[str] ┆ ---        ┆   ┆ str       ┆ ---     ┆ datetime[ ┆ str       │\n",
       "│           ┆ str       ┆           ┆ i32        ┆   ┆           ┆ str     ┆ ns,       ┆           │\n",
       "│           ┆           ┆           ┆            ┆   ┆           ┆         ┆ +00:00]   ┆           │\n",
       "╞═══════════╪═══════════╪═══════════╪════════════╪═══╪═══════════╪═════════╪═══════════╪═══════════╡\n",
       "│ 22 ซอย    ┆ https://s ┆ [\"100.381 ┆ null       ┆ … ┆ เสร็จสิ้น    ┆ 2022-BR ┆ 2022-07-2 ┆ null      │\n",
       "│ อินทาปัจ 15 ┆ torage.go ┆ 66\", \"13. ┆            ┆   ┆           ┆ HYEK    ┆ 6 08:58:1 ┆           │\n",
       "│ แขวง      ┆ ogleapis. ┆ 69264\"]   ┆            ┆   ┆           ┆         ┆ 2.793827  ┆           │\n",
       "│ หลักสอง …  ┆ com/t…    ┆           ┆            ┆   ┆           ┆         ┆ +00:0…    ┆           │\n",
       "│ 109 ถนนพร ┆ https://s ┆ [\"100.707 ┆ null       ┆ … ┆ เสร็จสิ้น    ┆ 2022-KL ┆ 2022-07-0 ┆ คลอง      │\n",
       "│ ะยาสุเรน   ┆ torage.go ┆ 63\", \"13. ┆            ┆   ┆           ┆ QKTK    ┆ 2 10:36:2 ┆           │\n",
       "│ แขวง      ┆ ogleapis. ┆ 82916\"]   ┆            ┆   ┆           ┆         ┆ 2.537114  ┆           │\n",
       "│ บางชัน เข… ┆ com/t…    ┆           ┆            ┆   ┆           ┆         ┆ +00:0…    ┆           │\n",
       "│ ตรงข้ามหมู่บ้ ┆ null      ┆ [\"100.402 ┆ 0          ┆ … ┆ รอรับเรื่อง  ┆ 2022-HE ┆ 2022-11-2 ┆ จราจร     │\n",
       "│ านอมรชัย 4 ┆           ┆ 95\", \"13. ┆            ┆   ┆           ┆ ZE7Y    ┆ 8 01:45:0 ┆           │\n",
       "│ แขวง แสม… ┆           ┆ 63610\"]   ┆            ┆   ┆           ┆         ┆ 2.407940  ┆           │\n",
       "│           ┆           ┆           ┆            ┆   ┆           ┆         ┆ +00:0…    ┆           │\n",
       "│ 32 ถนน    ┆ https://s ┆ [\"100.420 ┆ 0          ┆ … ┆ เสร็จสิ้น    ┆ 2022-3K ┆ 2022-09-2 ┆ null      │\n",
       "│ บางแค     ┆ torage.go ┆ 94\", \"13. ┆            ┆   ┆           ┆ 88WM    ┆ 4 01:27:3 ┆           │\n",
       "│ แขวง      ┆ ogleapis. ┆ 70942\"]   ┆            ┆   ┆           ┆         ┆ 7.099410  ┆           │\n",
       "│ บางแค     ┆ com/t…    ┆           ┆            ┆   ┆           ┆         ┆ +00:0…    ┆           │\n",
       "│ เขตบางแค… ┆           ┆           ┆            ┆   ┆           ┆         ┆           ┆           │\n",
       "│ …         ┆ …         ┆ …         ┆ …          ┆ … ┆ …         ┆ …       ┆ …         ┆ …         │\n",
       "│ 163 15 หมู่ ┆ null      ┆ [\"100.605 ┆ null       ┆ … ┆ รอรับเรื่อง  ┆ 2022-FB ┆ 2022-06-0 ┆ ท่อระบายน้ำ │\n",
       "│ 3 ถ.      ┆           ┆ 52\", \"13. ┆            ┆   ┆           ┆ FRWY    ┆ 6 04:07:1 ┆ ,ถนน      │\n",
       "│ กำแพงเพชร ┆           ┆ 96220\"]   ┆            ┆   ┆           ┆         ┆ 5.999225  ┆           │\n",
       "│ 6 ตำบ…    ┆           ┆           ┆            ┆   ┆           ┆         ┆ +00:0…    ┆           │\n",
       "│ 184 90 ถ. ┆ null      ┆ [\"100.558 ┆ null       ┆ … ┆ กำลังดำเนิน ┆ 2022-BB ┆ 2022-06-0 ┆ สะพาน     │\n",
       "│ สุขุมวิท     ┆           ┆ 48\", \"13. ┆            ┆   ┆ การ       ┆ DTWG    ┆ 4 15:41:5 ┆           │\n",
       "│ แขวง      ┆           ┆ 73176\"]   ┆            ┆   ┆           ┆         ┆ 3.280546  ┆           │\n",
       "│ คลองเตย … ┆           ┆           ┆            ┆   ┆           ┆         ┆ +00:0…    ┆           │\n",
       "│ 43/1039   ┆ https://s ┆ [\"100.600 ┆ 0          ┆ … ┆ เสร็จสิ้น    ┆ 2023-32 ┆ 2023-03-0 ┆ null      │\n",
       "│ ซอย       ┆ torage.go ┆ 54\", \"13. ┆            ┆   ┆           ┆ AMZ3    ┆ 3 06:55:4 ┆           │\n",
       "│ รามอินทรา  ┆ ogleapis. ┆ 87255\"]   ┆            ┆   ┆           ┆         ┆ 7.833544  ┆           │\n",
       "│ 1         ┆ com/t…    ┆           ┆            ┆   ┆           ┆         ┆ +00:0…    ┆           │\n",
       "│ แขวงอนุส…  ┆           ┆           ┆            ┆   ┆           ┆         ┆           ┆           │\n",
       "│ 1737/2 ถ. ┆ https://s ┆ [\"100.588 ┆ 0          ┆ … ┆ เสร็จสิ้น    ┆ 2022-9M ┆ 2022-09-0 ┆ null      │\n",
       "│ ลาดพร้าว   ┆ torage.go ┆ 36\", \"13. ┆            ┆   ┆           ┆ NVDB    ┆ 5 02:12:5 ┆           │\n",
       "│ แขวง      ┆ ogleapis. ┆ 79787\"]   ┆            ┆   ┆           ┆         ┆ 8.504376  ┆           │\n",
       "│ สามเสนนอ… ┆ com/t…    ┆           ┆            ┆   ┆           ┆         ┆ +00:0…    ┆           │\n",
       "└───────────┴───────────┴───────────┴────────────┴───┴───────────┴─────────┴───────────┴───────────┘"
      ]
     },
     "metadata": {},
     "output_type": "display_data"
    }
   ],
   "source": [
    "# Remove duplicate rows (base on ticket id)\n",
    "df = df.unique(['ticket_id'])\n",
    "display(df)"
   ]
  },
  {
   "cell_type": "code",
   "execution_count": 216,
   "metadata": {},
   "outputs": [
    {
     "data": {
      "text/html": [
       "<div><style>\n",
       ".dataframe > thead > tr > th,\n",
       ".dataframe > tbody > tr > td {\n",
       "  text-align: right;\n",
       "}\n",
       "</style>\n",
       "<small>shape: (271_108, 14)</small><table border=\"1\" class=\"dataframe\"><thead><tr><th>address</th><th>after_photo</th><th>coords</th><th>count_reopen</th><th>description</th><th>last_activity</th><th>note</th><th>org</th><th>photo_url</th><th>problem_type_abdul</th><th>state</th><th>ticket_id</th><th>timestamp</th><th>type</th></tr><tr><td>str</td><td>str</td><td>list[str]</td><td>i32</td><td>str</td><td>str</td><td>str</td><td>str</td><td>str</td><td>list[str]</td><td>str</td><td>str</td><td>datetime[ns, +00:00]</td><td>str</td></tr></thead><tbody><tr><td>&quot;22 ซอย อินทาปั…</td><td>&quot;https://storag…</td><td>[&quot;100.38166&quot;, &quot;13.69264&quot;]</td><td>null</td><td>&quot;เป็นหลุม&quot;</td><td>&quot;2022-07-28 12:…</td><td>&quot;จนท.ฝ่ายโยธาได…</td><td>&quot;กรุงเทพมหานคร&quot;</td><td>&quot;https://storag…</td><td>[]</td><td>&quot;เสร็จสิ้น&quot;</td><td>&quot;2022-BRHYEK&quot;</td><td>2022-07-26 08:58:12.793827 +00:00</td><td>null</td></tr><tr><td>&quot;109 ถนนพระยาสุ…</td><td>&quot;https://storag…</td><td>[&quot;100.70763&quot;, &quot;13.82916&quot;]</td><td>null</td><td>&quot;คลองระบายนำ้&quot;</td><td>&quot;2022-12-13 10:…</td><td>&quot;รับทราบค่ะ..สำ…</td><td>&quot;กรุงเทพมหานคร&quot;</td><td>&quot;https://storag…</td><td>[&quot;คลอง&quot;]</td><td>&quot;เสร็จสิ้น&quot;</td><td>&quot;2022-KLQKTK&quot;</td><td>2022-07-02 10:36:22.537114 +00:00</td><td>&quot;คลอง&quot;</td></tr><tr><td>&quot;ตรงข้ามหมู่บ้า…</td><td>null</td><td>[&quot;100.40295&quot;, &quot;13.63610&quot;]</td><td>0</td><td>&quot;รถติดมากบน ถ.พ…</td><td>&quot;2022-11-28 01:…</td><td>&quot;เขตบางขุนเทียน…</td><td>&quot;กรุงเทพมหานคร&quot;</td><td>&quot;https://storag…</td><td>[&quot;จราจร&quot;]</td><td>&quot;รอรับเรื่อง&quot;</td><td>&quot;2022-HEZE7Y&quot;</td><td>2022-11-28 01:45:02.407940 +00:00</td><td>&quot;จราจร&quot;</td></tr><tr><td>&quot;32 ถนน บางแค แ…</td><td>&quot;https://storag…</td><td>[&quot;100.42094&quot;, &quot;13.70942&quot;]</td><td>0</td><td>&quot;ป้ายกองโจร&quot;</td><td>&quot;2022-09-24 06:…</td><td>&quot;ดำเนินการแก้ไข…</td><td>&quot;กรุงเทพมหานคร&quot;</td><td>&quot;https://storag…</td><td>[]</td><td>&quot;เสร็จสิ้น&quot;</td><td>&quot;2022-3K88WM&quot;</td><td>2022-09-24 01:27:37.099410 +00:00</td><td>null</td></tr><tr><td>&quot;12/103 ซอย เฉล…</td><td>&quot;https://storag…</td><td>[&quot;100.65572&quot;, &quot;13.68432&quot;]</td><td>null</td><td>&quot;-ขยะร้านอาหารเ…</td><td>&quot;2022-07-31 03:…</td><td>&quot;สำนักงานเขตประ…</td><td>&quot;กรุงเทพมหานคร&quot;</td><td>&quot;https://storag…</td><td>[&quot;ความสะอาด&quot;]</td><td>&quot;เสร็จสิ้น&quot;</td><td>&quot;2022-AML782&quot;</td><td>2022-07-31 03:11:14.025006 +00:00</td><td>&quot;ความสะอาด&quot;</td></tr><tr><td>&quot;571/6 ถ. อโศก …</td><td>null</td><td>[&quot;100.56157&quot;, &quot;13.75551&quot;]</td><td>null</td><td>&quot;คันกั้นคลองสาม…</td><td>&quot;2022-08-10 01:…</td><td>&quot;อยู่ระหว่างของ…</td><td>&quot;กรุงเทพมหานคร&quot;</td><td>&quot;https://storag…</td><td>[&quot;ความปลอดภัย&quot;, &quot;คลอง&quot;]</td><td>&quot;เสร็จสิ้น&quot;</td><td>&quot;2022-GN8ZUN&quot;</td><td>2022-07-06 08:34:04.199206 +00:00</td><td>&quot;ความปลอดภัย,คล…</td></tr><tr><td>&quot;คลองสาน แขวง ค…</td><td>null</td><td>[&quot;100.50775&quot;, &quot;13.73034&quot;]</td><td>0</td><td>&quot;จุดรอรถเมล์ รถ…</td><td>&quot;2023-03-26 11:…</td><td>&quot;ช่วยอัพเดทหน่อ…</td><td>&quot;กรุงเทพมหานคร&quot;</td><td>&quot;https://storag…</td><td>[&quot;ป้าย&quot;]</td><td>&quot;ติดตามเรื่อง&quot;</td><td>&quot;2023-CLTRLK&quot;</td><td>2023-01-13 15:46:44.145539 +00:00</td><td>&quot;ป้าย&quot;</td></tr><tr><td>&quot;เลขที่ 89/484 …</td><td>null</td><td>[&quot;100.72299&quot;, &quot;13.92927&quot;]</td><td>0</td><td>&quot;มีป้ายโฆษณากีด…</td><td>&quot;2023-01-15 13:…</td><td>null</td><td>&quot;เพื่อนชัชชาติ&quot;</td><td>&quot;https://storag…</td><td>[&quot;ทางเท้า&quot;, &quot;กีดขวาง&quot;, &quot;ป้าย&quot;]</td><td>&quot;รอรับเรื่อง&quot;</td><td>&quot;2023-NY6YHM&quot;</td><td>2023-01-15 13:19:53.053838 +00:00</td><td>&quot;ทางเท้า,กีดขวา…</td></tr><tr><td>&quot;39 ซอย นาคนิวา…</td><td>&quot;https://storag…</td><td>[&quot;100.60946&quot;, &quot;13.81046&quot;]</td><td>0</td><td>&quot;à¸à¸¹à¹à¸£à¸…</td><td>&quot;2022-09-01 03:…</td><td>&quot;สำนักงานเขตลาด…</td><td>&quot;กรุงเทพมหานคร&quot;</td><td>&quot;https://storag…</td><td>[&quot;ถนน&quot;, &quot;น้ำท่วม&quot;]</td><td>&quot;เสร็จสิ้น&quot;</td><td>&quot;2022-MHKXHU&quot;</td><td>2022-08-26 03:50:02.161610 +00:00</td><td>&quot;ถนน,น้ำท่วม&quot;</td></tr><tr><td>&quot;1004/8 พหลโยธิ…</td><td>&quot;https://storag…</td><td>[&quot;100.58362&quot;, &quot;13.83410&quot;]</td><td>null</td><td>&quot;à¸à¸§à¸£à¸¡à¸…</td><td>&quot;2023-03-10 12:…</td><td>&quot;ได้มีการปรับเป…</td><td>&quot;กรุงเทพมหานคร&quot;</td><td>&quot;https://storag…</td><td>[&quot;ถนน&quot;]</td><td>&quot;เสร็จสิ้น&quot;</td><td>&quot;2022-FH7QKH&quot;</td><td>2022-06-04 06:11:03.830281 +00:00</td><td>&quot;ถนน&quot;</td></tr><tr><td>&quot;414 212 ถ. พุท…</td><td>&quot;https://storag…</td><td>[&quot;100.39543&quot;, &quot;13.73963&quot;]</td><td>null</td><td>&quot;ต้นไม้ละหลังคา…</td><td>&quot;2022-07-23 09:…</td><td>&quot;ฝ่ายรักษาความส…</td><td>&quot;กรุงเทพมหานคร&quot;</td><td>&quot;https://storag…</td><td>[&quot;ต้นไม้&quot;]</td><td>&quot;เสร็จสิ้น&quot;</td><td>&quot;2022-394V6D&quot;</td><td>2022-07-20 02:41:52.723197 +00:00</td><td>&quot;ต้นไม้&quot;</td></tr><tr><td>&quot;93 ถนน ราชดำเน…</td><td>&quot;https://storag…</td><td>[&quot;100.50316&quot;, &quot;13.75661&quot;]</td><td>null</td><td>&quot;คนไร้บ้านสร้าง…</td><td>&quot;2022-08-20 04:…</td><td>&quot;à¸à¹à¸²à¸¢à¹…</td><td>&quot;กรุงเทพมหานคร&quot;</td><td>&quot;https://storag…</td><td>[]</td><td>&quot;เสร็จสิ้น&quot;</td><td>&quot;2022-PZAFQY&quot;</td><td>2022-08-19 09:45:09.244126 +00:00</td><td>null</td></tr><tr><td>&hellip;</td><td>&hellip;</td><td>&hellip;</td><td>&hellip;</td><td>&hellip;</td><td>&hellip;</td><td>&hellip;</td><td>&hellip;</td><td>&hellip;</td><td>&hellip;</td><td>&hellip;</td><td>&hellip;</td><td>&hellip;</td><td>&hellip;</td></tr><tr><td>&quot;à¹à¸à¸£à¸´à¸…</td><td>&quot;https://storag…</td><td>[&quot;100.51120&quot;, &quot;13.70569&quot;]</td><td>0</td><td>&quot;à¸à¸£à¸¸à¸à¸…</td><td>&quot;2023-03-14 06:…</td><td>&quot;ฝ่ายโยธาได้ดำเ…</td><td>&quot;กรุงเทพมหานคร&quot;</td><td>&quot;https://storag…</td><td>[&quot;ถนน&quot;, &quot;แสงสว่าง&quot;]</td><td>&quot;เสร็จสิ้น&quot;</td><td>&quot;9HNDA3&quot;</td><td>2023-03-10 13:02:21.608840 +00:00</td><td>&quot;ถนน,แสงสว่าง&quot;</td></tr><tr><td>&quot;86/15 ซ. ประทุ…</td><td>&quot;https://storag…</td><td>[&quot;100.59397&quot;, &quot;13.66745&quot;]</td><td>0</td><td>&quot;ฝาท่อระบายน้ำช…</td><td>&quot;2022-09-03 04:…</td><td>&quot;เขตบางนา เชิญร…</td><td>&quot;กรุงเทพมหานคร&quot;</td><td>&quot;https://storag…</td><td>[&quot;ท่อระบายน้ำ&quot;]</td><td>&quot;เสร็จสิ้น&quot;</td><td>&quot;2022-NETGGP&quot;</td><td>2022-08-27 05:18:50.692546 +00:00</td><td>&quot;ท่อระบายน้ำ&quot;</td></tr><tr><td>&quot;216/1 ถนน พิษณ…</td><td>null</td><td>[&quot;100.51577&quot;, &quot;13.76121&quot;]</td><td>null</td><td>&quot;สายไฟ สายสื่อส…</td><td>&quot;2023-05-08 08:…</td><td>&quot;à¸à¸£à¸´à¸©à¸…</td><td>&quot;กรุงเทพมหานคร&quot;</td><td>&quot;https://storag…</td><td>[&quot;สายไฟ&quot;]</td><td>&quot;กำลังดำเนินการ…</td><td>&quot;2022-ABDLNZ&quot;</td><td>2022-08-06 04:44:44.687414 +00:00</td><td>&quot;สายไฟ&quot;</td></tr><tr><td>&quot;41 ถนน จรัญสนิ…</td><td>&quot;https://storag…</td><td>[&quot;100.50551&quot;, &quot;13.79381&quot;]</td><td>null</td><td>&quot;สายไฟไม่เรียบร…</td><td>&quot;2022-07-09 10:…</td><td>&quot;ฝึกทดสอบคนงานใ…</td><td>&quot;กรุงเทพมหานคร&quot;</td><td>&quot;https://storag…</td><td>[&quot;สายไฟ&quot;]</td><td>&quot;เสร็จสิ้น&quot;</td><td>&quot;2022-4HYPT9&quot;</td><td>2022-07-09 02:50:53.113633 +00:00</td><td>&quot;สายไฟ&quot;</td></tr><tr><td>&quot;78 ซอย รักษาดิ…</td><td>&quot;https://storag…</td><td>[&quot;100.52083&quot;, &quot;13.78448&quot;]</td><td>0</td><td>&quot;แจ้งติดตั้งไฟฟ…</td><td>&quot;2022-10-21 08:…</td><td>&quot;สำนักการจราจรแ…</td><td>&quot;กรุงเทพมหานคร&quot;</td><td>&quot;https://storag…</td><td>[]</td><td>&quot;เสร็จสิ้น&quot;</td><td>&quot;2022-G89RKW&quot;</td><td>2022-10-01 09:52:19.137439 +00:00</td><td>null</td></tr><tr><td>&quot;หมู่บ้านรินทร์…</td><td>&quot;https://storag…</td><td>[&quot;100.72513&quot;, &quot;13.80453&quot;]</td><td>0</td><td>&quot;ถนนไม่เรียบ&quot;</td><td>&quot;2022-11-02 09:…</td><td>&quot;ทางโครงการรถไฟ…</td><td>&quot;กรุงเทพมหานคร&quot;</td><td>&quot;https://storag…</td><td>[&quot;ถนน&quot;]</td><td>&quot;เสร็จสิ้น&quot;</td><td>&quot;2022-MLA4EC&quot;</td><td>2022-09-21 01:40:56.402287 +00:00</td><td>&quot;ถนน&quot;</td></tr><tr><td>&quot;QJ7W+44R แขวงห…</td><td>null</td><td>[&quot;100.64541&quot;, &quot;13.76288&quot;]</td><td>0</td><td>&quot;ผู้รับเหมาบริเ…</td><td>&quot;2023-02-04 08:…</td><td>&quot;รฟม รับเรื่องร…</td><td>&quot;กรุงเทพมหานคร&quot;</td><td>&quot;https://storag…</td><td>[&quot;ทางเท้า&quot;, &quot;ป้าย&quot;]</td><td>&quot;ส่งต่อ(ใหม่)&quot;</td><td>&quot;2023-3KG426&quot;</td><td>2023-01-27 06:33:57.117726 +00:00</td><td>&quot;ทางเท้า,ป้าย&quot;</td></tr><tr><td>&quot;1547 ถ. พหลโยธ…</td><td>&quot;https://storag…</td><td>[&quot;100.54947&quot;, &quot;13.79356&quot;]</td><td>1</td><td>&quot;วางของบนทางเท้…</td><td>&quot;2022-07-20 10:…</td><td>&quot;à¸à¸à¸.à¸à…</td><td>&quot;กรุงเทพมหานคร&quot;</td><td>&quot;https://storag…</td><td>[]</td><td>&quot;เสร็จสิ้น&quot;</td><td>&quot;2022-AFWVTE&quot;</td><td>2022-07-05 11:09:02.877458 +00:00</td><td>null</td></tr><tr><td>&quot;163 15 หมู่ 3 …</td><td>null</td><td>[&quot;100.60552&quot;, &quot;13.96220&quot;]</td><td>null</td><td>&quot;น้ำในท่อระบายน…</td><td>&quot;2022-06-06 04:…</td><td>null</td><td>&quot;เพื่อนชัชชาติ&quot;</td><td>&quot;https://storag…</td><td>[&quot;ท่อระบายน้ำ&quot;, &quot;ถนน&quot;]</td><td>&quot;รอรับเรื่อง&quot;</td><td>&quot;2022-FBFRWY&quot;</td><td>2022-06-06 04:07:15.999225 +00:00</td><td>&quot;ท่อระบายน้ำ,ถน…</td></tr><tr><td>&quot;184 90 ถ. สุขุ…</td><td>null</td><td>[&quot;100.55848&quot;, &quot;13.73176&quot;]</td><td>null</td><td>&quot;สะพานเชื่อมต่อ…</td><td>&quot;2022-08-05 07:…</td><td>&quot;สำนักการโยธา ก…</td><td>&quot;กรุงเทพมหานคร&quot;</td><td>&quot;https://storag…</td><td>[&quot;สะพาน&quot;]</td><td>&quot;กำลังดำเนินการ…</td><td>&quot;2022-BBDTWG&quot;</td><td>2022-06-04 15:41:53.280546 +00:00</td><td>&quot;สะพาน&quot;</td></tr><tr><td>&quot;43/1039 ซอย รา…</td><td>&quot;https://storag…</td><td>[&quot;100.60054&quot;, &quot;13.87255&quot;]</td><td>0</td><td>&quot;กลิ่นเหม็นที่ป…</td><td>&quot;2023-03-08 02:…</td><td>&quot;ได้ตรวจสอบแล้ว…</td><td>&quot;กรุงเทพมหานคร&quot;</td><td>&quot;https://storag…</td><td>[]</td><td>&quot;เสร็จสิ้น&quot;</td><td>&quot;2023-32AMZ3&quot;</td><td>2023-03-03 06:55:47.833544 +00:00</td><td>null</td></tr><tr><td>&quot;1737/2 ถ. ลาดพ…</td><td>&quot;https://storag…</td><td>[&quot;100.58836&quot;, &quot;13.79787&quot;]</td><td>0</td><td>&quot;ขอขอบคุณที่ซ่อ…</td><td>&quot;2022-09-05 02:…</td><td>&quot;เจ้าหน้าที่รับ…</td><td>&quot;กรุงเทพมหานคร&quot;</td><td>&quot;https://storag…</td><td>[]</td><td>&quot;เสร็จสิ้น&quot;</td><td>&quot;2022-9MNVDB&quot;</td><td>2022-09-05 02:12:58.504376 +00:00</td><td>null</td></tr></tbody></table></div>"
      ],
      "text/plain": [
       "shape: (271_108, 14)\n",
       "┌───────────┬───────────┬───────────┬────────────┬───┬───────────┬─────────┬───────────┬───────────┐\n",
       "│ address   ┆ after_pho ┆ coords    ┆ count_reop ┆ … ┆ state     ┆ ticket_ ┆ timestamp ┆ type      │\n",
       "│ ---       ┆ to        ┆ ---       ┆ en         ┆   ┆ ---       ┆ id      ┆ ---       ┆ ---       │\n",
       "│ str       ┆ ---       ┆ list[str] ┆ ---        ┆   ┆ str       ┆ ---     ┆ datetime[ ┆ str       │\n",
       "│           ┆ str       ┆           ┆ i32        ┆   ┆           ┆ str     ┆ ns,       ┆           │\n",
       "│           ┆           ┆           ┆            ┆   ┆           ┆         ┆ +00:00]   ┆           │\n",
       "╞═══════════╪═══════════╪═══════════╪════════════╪═══╪═══════════╪═════════╪═══════════╪═══════════╡\n",
       "│ 22 ซอย    ┆ https://s ┆ [\"100.381 ┆ null       ┆ … ┆ เสร็จสิ้น    ┆ 2022-BR ┆ 2022-07-2 ┆ null      │\n",
       "│ อินทาปัจ 15 ┆ torage.go ┆ 66\", \"13. ┆            ┆   ┆           ┆ HYEK    ┆ 6 08:58:1 ┆           │\n",
       "│ แขวง      ┆ ogleapis. ┆ 69264\"]   ┆            ┆   ┆           ┆         ┆ 2.793827  ┆           │\n",
       "│ หลักสอง …  ┆ com/t…    ┆           ┆            ┆   ┆           ┆         ┆ +00:0…    ┆           │\n",
       "│ 109 ถนนพร ┆ https://s ┆ [\"100.707 ┆ null       ┆ … ┆ เสร็จสิ้น    ┆ 2022-KL ┆ 2022-07-0 ┆ คลอง      │\n",
       "│ ะยาสุเรน   ┆ torage.go ┆ 63\", \"13. ┆            ┆   ┆           ┆ QKTK    ┆ 2 10:36:2 ┆           │\n",
       "│ แขวง      ┆ ogleapis. ┆ 82916\"]   ┆            ┆   ┆           ┆         ┆ 2.537114  ┆           │\n",
       "│ บางชัน เข… ┆ com/t…    ┆           ┆            ┆   ┆           ┆         ┆ +00:0…    ┆           │\n",
       "│ ตรงข้ามหมู่บ้ ┆ null      ┆ [\"100.402 ┆ 0          ┆ … ┆ รอรับเรื่อง  ┆ 2022-HE ┆ 2022-11-2 ┆ จราจร     │\n",
       "│ านอมรชัย 4 ┆           ┆ 95\", \"13. ┆            ┆   ┆           ┆ ZE7Y    ┆ 8 01:45:0 ┆           │\n",
       "│ แขวง แสม… ┆           ┆ 63610\"]   ┆            ┆   ┆           ┆         ┆ 2.407940  ┆           │\n",
       "│           ┆           ┆           ┆            ┆   ┆           ┆         ┆ +00:0…    ┆           │\n",
       "│ 32 ถนน    ┆ https://s ┆ [\"100.420 ┆ 0          ┆ … ┆ เสร็จสิ้น    ┆ 2022-3K ┆ 2022-09-2 ┆ null      │\n",
       "│ บางแค     ┆ torage.go ┆ 94\", \"13. ┆            ┆   ┆           ┆ 88WM    ┆ 4 01:27:3 ┆           │\n",
       "│ แขวง      ┆ ogleapis. ┆ 70942\"]   ┆            ┆   ┆           ┆         ┆ 7.099410  ┆           │\n",
       "│ บางแค     ┆ com/t…    ┆           ┆            ┆   ┆           ┆         ┆ +00:0…    ┆           │\n",
       "│ เขตบางแค… ┆           ┆           ┆            ┆   ┆           ┆         ┆           ┆           │\n",
       "│ …         ┆ …         ┆ …         ┆ …          ┆ … ┆ …         ┆ …       ┆ …         ┆ …         │\n",
       "│ 163 15 หมู่ ┆ null      ┆ [\"100.605 ┆ null       ┆ … ┆ รอรับเรื่อง  ┆ 2022-FB ┆ 2022-06-0 ┆ ท่อระบายน้ำ │\n",
       "│ 3 ถ.      ┆           ┆ 52\", \"13. ┆            ┆   ┆           ┆ FRWY    ┆ 6 04:07:1 ┆ ,ถนน      │\n",
       "│ กำแพงเพชร ┆           ┆ 96220\"]   ┆            ┆   ┆           ┆         ┆ 5.999225  ┆           │\n",
       "│ 6 ตำบ…    ┆           ┆           ┆            ┆   ┆           ┆         ┆ +00:0…    ┆           │\n",
       "│ 184 90 ถ. ┆ null      ┆ [\"100.558 ┆ null       ┆ … ┆ กำลังดำเนิน ┆ 2022-BB ┆ 2022-06-0 ┆ สะพาน     │\n",
       "│ สุขุมวิท     ┆           ┆ 48\", \"13. ┆            ┆   ┆ การ       ┆ DTWG    ┆ 4 15:41:5 ┆           │\n",
       "│ แขวง      ┆           ┆ 73176\"]   ┆            ┆   ┆           ┆         ┆ 3.280546  ┆           │\n",
       "│ คลองเตย … ┆           ┆           ┆            ┆   ┆           ┆         ┆ +00:0…    ┆           │\n",
       "│ 43/1039   ┆ https://s ┆ [\"100.600 ┆ 0          ┆ … ┆ เสร็จสิ้น    ┆ 2023-32 ┆ 2023-03-0 ┆ null      │\n",
       "│ ซอย       ┆ torage.go ┆ 54\", \"13. ┆            ┆   ┆           ┆ AMZ3    ┆ 3 06:55:4 ┆           │\n",
       "│ รามอินทรา  ┆ ogleapis. ┆ 87255\"]   ┆            ┆   ┆           ┆         ┆ 7.833544  ┆           │\n",
       "│ 1         ┆ com/t…    ┆           ┆            ┆   ┆           ┆         ┆ +00:0…    ┆           │\n",
       "│ แขวงอนุส…  ┆           ┆           ┆            ┆   ┆           ┆         ┆           ┆           │\n",
       "│ 1737/2 ถ. ┆ https://s ┆ [\"100.588 ┆ 0          ┆ … ┆ เสร็จสิ้น    ┆ 2022-9M ┆ 2022-09-0 ┆ null      │\n",
       "│ ลาดพร้าว   ┆ torage.go ┆ 36\", \"13. ┆            ┆   ┆           ┆ NVDB    ┆ 5 02:12:5 ┆           │\n",
       "│ แขวง      ┆ ogleapis. ┆ 79787\"]   ┆            ┆   ┆           ┆         ┆ 8.504376  ┆           │\n",
       "│ สามเสนนอ… ┆ com/t…    ┆           ┆            ┆   ┆           ┆         ┆ +00:0…    ┆           │\n",
       "└───────────┴───────────┴───────────┴────────────┴───┴───────────┴─────────┴───────────┴───────────┘"
      ]
     },
     "metadata": {},
     "output_type": "display_data"
    }
   ],
   "source": [
    "df = df.with_columns(\n",
    "    when(col('problem_type_abdul').arr.first() != '')\n",
    "    .then(col('problem_type_abdul'))\n",
    "    .otherwise(lit([list()]))\n",
    ")\n",
    "display(df)"
   ]
  },
  {
   "cell_type": "code",
   "execution_count": 217,
   "metadata": {},
   "outputs": [
    {
     "data": {
      "text/html": [
       "<div><style>\n",
       ".dataframe > thead > tr > th,\n",
       ".dataframe > tbody > tr > td {\n",
       "  text-align: right;\n",
       "}\n",
       "</style>\n",
       "<small>shape: (271_108, 15)</small><table border=\"1\" class=\"dataframe\"><thead><tr><th>address</th><th>after_photo</th><th>count_reopen</th><th>description</th><th>last_activity</th><th>note</th><th>org</th><th>photo_url</th><th>problem_type_abdul</th><th>state</th><th>ticket_id</th><th>timestamp</th><th>type</th><th>lon</th><th>lat</th></tr><tr><td>str</td><td>str</td><td>i32</td><td>str</td><td>str</td><td>str</td><td>str</td><td>str</td><td>list[str]</td><td>str</td><td>str</td><td>datetime[ns, +00:00]</td><td>str</td><td>f32</td><td>f32</td></tr></thead><tbody><tr><td>&quot;22 ซอย อินทาปั…</td><td>&quot;https://storag…</td><td>null</td><td>&quot;เป็นหลุม&quot;</td><td>&quot;2022-07-28 12:…</td><td>&quot;จนท.ฝ่ายโยธาได…</td><td>&quot;กรุงเทพมหานคร&quot;</td><td>&quot;https://storag…</td><td>[]</td><td>&quot;เสร็จสิ้น&quot;</td><td>&quot;2022-BRHYEK&quot;</td><td>2022-07-26 08:58:12.793827 +00:00</td><td>null</td><td>100.38166</td><td>13.69264</td></tr><tr><td>&quot;109 ถนนพระยาสุ…</td><td>&quot;https://storag…</td><td>null</td><td>&quot;คลองระบายนำ้&quot;</td><td>&quot;2022-12-13 10:…</td><td>&quot;รับทราบค่ะ..สำ…</td><td>&quot;กรุงเทพมหานคร&quot;</td><td>&quot;https://storag…</td><td>[&quot;คลอง&quot;]</td><td>&quot;เสร็จสิ้น&quot;</td><td>&quot;2022-KLQKTK&quot;</td><td>2022-07-02 10:36:22.537114 +00:00</td><td>&quot;คลอง&quot;</td><td>100.707626</td><td>13.82916</td></tr><tr><td>&quot;ตรงข้ามหมู่บ้า…</td><td>null</td><td>0</td><td>&quot;รถติดมากบน ถ.พ…</td><td>&quot;2022-11-28 01:…</td><td>&quot;เขตบางขุนเทียน…</td><td>&quot;กรุงเทพมหานคร&quot;</td><td>&quot;https://storag…</td><td>[&quot;จราจร&quot;]</td><td>&quot;รอรับเรื่อง&quot;</td><td>&quot;2022-HEZE7Y&quot;</td><td>2022-11-28 01:45:02.407940 +00:00</td><td>&quot;จราจร&quot;</td><td>100.402946</td><td>13.6361</td></tr><tr><td>&quot;32 ถนน บางแค แ…</td><td>&quot;https://storag…</td><td>0</td><td>&quot;ป้ายกองโจร&quot;</td><td>&quot;2022-09-24 06:…</td><td>&quot;ดำเนินการแก้ไข…</td><td>&quot;กรุงเทพมหานคร&quot;</td><td>&quot;https://storag…</td><td>[]</td><td>&quot;เสร็จสิ้น&quot;</td><td>&quot;2022-3K88WM&quot;</td><td>2022-09-24 01:27:37.099410 +00:00</td><td>null</td><td>100.420937</td><td>13.70942</td></tr><tr><td>&quot;12/103 ซอย เฉล…</td><td>&quot;https://storag…</td><td>null</td><td>&quot;-ขยะร้านอาหารเ…</td><td>&quot;2022-07-31 03:…</td><td>&quot;สำนักงานเขตประ…</td><td>&quot;กรุงเทพมหานคร&quot;</td><td>&quot;https://storag…</td><td>[&quot;ความสะอาด&quot;]</td><td>&quot;เสร็จสิ้น&quot;</td><td>&quot;2022-AML782&quot;</td><td>2022-07-31 03:11:14.025006 +00:00</td><td>&quot;ความสะอาด&quot;</td><td>100.655724</td><td>13.68432</td></tr><tr><td>&quot;571/6 ถ. อโศก …</td><td>null</td><td>null</td><td>&quot;คันกั้นคลองสาม…</td><td>&quot;2022-08-10 01:…</td><td>&quot;อยู่ระหว่างของ…</td><td>&quot;กรุงเทพมหานคร&quot;</td><td>&quot;https://storag…</td><td>[&quot;ความปลอดภัย&quot;, &quot;คลอง&quot;]</td><td>&quot;เสร็จสิ้น&quot;</td><td>&quot;2022-GN8ZUN&quot;</td><td>2022-07-06 08:34:04.199206 +00:00</td><td>&quot;ความปลอดภัย,คล…</td><td>100.561569</td><td>13.75551</td></tr><tr><td>&quot;คลองสาน แขวง ค…</td><td>null</td><td>0</td><td>&quot;จุดรอรถเมล์ รถ…</td><td>&quot;2023-03-26 11:…</td><td>&quot;ช่วยอัพเดทหน่อ…</td><td>&quot;กรุงเทพมหานคร&quot;</td><td>&quot;https://storag…</td><td>[&quot;ป้าย&quot;]</td><td>&quot;ติดตามเรื่อง&quot;</td><td>&quot;2023-CLTRLK&quot;</td><td>2023-01-13 15:46:44.145539 +00:00</td><td>&quot;ป้าย&quot;</td><td>100.507751</td><td>13.73034</td></tr><tr><td>&quot;เลขที่ 89/484 …</td><td>null</td><td>0</td><td>&quot;มีป้ายโฆษณากีด…</td><td>&quot;2023-01-15 13:…</td><td>null</td><td>&quot;เพื่อนชัชชาติ&quot;</td><td>&quot;https://storag…</td><td>[&quot;ทางเท้า&quot;, &quot;กีดขวาง&quot;, &quot;ป้าย&quot;]</td><td>&quot;รอรับเรื่อง&quot;</td><td>&quot;2023-NY6YHM&quot;</td><td>2023-01-15 13:19:53.053838 +00:00</td><td>&quot;ทางเท้า,กีดขวา…</td><td>100.722992</td><td>13.92927</td></tr><tr><td>&quot;39 ซอย นาคนิวา…</td><td>&quot;https://storag…</td><td>0</td><td>&quot;à¸à¸¹à¹à¸£à¸…</td><td>&quot;2022-09-01 03:…</td><td>&quot;สำนักงานเขตลาด…</td><td>&quot;กรุงเทพมหานคร&quot;</td><td>&quot;https://storag…</td><td>[&quot;ถนน&quot;, &quot;น้ำท่วม&quot;]</td><td>&quot;เสร็จสิ้น&quot;</td><td>&quot;2022-MHKXHU&quot;</td><td>2022-08-26 03:50:02.161610 +00:00</td><td>&quot;ถนน,น้ำท่วม&quot;</td><td>100.609459</td><td>13.81046</td></tr><tr><td>&quot;1004/8 พหลโยธิ…</td><td>&quot;https://storag…</td><td>null</td><td>&quot;à¸à¸§à¸£à¸¡à¸…</td><td>&quot;2023-03-10 12:…</td><td>&quot;ได้มีการปรับเป…</td><td>&quot;กรุงเทพมหานคร&quot;</td><td>&quot;https://storag…</td><td>[&quot;ถนน&quot;]</td><td>&quot;เสร็จสิ้น&quot;</td><td>&quot;2022-FH7QKH&quot;</td><td>2022-06-04 06:11:03.830281 +00:00</td><td>&quot;ถนน&quot;</td><td>100.583618</td><td>13.8341</td></tr><tr><td>&quot;414 212 ถ. พุท…</td><td>&quot;https://storag…</td><td>null</td><td>&quot;ต้นไม้ละหลังคา…</td><td>&quot;2022-07-23 09:…</td><td>&quot;ฝ่ายรักษาความส…</td><td>&quot;กรุงเทพมหานคร&quot;</td><td>&quot;https://storag…</td><td>[&quot;ต้นไม้&quot;]</td><td>&quot;เสร็จสิ้น&quot;</td><td>&quot;2022-394V6D&quot;</td><td>2022-07-20 02:41:52.723197 +00:00</td><td>&quot;ต้นไม้&quot;</td><td>100.395432</td><td>13.73963</td></tr><tr><td>&quot;93 ถนน ราชดำเน…</td><td>&quot;https://storag…</td><td>null</td><td>&quot;คนไร้บ้านสร้าง…</td><td>&quot;2022-08-20 04:…</td><td>&quot;à¸à¹à¸²à¸¢à¹…</td><td>&quot;กรุงเทพมหานคร&quot;</td><td>&quot;https://storag…</td><td>[]</td><td>&quot;เสร็จสิ้น&quot;</td><td>&quot;2022-PZAFQY&quot;</td><td>2022-08-19 09:45:09.244126 +00:00</td><td>null</td><td>100.503159</td><td>13.75661</td></tr><tr><td>&hellip;</td><td>&hellip;</td><td>&hellip;</td><td>&hellip;</td><td>&hellip;</td><td>&hellip;</td><td>&hellip;</td><td>&hellip;</td><td>&hellip;</td><td>&hellip;</td><td>&hellip;</td><td>&hellip;</td><td>&hellip;</td><td>&hellip;</td><td>&hellip;</td></tr><tr><td>&quot;à¹à¸à¸£à¸´à¸…</td><td>&quot;https://storag…</td><td>0</td><td>&quot;à¸à¸£à¸¸à¸à¸…</td><td>&quot;2023-03-14 06:…</td><td>&quot;ฝ่ายโยธาได้ดำเ…</td><td>&quot;กรุงเทพมหานคร&quot;</td><td>&quot;https://storag…</td><td>[&quot;ถนน&quot;, &quot;แสงสว่าง&quot;]</td><td>&quot;เสร็จสิ้น&quot;</td><td>&quot;9HNDA3&quot;</td><td>2023-03-10 13:02:21.608840 +00:00</td><td>&quot;ถนน,แสงสว่าง&quot;</td><td>100.5112</td><td>13.70569</td></tr><tr><td>&quot;86/15 ซ. ประทุ…</td><td>&quot;https://storag…</td><td>0</td><td>&quot;ฝาท่อระบายน้ำช…</td><td>&quot;2022-09-03 04:…</td><td>&quot;เขตบางนา เชิญร…</td><td>&quot;กรุงเทพมหานคร&quot;</td><td>&quot;https://storag…</td><td>[&quot;ท่อระบายน้ำ&quot;]</td><td>&quot;เสร็จสิ้น&quot;</td><td>&quot;2022-NETGGP&quot;</td><td>2022-08-27 05:18:50.692546 +00:00</td><td>&quot;ท่อระบายน้ำ&quot;</td><td>100.593971</td><td>13.66745</td></tr><tr><td>&quot;216/1 ถนน พิษณ…</td><td>null</td><td>null</td><td>&quot;สายไฟ สายสื่อส…</td><td>&quot;2023-05-08 08:…</td><td>&quot;à¸à¸£à¸´à¸©à¸…</td><td>&quot;กรุงเทพมหานคร&quot;</td><td>&quot;https://storag…</td><td>[&quot;สายไฟ&quot;]</td><td>&quot;กำลังดำเนินการ…</td><td>&quot;2022-ABDLNZ&quot;</td><td>2022-08-06 04:44:44.687414 +00:00</td><td>&quot;สายไฟ&quot;</td><td>100.51577</td><td>13.76121</td></tr><tr><td>&quot;41 ถนน จรัญสนิ…</td><td>&quot;https://storag…</td><td>null</td><td>&quot;สายไฟไม่เรียบร…</td><td>&quot;2022-07-09 10:…</td><td>&quot;ฝึกทดสอบคนงานใ…</td><td>&quot;กรุงเทพมหานคร&quot;</td><td>&quot;https://storag…</td><td>[&quot;สายไฟ&quot;]</td><td>&quot;เสร็จสิ้น&quot;</td><td>&quot;2022-4HYPT9&quot;</td><td>2022-07-09 02:50:53.113633 +00:00</td><td>&quot;สายไฟ&quot;</td><td>100.505508</td><td>13.79381</td></tr><tr><td>&quot;78 ซอย รักษาดิ…</td><td>&quot;https://storag…</td><td>0</td><td>&quot;แจ้งติดตั้งไฟฟ…</td><td>&quot;2022-10-21 08:…</td><td>&quot;สำนักการจราจรแ…</td><td>&quot;กรุงเทพมหานคร&quot;</td><td>&quot;https://storag…</td><td>[]</td><td>&quot;เสร็จสิ้น&quot;</td><td>&quot;2022-G89RKW&quot;</td><td>2022-10-01 09:52:19.137439 +00:00</td><td>null</td><td>100.520828</td><td>13.78448</td></tr><tr><td>&quot;หมู่บ้านรินทร์…</td><td>&quot;https://storag…</td><td>0</td><td>&quot;ถนนไม่เรียบ&quot;</td><td>&quot;2022-11-02 09:…</td><td>&quot;ทางโครงการรถไฟ…</td><td>&quot;กรุงเทพมหานคร&quot;</td><td>&quot;https://storag…</td><td>[&quot;ถนน&quot;]</td><td>&quot;เสร็จสิ้น&quot;</td><td>&quot;2022-MLA4EC&quot;</td><td>2022-09-21 01:40:56.402287 +00:00</td><td>&quot;ถนน&quot;</td><td>100.725128</td><td>13.80453</td></tr><tr><td>&quot;QJ7W+44R แขวงห…</td><td>null</td><td>0</td><td>&quot;ผู้รับเหมาบริเ…</td><td>&quot;2023-02-04 08:…</td><td>&quot;รฟม รับเรื่องร…</td><td>&quot;กรุงเทพมหานคร&quot;</td><td>&quot;https://storag…</td><td>[&quot;ทางเท้า&quot;, &quot;ป้าย&quot;]</td><td>&quot;ส่งต่อ(ใหม่)&quot;</td><td>&quot;2023-3KG426&quot;</td><td>2023-01-27 06:33:57.117726 +00:00</td><td>&quot;ทางเท้า,ป้าย&quot;</td><td>100.645409</td><td>13.76288</td></tr><tr><td>&quot;1547 ถ. พหลโยธ…</td><td>&quot;https://storag…</td><td>1</td><td>&quot;วางของบนทางเท้…</td><td>&quot;2022-07-20 10:…</td><td>&quot;à¸à¸à¸.à¸à…</td><td>&quot;กรุงเทพมหานคร&quot;</td><td>&quot;https://storag…</td><td>[]</td><td>&quot;เสร็จสิ้น&quot;</td><td>&quot;2022-AFWVTE&quot;</td><td>2022-07-05 11:09:02.877458 +00:00</td><td>null</td><td>100.549469</td><td>13.79356</td></tr><tr><td>&quot;163 15 หมู่ 3 …</td><td>null</td><td>null</td><td>&quot;น้ำในท่อระบายน…</td><td>&quot;2022-06-06 04:…</td><td>null</td><td>&quot;เพื่อนชัชชาติ&quot;</td><td>&quot;https://storag…</td><td>[&quot;ท่อระบายน้ำ&quot;, &quot;ถนน&quot;]</td><td>&quot;รอรับเรื่อง&quot;</td><td>&quot;2022-FBFRWY&quot;</td><td>2022-06-06 04:07:15.999225 +00:00</td><td>&quot;ท่อระบายน้ำ,ถน…</td><td>100.605522</td><td>13.9622</td></tr><tr><td>&quot;184 90 ถ. สุขุ…</td><td>null</td><td>null</td><td>&quot;สะพานเชื่อมต่อ…</td><td>&quot;2022-08-05 07:…</td><td>&quot;สำนักการโยธา ก…</td><td>&quot;กรุงเทพมหานคร&quot;</td><td>&quot;https://storag…</td><td>[&quot;สะพาน&quot;]</td><td>&quot;กำลังดำเนินการ…</td><td>&quot;2022-BBDTWG&quot;</td><td>2022-06-04 15:41:53.280546 +00:00</td><td>&quot;สะพาน&quot;</td><td>100.558479</td><td>13.73176</td></tr><tr><td>&quot;43/1039 ซอย รา…</td><td>&quot;https://storag…</td><td>0</td><td>&quot;กลิ่นเหม็นที่ป…</td><td>&quot;2023-03-08 02:…</td><td>&quot;ได้ตรวจสอบแล้ว…</td><td>&quot;กรุงเทพมหานคร&quot;</td><td>&quot;https://storag…</td><td>[]</td><td>&quot;เสร็จสิ้น&quot;</td><td>&quot;2023-32AMZ3&quot;</td><td>2023-03-03 06:55:47.833544 +00:00</td><td>null</td><td>100.60054</td><td>13.87255</td></tr><tr><td>&quot;1737/2 ถ. ลาดพ…</td><td>&quot;https://storag…</td><td>0</td><td>&quot;ขอขอบคุณที่ซ่อ…</td><td>&quot;2022-09-05 02:…</td><td>&quot;เจ้าหน้าที่รับ…</td><td>&quot;กรุงเทพมหานคร&quot;</td><td>&quot;https://storag…</td><td>[]</td><td>&quot;เสร็จสิ้น&quot;</td><td>&quot;2022-9MNVDB&quot;</td><td>2022-09-05 02:12:58.504376 +00:00</td><td>null</td><td>100.588364</td><td>13.79787</td></tr></tbody></table></div>"
      ],
      "text/plain": [
       "shape: (271_108, 15)\n",
       "┌────────────┬───────────┬────────────┬───────────┬───┬─────────┬───────────┬───────────┬──────────┐\n",
       "│ address    ┆ after_pho ┆ count_reop ┆ descripti ┆ … ┆ timesta ┆ type      ┆ lon       ┆ lat      │\n",
       "│ ---        ┆ to        ┆ en         ┆ on        ┆   ┆ mp      ┆ ---       ┆ ---       ┆ ---      │\n",
       "│ str        ┆ ---       ┆ ---        ┆ ---       ┆   ┆ ---     ┆ str       ┆ f32       ┆ f32      │\n",
       "│            ┆ str       ┆ i32        ┆ str       ┆   ┆ datetim ┆           ┆           ┆          │\n",
       "│            ┆           ┆            ┆           ┆   ┆ e[ns,   ┆           ┆           ┆          │\n",
       "│            ┆           ┆            ┆           ┆   ┆ +00:00] ┆           ┆           ┆          │\n",
       "╞════════════╪═══════════╪════════════╪═══════════╪═══╪═════════╪═══════════╪═══════════╪══════════╡\n",
       "│ 22 ซอย     ┆ https://s ┆ null       ┆ เป็นหลุม    ┆ … ┆ 2022-07 ┆ null      ┆ 100.38166 ┆ 13.69264 │\n",
       "│ อินทาปัจ 15  ┆ torage.go ┆            ┆           ┆   ┆ -26 08: ┆           ┆           ┆          │\n",
       "│ แขวง       ┆ ogleapis. ┆            ┆           ┆   ┆ 58:12.7 ┆           ┆           ┆          │\n",
       "│ หลักสอง …   ┆ com/t…    ┆            ┆           ┆   ┆ 93827   ┆           ┆           ┆          │\n",
       "│            ┆           ┆            ┆           ┆   ┆ +00:0…  ┆           ┆           ┆          │\n",
       "│ 109 ถนนพระ ┆ https://s ┆ null       ┆ คลองระบาย ┆ … ┆ 2022-07 ┆ คลอง      ┆ 100.70762 ┆ 13.82916 │\n",
       "│ ยาสุเรน     ┆ torage.go ┆            ┆ นำ้        ┆   ┆ -02 10: ┆           ┆ 6         ┆          │\n",
       "│ แขวง บางชัน ┆ ogleapis. ┆            ┆           ┆   ┆ 36:22.5 ┆           ┆           ┆          │\n",
       "│ เข…        ┆ com/t…    ┆            ┆           ┆   ┆ 37114   ┆           ┆           ┆          │\n",
       "│            ┆           ┆            ┆           ┆   ┆ +00:0…  ┆           ┆           ┆          │\n",
       "│ ตรงข้ามหมู่บ้า ┆ null      ┆ 0          ┆ รถติดมากบน ┆ … ┆ 2022-11 ┆ จราจร     ┆ 100.40294 ┆ 13.6361  │\n",
       "│ นอมรชัย 4   ┆           ┆            ┆ ถ.พระราม  ┆   ┆ -28 01: ┆           ┆ 6         ┆          │\n",
       "│ แขวง แสม…  ┆           ┆            ┆ 2         ┆   ┆ 45:02.4 ┆           ┆           ┆          │\n",
       "│            ┆           ┆            ┆ ก่อนถึงวงแ… ┆   ┆ 07940   ┆           ┆           ┆          │\n",
       "│            ┆           ┆            ┆           ┆   ┆ +00:0…  ┆           ┆           ┆          │\n",
       "│ 32 ถนน     ┆ https://s ┆ 0          ┆ ป้ายกองโจร ┆ … ┆ 2022-09 ┆ null      ┆ 100.42093 ┆ 13.70942 │\n",
       "│ บางแค แขวง ┆ torage.go ┆            ┆           ┆   ┆ -24 01: ┆           ┆ 7         ┆          │\n",
       "│ บางแค      ┆ ogleapis. ┆            ┆           ┆   ┆ 27:37.0 ┆           ┆           ┆          │\n",
       "│ เขตบางแค…  ┆ com/t…    ┆            ┆           ┆   ┆ 99410   ┆           ┆           ┆          │\n",
       "│            ┆           ┆            ┆           ┆   ┆ +00:0…  ┆           ┆           ┆          │\n",
       "│ …          ┆ …         ┆ …          ┆ …         ┆ … ┆ …       ┆ …         ┆ …         ┆ …        │\n",
       "│ 163 15 หมู่  ┆ null      ┆ null       ┆ น้ำในท่อระบ ┆ … ┆ 2022-06 ┆ ท่อระบายน้ำ ┆ 100.60552 ┆ 13.9622  │\n",
       "│ 3 ถ.       ┆           ┆            ┆ ายน้ำตลอดถ ┆   ┆ -06 04: ┆ ,ถนน      ┆ 2         ┆          │\n",
       "│ กำแพงเพชร  ┆           ┆            ┆ นนสรงประภ ┆   ┆ 07:15.9 ┆           ┆           ┆          │\n",
       "│ 6 ตำบ…     ┆           ┆            ┆ า …       ┆   ┆ 99225   ┆           ┆           ┆          │\n",
       "│            ┆           ┆            ┆           ┆   ┆ +00:0…  ┆           ┆           ┆          │\n",
       "│ 184 90 ถ.  ┆ null      ┆ null       ┆ สะพานเชื่อม ┆ … ┆ 2022-06 ┆ สะพาน     ┆ 100.55847 ┆ 13.73176 │\n",
       "│ สุขุมวิท แขวง ┆           ┆            ┆ ต่อระหว่าง  ┆   ┆ -04 15: ┆           ┆ 9         ┆          │\n",
       "│ คลองเตย …  ┆           ┆            ┆ หลังซอย สุ… ┆   ┆ 41:53.2 ┆           ┆           ┆          │\n",
       "│            ┆           ┆            ┆           ┆   ┆ 80546   ┆           ┆           ┆          │\n",
       "│            ┆           ┆            ┆           ┆   ┆ +00:0…  ┆           ┆           ┆          │\n",
       "│ 43/1039    ┆ https://s ┆ 0          ┆ กลิ่นเหม็นที่ป ┆ … ┆ 2023-03 ┆ null      ┆ 100.60054 ┆ 13.87255 │\n",
       "│ ซอย        ┆ torage.go ┆            ┆ ล่อยมาจากห้ ┆   ┆ -03 06: ┆           ┆           ┆          │\n",
       "│ รามอินทรา 1 ┆ ogleapis. ┆            ┆ างเซนทร…  ┆   ┆ 55:47.8 ┆           ┆           ┆          │\n",
       "│ แขวงอนุส…   ┆ com/t…    ┆            ┆           ┆   ┆ 33544   ┆           ┆           ┆          │\n",
       "│            ┆           ┆            ┆           ┆   ┆ +00:0…  ┆           ┆           ┆          │\n",
       "│ 1737/2 ถ.  ┆ https://s ┆ 0          ┆ ขอขอบคุณที่ซ่ ┆ … ┆ 2022-09 ┆ null      ┆ 100.58836 ┆ 13.79787 │\n",
       "│ ลาดพร้าว    ┆ torage.go ┆            ┆ อมขั้นบันไดขึ้ ┆   ┆ -05 02: ┆           ┆ 4         ┆          │\n",
       "│ แขวง       ┆ ogleapis. ┆            ┆ น-ลงใ…    ┆   ┆ 12:58.5 ┆           ┆           ┆          │\n",
       "│ สามเสนนอ…  ┆ com/t…    ┆            ┆           ┆   ┆ 04376   ┆           ┆           ┆          │\n",
       "│            ┆           ┆            ┆           ┆   ┆ +00:0…  ┆           ┆           ┆          │\n",
       "└────────────┴───────────┴────────────┴───────────┴───┴─────────┴───────────┴───────────┴──────────┘"
      ]
     },
     "metadata": {},
     "output_type": "display_data"
    }
   ],
   "source": [
    "# Split coords into latitute and longitude\n",
    "\n",
    "df = df.with_columns(\n",
    "    col('coords').arr[0].cast(pl.Float32).alias('lon'),\n",
    "    col('coords').arr[1].cast(pl.Float32).alias('lat')\n",
    ").drop('coords')\n",
    "display(df)"
   ]
  },
  {
   "cell_type": "code",
   "execution_count": 218,
   "metadata": {},
   "outputs": [
    {
     "data": {
      "text/html": [
       "<div><style>\n",
       ".dataframe > thead > tr > th,\n",
       ".dataframe > tbody > tr > td {\n",
       "  text-align: right;\n",
       "}\n",
       "</style>\n",
       "<small>shape: (270_802, 15)</small><table border=\"1\" class=\"dataframe\"><thead><tr><th>address</th><th>after_photo</th><th>count_reopen</th><th>description</th><th>last_activity</th><th>note</th><th>org</th><th>photo_url</th><th>problem_type_abdul</th><th>state</th><th>ticket_id</th><th>timestamp</th><th>type</th><th>lon</th><th>lat</th></tr><tr><td>str</td><td>str</td><td>i32</td><td>str</td><td>str</td><td>str</td><td>str</td><td>str</td><td>list[str]</td><td>str</td><td>str</td><td>datetime[ns, +00:00]</td><td>str</td><td>f32</td><td>f32</td></tr></thead><tbody><tr><td>&quot;22 ซอย อินทาปั…</td><td>&quot;https://storag…</td><td>null</td><td>&quot;เป็นหลุม&quot;</td><td>&quot;2022-07-28 12:…</td><td>&quot;จนท.ฝ่ายโยธาได…</td><td>&quot;กรุงเทพมหานคร&quot;</td><td>&quot;https://storag…</td><td>[]</td><td>&quot;เสร็จสิ้น&quot;</td><td>&quot;2022-BRHYEK&quot;</td><td>2022-07-26 08:58:12.793827 +00:00</td><td>null</td><td>100.38166</td><td>13.69264</td></tr><tr><td>&quot;109 ถนนพระยาสุ…</td><td>&quot;https://storag…</td><td>null</td><td>&quot;คลองระบายนำ้&quot;</td><td>&quot;2022-12-13 10:…</td><td>&quot;รับทราบค่ะ..สำ…</td><td>&quot;กรุงเทพมหานคร&quot;</td><td>&quot;https://storag…</td><td>[&quot;คลอง&quot;]</td><td>&quot;เสร็จสิ้น&quot;</td><td>&quot;2022-KLQKTK&quot;</td><td>2022-07-02 10:36:22.537114 +00:00</td><td>&quot;คลอง&quot;</td><td>100.707626</td><td>13.82916</td></tr><tr><td>&quot;ตรงข้ามหมู่บ้า…</td><td>null</td><td>0</td><td>&quot;รถติดมากบน ถ.พ…</td><td>&quot;2022-11-28 01:…</td><td>&quot;เขตบางขุนเทียน…</td><td>&quot;กรุงเทพมหานคร&quot;</td><td>&quot;https://storag…</td><td>[&quot;จราจร&quot;]</td><td>&quot;รอรับเรื่อง&quot;</td><td>&quot;2022-HEZE7Y&quot;</td><td>2022-11-28 01:45:02.407940 +00:00</td><td>&quot;จราจร&quot;</td><td>100.402946</td><td>13.6361</td></tr><tr><td>&quot;32 ถนน บางแค แ…</td><td>&quot;https://storag…</td><td>0</td><td>&quot;ป้ายกองโจร&quot;</td><td>&quot;2022-09-24 06:…</td><td>&quot;ดำเนินการแก้ไข…</td><td>&quot;กรุงเทพมหานคร&quot;</td><td>&quot;https://storag…</td><td>[]</td><td>&quot;เสร็จสิ้น&quot;</td><td>&quot;2022-3K88WM&quot;</td><td>2022-09-24 01:27:37.099410 +00:00</td><td>null</td><td>100.420937</td><td>13.70942</td></tr><tr><td>&quot;12/103 ซอย เฉล…</td><td>&quot;https://storag…</td><td>null</td><td>&quot;-ขยะร้านอาหารเ…</td><td>&quot;2022-07-31 03:…</td><td>&quot;สำนักงานเขตประ…</td><td>&quot;กรุงเทพมหานคร&quot;</td><td>&quot;https://storag…</td><td>[&quot;ความสะอาด&quot;]</td><td>&quot;เสร็จสิ้น&quot;</td><td>&quot;2022-AML782&quot;</td><td>2022-07-31 03:11:14.025006 +00:00</td><td>&quot;ความสะอาด&quot;</td><td>100.655724</td><td>13.68432</td></tr><tr><td>&quot;571/6 ถ. อโศก …</td><td>null</td><td>null</td><td>&quot;คันกั้นคลองสาม…</td><td>&quot;2022-08-10 01:…</td><td>&quot;อยู่ระหว่างของ…</td><td>&quot;กรุงเทพมหานคร&quot;</td><td>&quot;https://storag…</td><td>[&quot;ความปลอดภัย&quot;, &quot;คลอง&quot;]</td><td>&quot;เสร็จสิ้น&quot;</td><td>&quot;2022-GN8ZUN&quot;</td><td>2022-07-06 08:34:04.199206 +00:00</td><td>&quot;ความปลอดภัย,คล…</td><td>100.561569</td><td>13.75551</td></tr><tr><td>&quot;คลองสาน แขวง ค…</td><td>null</td><td>0</td><td>&quot;จุดรอรถเมล์ รถ…</td><td>&quot;2023-03-26 11:…</td><td>&quot;ช่วยอัพเดทหน่อ…</td><td>&quot;กรุงเทพมหานคร&quot;</td><td>&quot;https://storag…</td><td>[&quot;ป้าย&quot;]</td><td>&quot;ติดตามเรื่อง&quot;</td><td>&quot;2023-CLTRLK&quot;</td><td>2023-01-13 15:46:44.145539 +00:00</td><td>&quot;ป้าย&quot;</td><td>100.507751</td><td>13.73034</td></tr><tr><td>&quot;เลขที่ 89/484 …</td><td>null</td><td>0</td><td>&quot;มีป้ายโฆษณากีด…</td><td>&quot;2023-01-15 13:…</td><td>null</td><td>&quot;เพื่อนชัชชาติ&quot;</td><td>&quot;https://storag…</td><td>[&quot;ทางเท้า&quot;, &quot;กีดขวาง&quot;, &quot;ป้าย&quot;]</td><td>&quot;รอรับเรื่อง&quot;</td><td>&quot;2023-NY6YHM&quot;</td><td>2023-01-15 13:19:53.053838 +00:00</td><td>&quot;ทางเท้า,กีดขวา…</td><td>100.722992</td><td>13.92927</td></tr><tr><td>&quot;39 ซอย นาคนิวา…</td><td>&quot;https://storag…</td><td>0</td><td>&quot;à¸à¸¹à¹à¸£à¸…</td><td>&quot;2022-09-01 03:…</td><td>&quot;สำนักงานเขตลาด…</td><td>&quot;กรุงเทพมหานคร&quot;</td><td>&quot;https://storag…</td><td>[&quot;ถนน&quot;, &quot;น้ำท่วม&quot;]</td><td>&quot;เสร็จสิ้น&quot;</td><td>&quot;2022-MHKXHU&quot;</td><td>2022-08-26 03:50:02.161610 +00:00</td><td>&quot;ถนน,น้ำท่วม&quot;</td><td>100.609459</td><td>13.81046</td></tr><tr><td>&quot;1004/8 พหลโยธิ…</td><td>&quot;https://storag…</td><td>null</td><td>&quot;à¸à¸§à¸£à¸¡à¸…</td><td>&quot;2023-03-10 12:…</td><td>&quot;ได้มีการปรับเป…</td><td>&quot;กรุงเทพมหานคร&quot;</td><td>&quot;https://storag…</td><td>[&quot;ถนน&quot;]</td><td>&quot;เสร็จสิ้น&quot;</td><td>&quot;2022-FH7QKH&quot;</td><td>2022-06-04 06:11:03.830281 +00:00</td><td>&quot;ถนน&quot;</td><td>100.583618</td><td>13.8341</td></tr><tr><td>&quot;414 212 ถ. พุท…</td><td>&quot;https://storag…</td><td>null</td><td>&quot;ต้นไม้ละหลังคา…</td><td>&quot;2022-07-23 09:…</td><td>&quot;ฝ่ายรักษาความส…</td><td>&quot;กรุงเทพมหานคร&quot;</td><td>&quot;https://storag…</td><td>[&quot;ต้นไม้&quot;]</td><td>&quot;เสร็จสิ้น&quot;</td><td>&quot;2022-394V6D&quot;</td><td>2022-07-20 02:41:52.723197 +00:00</td><td>&quot;ต้นไม้&quot;</td><td>100.395432</td><td>13.73963</td></tr><tr><td>&quot;93 ถนน ราชดำเน…</td><td>&quot;https://storag…</td><td>null</td><td>&quot;คนไร้บ้านสร้าง…</td><td>&quot;2022-08-20 04:…</td><td>&quot;à¸à¹à¸²à¸¢à¹…</td><td>&quot;กรุงเทพมหานคร&quot;</td><td>&quot;https://storag…</td><td>[]</td><td>&quot;เสร็จสิ้น&quot;</td><td>&quot;2022-PZAFQY&quot;</td><td>2022-08-19 09:45:09.244126 +00:00</td><td>null</td><td>100.503159</td><td>13.75661</td></tr><tr><td>&hellip;</td><td>&hellip;</td><td>&hellip;</td><td>&hellip;</td><td>&hellip;</td><td>&hellip;</td><td>&hellip;</td><td>&hellip;</td><td>&hellip;</td><td>&hellip;</td><td>&hellip;</td><td>&hellip;</td><td>&hellip;</td><td>&hellip;</td><td>&hellip;</td></tr><tr><td>&quot;à¹à¸à¸£à¸´à¸…</td><td>&quot;https://storag…</td><td>0</td><td>&quot;à¸à¸£à¸¸à¸à¸…</td><td>&quot;2023-03-14 06:…</td><td>&quot;ฝ่ายโยธาได้ดำเ…</td><td>&quot;กรุงเทพมหานคร&quot;</td><td>&quot;https://storag…</td><td>[&quot;ถนน&quot;, &quot;แสงสว่าง&quot;]</td><td>&quot;เสร็จสิ้น&quot;</td><td>&quot;9HNDA3&quot;</td><td>2023-03-10 13:02:21.608840 +00:00</td><td>&quot;ถนน,แสงสว่าง&quot;</td><td>100.5112</td><td>13.70569</td></tr><tr><td>&quot;86/15 ซ. ประทุ…</td><td>&quot;https://storag…</td><td>0</td><td>&quot;ฝาท่อระบายน้ำช…</td><td>&quot;2022-09-03 04:…</td><td>&quot;เขตบางนา เชิญร…</td><td>&quot;กรุงเทพมหานคร&quot;</td><td>&quot;https://storag…</td><td>[&quot;ท่อระบายน้ำ&quot;]</td><td>&quot;เสร็จสิ้น&quot;</td><td>&quot;2022-NETGGP&quot;</td><td>2022-08-27 05:18:50.692546 +00:00</td><td>&quot;ท่อระบายน้ำ&quot;</td><td>100.593971</td><td>13.66745</td></tr><tr><td>&quot;216/1 ถนน พิษณ…</td><td>null</td><td>null</td><td>&quot;สายไฟ สายสื่อส…</td><td>&quot;2023-05-08 08:…</td><td>&quot;à¸à¸£à¸´à¸©à¸…</td><td>&quot;กรุงเทพมหานคร&quot;</td><td>&quot;https://storag…</td><td>[&quot;สายไฟ&quot;]</td><td>&quot;กำลังดำเนินการ…</td><td>&quot;2022-ABDLNZ&quot;</td><td>2022-08-06 04:44:44.687414 +00:00</td><td>&quot;สายไฟ&quot;</td><td>100.51577</td><td>13.76121</td></tr><tr><td>&quot;41 ถนน จรัญสนิ…</td><td>&quot;https://storag…</td><td>null</td><td>&quot;สายไฟไม่เรียบร…</td><td>&quot;2022-07-09 10:…</td><td>&quot;ฝึกทดสอบคนงานใ…</td><td>&quot;กรุงเทพมหานคร&quot;</td><td>&quot;https://storag…</td><td>[&quot;สายไฟ&quot;]</td><td>&quot;เสร็จสิ้น&quot;</td><td>&quot;2022-4HYPT9&quot;</td><td>2022-07-09 02:50:53.113633 +00:00</td><td>&quot;สายไฟ&quot;</td><td>100.505508</td><td>13.79381</td></tr><tr><td>&quot;78 ซอย รักษาดิ…</td><td>&quot;https://storag…</td><td>0</td><td>&quot;แจ้งติดตั้งไฟฟ…</td><td>&quot;2022-10-21 08:…</td><td>&quot;สำนักการจราจรแ…</td><td>&quot;กรุงเทพมหานคร&quot;</td><td>&quot;https://storag…</td><td>[]</td><td>&quot;เสร็จสิ้น&quot;</td><td>&quot;2022-G89RKW&quot;</td><td>2022-10-01 09:52:19.137439 +00:00</td><td>null</td><td>100.520828</td><td>13.78448</td></tr><tr><td>&quot;หมู่บ้านรินทร์…</td><td>&quot;https://storag…</td><td>0</td><td>&quot;ถนนไม่เรียบ&quot;</td><td>&quot;2022-11-02 09:…</td><td>&quot;ทางโครงการรถไฟ…</td><td>&quot;กรุงเทพมหานคร&quot;</td><td>&quot;https://storag…</td><td>[&quot;ถนน&quot;]</td><td>&quot;เสร็จสิ้น&quot;</td><td>&quot;2022-MLA4EC&quot;</td><td>2022-09-21 01:40:56.402287 +00:00</td><td>&quot;ถนน&quot;</td><td>100.725128</td><td>13.80453</td></tr><tr><td>&quot;QJ7W+44R แขวงห…</td><td>null</td><td>0</td><td>&quot;ผู้รับเหมาบริเ…</td><td>&quot;2023-02-04 08:…</td><td>&quot;รฟม รับเรื่องร…</td><td>&quot;กรุงเทพมหานคร&quot;</td><td>&quot;https://storag…</td><td>[&quot;ทางเท้า&quot;, &quot;ป้าย&quot;]</td><td>&quot;ส่งต่อ(ใหม่)&quot;</td><td>&quot;2023-3KG426&quot;</td><td>2023-01-27 06:33:57.117726 +00:00</td><td>&quot;ทางเท้า,ป้าย&quot;</td><td>100.645409</td><td>13.76288</td></tr><tr><td>&quot;1547 ถ. พหลโยธ…</td><td>&quot;https://storag…</td><td>1</td><td>&quot;วางของบนทางเท้…</td><td>&quot;2022-07-20 10:…</td><td>&quot;à¸à¸à¸.à¸à…</td><td>&quot;กรุงเทพมหานคร&quot;</td><td>&quot;https://storag…</td><td>[]</td><td>&quot;เสร็จสิ้น&quot;</td><td>&quot;2022-AFWVTE&quot;</td><td>2022-07-05 11:09:02.877458 +00:00</td><td>null</td><td>100.549469</td><td>13.79356</td></tr><tr><td>&quot;163 15 หมู่ 3 …</td><td>null</td><td>null</td><td>&quot;น้ำในท่อระบายน…</td><td>&quot;2022-06-06 04:…</td><td>null</td><td>&quot;เพื่อนชัชชาติ&quot;</td><td>&quot;https://storag…</td><td>[&quot;ท่อระบายน้ำ&quot;, &quot;ถนน&quot;]</td><td>&quot;รอรับเรื่อง&quot;</td><td>&quot;2022-FBFRWY&quot;</td><td>2022-06-06 04:07:15.999225 +00:00</td><td>&quot;ท่อระบายน้ำ,ถน…</td><td>100.605522</td><td>13.9622</td></tr><tr><td>&quot;184 90 ถ. สุขุ…</td><td>null</td><td>null</td><td>&quot;สะพานเชื่อมต่อ…</td><td>&quot;2022-08-05 07:…</td><td>&quot;สำนักการโยธา ก…</td><td>&quot;กรุงเทพมหานคร&quot;</td><td>&quot;https://storag…</td><td>[&quot;สะพาน&quot;]</td><td>&quot;กำลังดำเนินการ…</td><td>&quot;2022-BBDTWG&quot;</td><td>2022-06-04 15:41:53.280546 +00:00</td><td>&quot;สะพาน&quot;</td><td>100.558479</td><td>13.73176</td></tr><tr><td>&quot;43/1039 ซอย รา…</td><td>&quot;https://storag…</td><td>0</td><td>&quot;กลิ่นเหม็นที่ป…</td><td>&quot;2023-03-08 02:…</td><td>&quot;ได้ตรวจสอบแล้ว…</td><td>&quot;กรุงเทพมหานคร&quot;</td><td>&quot;https://storag…</td><td>[]</td><td>&quot;เสร็จสิ้น&quot;</td><td>&quot;2023-32AMZ3&quot;</td><td>2023-03-03 06:55:47.833544 +00:00</td><td>null</td><td>100.60054</td><td>13.87255</td></tr><tr><td>&quot;1737/2 ถ. ลาดพ…</td><td>&quot;https://storag…</td><td>0</td><td>&quot;ขอขอบคุณที่ซ่อ…</td><td>&quot;2022-09-05 02:…</td><td>&quot;เจ้าหน้าที่รับ…</td><td>&quot;กรุงเทพมหานคร&quot;</td><td>&quot;https://storag…</td><td>[]</td><td>&quot;เสร็จสิ้น&quot;</td><td>&quot;2022-9MNVDB&quot;</td><td>2022-09-05 02:12:58.504376 +00:00</td><td>null</td><td>100.588364</td><td>13.79787</td></tr></tbody></table></div>"
      ],
      "text/plain": [
       "shape: (270_802, 15)\n",
       "┌────────────┬───────────┬────────────┬───────────┬───┬─────────┬───────────┬───────────┬──────────┐\n",
       "│ address    ┆ after_pho ┆ count_reop ┆ descripti ┆ … ┆ timesta ┆ type      ┆ lon       ┆ lat      │\n",
       "│ ---        ┆ to        ┆ en         ┆ on        ┆   ┆ mp      ┆ ---       ┆ ---       ┆ ---      │\n",
       "│ str        ┆ ---       ┆ ---        ┆ ---       ┆   ┆ ---     ┆ str       ┆ f32       ┆ f32      │\n",
       "│            ┆ str       ┆ i32        ┆ str       ┆   ┆ datetim ┆           ┆           ┆          │\n",
       "│            ┆           ┆            ┆           ┆   ┆ e[ns,   ┆           ┆           ┆          │\n",
       "│            ┆           ┆            ┆           ┆   ┆ +00:00] ┆           ┆           ┆          │\n",
       "╞════════════╪═══════════╪════════════╪═══════════╪═══╪═════════╪═══════════╪═══════════╪══════════╡\n",
       "│ 22 ซอย     ┆ https://s ┆ null       ┆ เป็นหลุม    ┆ … ┆ 2022-07 ┆ null      ┆ 100.38166 ┆ 13.69264 │\n",
       "│ อินทาปัจ 15  ┆ torage.go ┆            ┆           ┆   ┆ -26 08: ┆           ┆           ┆          │\n",
       "│ แขวง       ┆ ogleapis. ┆            ┆           ┆   ┆ 58:12.7 ┆           ┆           ┆          │\n",
       "│ หลักสอง …   ┆ com/t…    ┆            ┆           ┆   ┆ 93827   ┆           ┆           ┆          │\n",
       "│            ┆           ┆            ┆           ┆   ┆ +00:0…  ┆           ┆           ┆          │\n",
       "│ 109 ถนนพระ ┆ https://s ┆ null       ┆ คลองระบาย ┆ … ┆ 2022-07 ┆ คลอง      ┆ 100.70762 ┆ 13.82916 │\n",
       "│ ยาสุเรน     ┆ torage.go ┆            ┆ นำ้        ┆   ┆ -02 10: ┆           ┆ 6         ┆          │\n",
       "│ แขวง บางชัน ┆ ogleapis. ┆            ┆           ┆   ┆ 36:22.5 ┆           ┆           ┆          │\n",
       "│ เข…        ┆ com/t…    ┆            ┆           ┆   ┆ 37114   ┆           ┆           ┆          │\n",
       "│            ┆           ┆            ┆           ┆   ┆ +00:0…  ┆           ┆           ┆          │\n",
       "│ ตรงข้ามหมู่บ้า ┆ null      ┆ 0          ┆ รถติดมากบน ┆ … ┆ 2022-11 ┆ จราจร     ┆ 100.40294 ┆ 13.6361  │\n",
       "│ นอมรชัย 4   ┆           ┆            ┆ ถ.พระราม  ┆   ┆ -28 01: ┆           ┆ 6         ┆          │\n",
       "│ แขวง แสม…  ┆           ┆            ┆ 2         ┆   ┆ 45:02.4 ┆           ┆           ┆          │\n",
       "│            ┆           ┆            ┆ ก่อนถึงวงแ… ┆   ┆ 07940   ┆           ┆           ┆          │\n",
       "│            ┆           ┆            ┆           ┆   ┆ +00:0…  ┆           ┆           ┆          │\n",
       "│ 32 ถนน     ┆ https://s ┆ 0          ┆ ป้ายกองโจร ┆ … ┆ 2022-09 ┆ null      ┆ 100.42093 ┆ 13.70942 │\n",
       "│ บางแค แขวง ┆ torage.go ┆            ┆           ┆   ┆ -24 01: ┆           ┆ 7         ┆          │\n",
       "│ บางแค      ┆ ogleapis. ┆            ┆           ┆   ┆ 27:37.0 ┆           ┆           ┆          │\n",
       "│ เขตบางแค…  ┆ com/t…    ┆            ┆           ┆   ┆ 99410   ┆           ┆           ┆          │\n",
       "│            ┆           ┆            ┆           ┆   ┆ +00:0…  ┆           ┆           ┆          │\n",
       "│ …          ┆ …         ┆ …          ┆ …         ┆ … ┆ …       ┆ …         ┆ …         ┆ …        │\n",
       "│ 163 15 หมู่  ┆ null      ┆ null       ┆ น้ำในท่อระบ ┆ … ┆ 2022-06 ┆ ท่อระบายน้ำ ┆ 100.60552 ┆ 13.9622  │\n",
       "│ 3 ถ.       ┆           ┆            ┆ ายน้ำตลอดถ ┆   ┆ -06 04: ┆ ,ถนน      ┆ 2         ┆          │\n",
       "│ กำแพงเพชร  ┆           ┆            ┆ นนสรงประภ ┆   ┆ 07:15.9 ┆           ┆           ┆          │\n",
       "│ 6 ตำบ…     ┆           ┆            ┆ า …       ┆   ┆ 99225   ┆           ┆           ┆          │\n",
       "│            ┆           ┆            ┆           ┆   ┆ +00:0…  ┆           ┆           ┆          │\n",
       "│ 184 90 ถ.  ┆ null      ┆ null       ┆ สะพานเชื่อม ┆ … ┆ 2022-06 ┆ สะพาน     ┆ 100.55847 ┆ 13.73176 │\n",
       "│ สุขุมวิท แขวง ┆           ┆            ┆ ต่อระหว่าง  ┆   ┆ -04 15: ┆           ┆ 9         ┆          │\n",
       "│ คลองเตย …  ┆           ┆            ┆ หลังซอย สุ… ┆   ┆ 41:53.2 ┆           ┆           ┆          │\n",
       "│            ┆           ┆            ┆           ┆   ┆ 80546   ┆           ┆           ┆          │\n",
       "│            ┆           ┆            ┆           ┆   ┆ +00:0…  ┆           ┆           ┆          │\n",
       "│ 43/1039    ┆ https://s ┆ 0          ┆ กลิ่นเหม็นที่ป ┆ … ┆ 2023-03 ┆ null      ┆ 100.60054 ┆ 13.87255 │\n",
       "│ ซอย        ┆ torage.go ┆            ┆ ล่อยมาจากห้ ┆   ┆ -03 06: ┆           ┆           ┆          │\n",
       "│ รามอินทรา 1 ┆ ogleapis. ┆            ┆ างเซนทร…  ┆   ┆ 55:47.8 ┆           ┆           ┆          │\n",
       "│ แขวงอนุส…   ┆ com/t…    ┆            ┆           ┆   ┆ 33544   ┆           ┆           ┆          │\n",
       "│            ┆           ┆            ┆           ┆   ┆ +00:0…  ┆           ┆           ┆          │\n",
       "│ 1737/2 ถ.  ┆ https://s ┆ 0          ┆ ขอขอบคุณที่ซ่ ┆ … ┆ 2022-09 ┆ null      ┆ 100.58836 ┆ 13.79787 │\n",
       "│ ลาดพร้าว    ┆ torage.go ┆            ┆ อมขั้นบันไดขึ้ ┆   ┆ -05 02: ┆           ┆ 4         ┆          │\n",
       "│ แขวง       ┆ ogleapis. ┆            ┆ น-ลงใ…    ┆   ┆ 12:58.5 ┆           ┆           ┆          │\n",
       "│ สามเสนนอ…  ┆ com/t…    ┆            ┆           ┆   ┆ 04376   ┆           ┆           ┆          │\n",
       "│            ┆           ┆            ┆           ┆   ┆ +00:0…  ┆           ┆           ┆          │\n",
       "└────────────┴───────────┴────────────┴───────────┴───┴─────────┴───────────┴───────────┴──────────┘"
      ]
     },
     "metadata": {},
     "output_type": "display_data"
    }
   ],
   "source": [
    "# Remove point outside bangkok\n",
    "\n",
    "# bankok bounds\n",
    "bounds = [\n",
    "    {'lat': 13.46, 'lon': 100.32},\n",
    "    {'lat': 14.01, 'lon': 100.95}\n",
    "]\n",
    "\n",
    "# print(len(df))\n",
    "df = df.filter(\n",
    "    (col('lat') > lit(bounds[0]['lat'])) &\n",
    "    (col('lat') < lit(bounds[1]['lat'])) &\n",
    "    (col('lon') > lit(bounds[0]['lon'])) &\n",
    "    (col('lon') < lit(bounds[1]['lon']))\n",
    ")\n",
    "# print(len(df))\n",
    "\n",
    "display(df)"
   ]
  },
  {
   "cell_type": "code",
   "execution_count": 219,
   "metadata": {},
   "outputs": [
    {
     "data": {
      "text/html": [
       "<div><style>\n",
       ".dataframe > thead > tr > th,\n",
       ".dataframe > tbody > tr > td {\n",
       "  text-align: right;\n",
       "}\n",
       "</style>\n",
       "<small>shape: (270_802, 15)</small><table border=\"1\" class=\"dataframe\"><thead><tr><th>ticket_id</th><th>address</th><th>after_photo</th><th>count_reopen</th><th>description</th><th>last_activity</th><th>lat</th><th>lon</th><th>note</th><th>org</th><th>photo_url</th><th>problem_type_abdul</th><th>state</th><th>timestamp</th><th>type</th></tr><tr><td>str</td><td>str</td><td>str</td><td>i32</td><td>str</td><td>str</td><td>f32</td><td>f32</td><td>str</td><td>str</td><td>str</td><td>list[str]</td><td>str</td><td>datetime[ns, +00:00]</td><td>str</td></tr></thead><tbody><tr><td>&quot;2021-9LHDM6&quot;</td><td>&quot;1867 จรัญสนิทว…</td><td>null</td><td>null</td><td>&quot;ไม่มีภาพ&quot;</td><td>&quot;2022-02-22 04:…</td><td>13.79386</td><td>100.48661</td><td>&quot;ส่งเรื่องไปยัง…</td><td>&quot;เพื่อนชัชชาติ&quot;</td><td>&quot;https://storag…</td><td>[]</td><td>&quot;ส่งเรื่องแล้ว&quot;</td><td>2021-09-01 10:44:55.353209 +00:00</td><td>null</td></tr><tr><td>&quot;2021-FYJTFP&quot;</td><td>&quot;12/14 ถนน กรุง…</td><td>null</td><td>null</td><td>&quot;ขยะเยอะ&quot;</td><td>&quot;2022-06-04 15:…</td><td>13.81865</td><td>100.530838</td><td>null</td><td>&quot;เขตบางซื่อ&quot;</td><td>&quot;https://storag…</td><td>[&quot;ความสะอาด&quot;]</td><td>&quot;เสร็จสิ้น&quot;</td><td>2021-09-03 12:51:09.453003 +00:00</td><td>&quot;ความสะอาด&quot;</td></tr><tr><td>&quot;2021-8GKAR9&quot;</td><td>&quot;335/31 ลาดพร้า…</td><td>null</td><td>null</td><td>&quot;1. เถาวัลย์งอด…</td><td>&quot;2022-02-22 04:…</td><td>13.79704</td><td>100.576851</td><td>&quot;ส่งเรื่องไปยัง…</td><td>&quot;เพื่อนชัชชาติ&quot;</td><td>&quot;https://storag…</td><td>[&quot;สายไฟ&quot;]</td><td>&quot;ส่งเรื่องแล้ว&quot;</td><td>2021-09-19 06:47:50.488685 +00:00</td><td>&quot;สายไฟ&quot;</td></tr><tr><td>&quot;2021-AFPUXZ&quot;</td><td>&quot;37 10 ซอย สีลม…</td><td>null</td><td>null</td><td>&quot;1 à¸à¹à¸­à¸¡…</td><td>&quot;2022-02-22 04:…</td><td>13.72338</td><td>100.52916</td><td>&quot;ส่งเรื่องไปยัง…</td><td>&quot;เพื่อนชัชชาติ&quot;</td><td>&quot;https://storag…</td><td>[&quot;ถนน&quot;, &quot;สะพาน&quot;]</td><td>&quot;ส่งเรื่องแล้ว&quot;</td><td>2021-09-19 07:40:30.000781 +00:00</td><td>&quot;ถนน,สะพาน&quot;</td></tr><tr><td>&quot;2021-CGPMUN&quot;</td><td>&quot;189 เฉลิมพระเก…</td><td>&quot;https://storag…</td><td>null</td><td>&quot;น้ำท่วมเวลาฝนต…</td><td>&quot;2022-06-21 08:…</td><td>13.67891</td><td>100.667091</td><td>&quot;ฝ่ายโยธาสำนักง…</td><td>&quot;กรุงเทพมหานคร&quot;</td><td>&quot;https://storag…</td><td>[&quot;น้ำท่วม&quot;, &quot;ร้องเรียน&quot;]</td><td>&quot;เสร็จสิ้น&quot;</td><td>2021-09-19 14:56:08.924992 +00:00</td><td>&quot;น้ำท่วม,ร้องเร…</td></tr><tr><td>&quot;2021-8Z8JQ3&quot;</td><td>&quot;3/8 ขุมทอง-ลำต…</td><td>null</td><td>null</td><td>&quot;1) พื้นที่นี้ข…</td><td>&quot;2022-02-22 04:…</td><td>13.72804</td><td>100.8619</td><td>&quot;ส่งเรื่องไปยัง…</td><td>&quot;เพื่อนชัชชาติ&quot;</td><td>&quot;https://storag…</td><td>[&quot;ถนน&quot;, &quot;ร้องเรียน&quot;, … &quot;ความปลอดภัย&quot;]</td><td>&quot;ส่งเรื่องแล้ว&quot;</td><td>2021-09-20 00:24:47.881831 +00:00</td><td>&quot;ถนน,ร้องเรียน,…</td></tr><tr><td>&quot;2021-G4FN8W&quot;</td><td>&quot;50 พระราม ที่ …</td><td>null</td><td>null</td><td>&quot;น้ำเน่าเสียในค…</td><td>&quot;2022-02-22 04:…</td><td>13.74227</td><td>100.622978</td><td>&quot;ส่งเรื่องไปยัง…</td><td>&quot;เพื่อนชัชชาติ&quot;</td><td>&quot;https://storag…</td><td>[&quot;คลอง&quot;]</td><td>&quot;ส่งเรื่องแล้ว&quot;</td><td>2021-09-21 05:22:55.500922 +00:00</td><td>&quot;คลอง&quot;</td></tr><tr><td>&quot;2021-AFJYNF&quot;</td><td>&quot;3 ถนน พัฒนาชนบ…</td><td>null</td><td>null</td><td>&quot;น้ำท่วม เอ่อล้…</td><td>&quot;2022-02-22 04:…</td><td>13.73614</td><td>100.715919</td><td>&quot;ส่งเรื่องไปยัง…</td><td>&quot;เพื่อนชัชชาติ&quot;</td><td>&quot;https://storag…</td><td>[&quot;ถนน&quot;, &quot;น้ำท่วม&quot;]</td><td>&quot;ส่งเรื่องแล้ว&quot;</td><td>2021-09-22 05:06:09.308534 +00:00</td><td>&quot;ถนน,น้ำท่วม&quot;</td></tr><tr><td>&quot;2021-HAJULK&quot;</td><td>&quot;95 ซอย 12 มีนบ…</td><td>null</td><td>null</td><td>&quot;มีการยกถนนในซอ…</td><td>&quot;2022-02-22 04:…</td><td>13.79225</td><td>100.716614</td><td>&quot;ส่งเรื่องไปยัง…</td><td>&quot;เพื่อนชัชชาติ&quot;</td><td>&quot;https://storag…</td><td>[&quot;ร้องเรียน&quot;, &quot;ถนน&quot;, &quot;น้ำท่วม&quot;]</td><td>&quot;ส่งเรื่องแล้ว&quot;</td><td>2021-09-23 06:25:55.715532 +00:00</td><td>&quot;ร้องเรียน,ถนน,…</td></tr><tr><td>&quot;2021-Q7XMCN&quot;</td><td>&quot;1 ถนน จรัญสนิท…</td><td>null</td><td>null</td><td>&quot;งานไม่เสร็จ คว…</td><td>&quot;2022-02-22 04:…</td><td>13.79675</td><td>100.50779</td><td>&quot;ส่งเรื่องไปยัง…</td><td>&quot;เพื่อนชัชชาติ&quot;</td><td>&quot;https://storag…</td><td>[]</td><td>&quot;ส่งเรื่องแล้ว&quot;</td><td>2021-09-24 04:15:40.312129 +00:00</td><td>null</td></tr><tr><td>&quot;2021-7XATFA&quot;</td><td>&quot;191/1 ถนน สาทร…</td><td>null</td><td>null</td><td>&quot;à¸ªà¸°à¸à¸²à¸…</td><td>&quot;2022-06-06 01:…</td><td>13.7206</td><td>100.526489</td><td>&quot;ส่งเรื่องไปยัง…</td><td>&quot;กรุงเทพมหานคร&quot;</td><td>&quot;https://storag…</td><td>[&quot;สะพาน&quot;]</td><td>&quot;เสร็จสิ้น&quot;</td><td>2021-09-26 05:03:52.594898 +00:00</td><td>&quot;สะพาน&quot;</td></tr><tr><td>&quot;2021-79YL3M&quot;</td><td>&quot;147 ซอย ราษฎร์…</td><td>null</td><td>null</td><td>&quot;1.ซอยราษฎร์นิม…</td><td>&quot;2022-02-22 04:…</td><td>13.91732</td><td>100.733566</td><td>&quot;ส่งเรื่องไปยัง…</td><td>&quot;เพื่อนชัชชาติ&quot;</td><td>&quot;https://storag…</td><td>[&quot;ถนน&quot;]</td><td>&quot;ส่งเรื่องแล้ว&quot;</td><td>2021-09-28 23:01:00.111869 +00:00</td><td>&quot;ถนน&quot;</td></tr><tr><td>&hellip;</td><td>&hellip;</td><td>&hellip;</td><td>&hellip;</td><td>&hellip;</td><td>&hellip;</td><td>&hellip;</td><td>&hellip;</td><td>&hellip;</td><td>&hellip;</td><td>&hellip;</td><td>&hellip;</td><td>&hellip;</td><td>&hellip;</td><td>&hellip;</td></tr><tr><td>&quot;2023-HBT3ZV&quot;</td><td>&quot;Yan Hee Hospit…</td><td>null</td><td>0</td><td>&quot;ตรงทางเท้าที่ก…</td><td>&quot;2023-05-13 12:…</td><td>13.79963</td><td>100.511337</td><td>null</td><td>&quot;กรุงเทพมหานคร&quot;</td><td>&quot;https://storag…</td><td>[&quot;ถนน&quot;, &quot;ทางเท้า&quot;]</td><td>&quot;รอรับเรื่อง&quot;</td><td>2023-05-13 12:12:39.480185 +00:00</td><td>&quot;ถนน,ทางเท้า&quot;</td></tr><tr><td>&quot;2023-FKTPW2&quot;</td><td>&quot;315 ถ. นครชัยศ…</td><td>null</td><td>0</td><td>&quot;ไฟไม่ติด&quot;</td><td>&quot;2023-05-13 12:…</td><td>13.78224</td><td>100.517319</td><td>null</td><td>&quot;กรุงเทพมหานคร&quot;</td><td>&quot;https://storag…</td><td>[&quot;แสงสว่าง&quot;]</td><td>&quot;รอรับเรื่อง&quot;</td><td>2023-05-13 12:13:25.223747 +00:00</td><td>&quot;แสงสว่าง&quot;</td></tr><tr><td>&quot;2023-KEN8DE&quot;</td><td>&quot;89/1 Chinnamat…</td><td>null</td><td>0</td><td>&quot;&quot;XCross&quot; à¹à¸…</td><td>&quot;2023-05-13 12:…</td><td>13.70691</td><td>100.605118</td><td>&quot;เขตวัฒนา ส่งต่…</td><td>&quot;กรุงเทพมหานคร&quot;</td><td>&quot;https://storag…</td><td>[&quot;กีดขวาง&quot;, &quot;สะพาน&quot;, &quot;ความปลอดภัย&quot;]</td><td>&quot;ส่งต่อ(ใหม่)&quot;</td><td>2023-05-13 12:15:42.180563 +00:00</td><td>&quot;กีดขวาง,สะพาน,…</td></tr><tr><td>&quot;2023-AAF7ZH&quot;</td><td>&quot;888/20 ซ. ประช…</td><td>null</td><td>0</td><td>&quot;à¸à¸±à¸à¸«à¸…</td><td>&quot;2023-05-13 12:…</td><td>13.78228</td><td>100.588387</td><td>null</td><td>&quot;กรุงเทพมหานคร&quot;</td><td>&quot;https://storag…</td><td>[&quot;ร้องเรียน&quot;]</td><td>&quot;รอรับเรื่อง&quot;</td><td>2023-05-13 12:17:44.350781 +00:00</td><td>&quot;ร้องเรียน&quot;</td></tr><tr><td>&quot;2023-LHYTBQ&quot;</td><td>&quot;180/167 หมู่ 4…</td><td>null</td><td>0</td><td>&quot;ซ่อมถนนไม่เรีย…</td><td>&quot;2023-05-13 12:…</td><td>13.88981</td><td>100.609413</td><td>null</td><td>&quot;กรุงเทพมหานคร&quot;</td><td>&quot;https://storag…</td><td>[&quot;ถนน&quot;]</td><td>&quot;รอรับเรื่อง&quot;</td><td>2023-05-13 12:23:15.710923 +00:00</td><td>&quot;ถนน&quot;</td></tr><tr><td>&quot;2023-62THQ7&quot;</td><td>&quot;21 ซอย แสงอุทั…</td><td>null</td><td>0</td><td>&quot;ไฟดับ&quot;</td><td>&quot;2023-05-13 12:…</td><td>13.76224</td><td>100.549477</td><td>null</td><td>&quot;กรุงเทพมหานคร&quot;</td><td>&quot;https://storag…</td><td>[&quot;แสงสว่าง&quot;]</td><td>&quot;รอรับเรื่อง&quot;</td><td>2023-05-13 12:26:20.478288 +00:00</td><td>&quot;แสงสว่าง&quot;</td></tr><tr><td>&quot;2023-K2ZXVP&quot;</td><td>&quot;571 ซอย จรัญสน…</td><td>null</td><td>0</td><td>&quot;à¸¡à¸µà¸à¸²à¸…</td><td>&quot;2023-05-13 12:…</td><td>13.77879</td><td>100.491379</td><td>null</td><td>&quot;กรุงเทพมหานคร&quot;</td><td>&quot;https://storag…</td><td>[&quot;ป้าย&quot;, &quot;การเดินทาง&quot;]</td><td>&quot;รอรับเรื่อง&quot;</td><td>2023-05-13 12:29:18.335943 +00:00</td><td>&quot;ป้าย,การเดินทา…</td></tr><tr><td>&quot;2023-AYFHMD&quot;</td><td>&quot;12 ถนนสามเสน แ…</td><td>null</td><td>0</td><td>&quot;ป้ายรถเมล์ชำรุ…</td><td>&quot;2023-05-13 12:…</td><td>13.77698</td><td>100.507698</td><td>null</td><td>&quot;กรุงเทพมหานคร&quot;</td><td>&quot;https://storag…</td><td>[&quot;การเดินทาง&quot;]</td><td>&quot;รอรับเรื่อง&quot;</td><td>2023-05-13 12:29:56.327782 +00:00</td><td>&quot;การเดินทาง&quot;</td></tr><tr><td>&quot;2023-4N4AF2&quot;</td><td>&quot;474 ซอย ประชาอ…</td><td>null</td><td>0</td><td>&quot;เสาไฟไม่เปิดไฟ…</td><td>&quot;2023-05-13 12:…</td><td>13.77507</td><td>100.588547</td><td>null</td><td>&quot;กรุงเทพมหานคร&quot;</td><td>&quot;https://storag…</td><td>[&quot;ถนน&quot;, &quot;แสงสว่าง&quot;]</td><td>&quot;รอรับเรื่อง&quot;</td><td>2023-05-13 12:30:48.255606 +00:00</td><td>&quot;ถนน,แสงสว่าง&quot;</td></tr><tr><td>&quot;2023-KKGF42&quot;</td><td>&quot;วุฒากาศ วุฒากา…</td><td>null</td><td>0</td><td>&quot;สถานีรถไฟฟ้าวุ…</td><td>&quot;2023-05-13 12:…</td><td>13.71297</td><td>100.468819</td><td>&quot;เขตธนบุรี ส่งต…</td><td>&quot;กรุงเทพมหานคร&quot;</td><td>&quot;https://storag…</td><td>[&quot;แสงสว่าง&quot;]</td><td>&quot;ส่งต่อ(ใหม่)&quot;</td><td>2023-05-13 12:32:34.437273 +00:00</td><td>&quot;แสงสว่าง&quot;</td></tr><tr><td>&quot;2023-H8VKLR&quot;</td><td>&quot;528 ซอย นวลจัน…</td><td>null</td><td>0</td><td>&quot;ð¢ðð¡ð…</td><td>&quot;2023-05-13 12:…</td><td>13.82122</td><td>100.643539</td><td>null</td><td>&quot;กรุงเทพมหานคร&quot;</td><td>&quot;https://storag…</td><td>[&quot;ถนน&quot;, &quot;ป้าย&quot;]</td><td>&quot;รอรับเรื่อง&quot;</td><td>2023-05-13 12:34:40.086515 +00:00</td><td>&quot;ถนน,ป้าย&quot;</td></tr><tr><td>&quot;2023-76ZRQ8&quot;</td><td>&quot;16 ซอย กาญจนาภ…</td><td>null</td><td>0</td><td>&quot;à¹à¸£à¸µà¸¢à¸…</td><td>&quot;2023-05-13 12:…</td><td>13.71439</td><td>100.699432</td><td>null</td><td>&quot;กรุงเทพมหานคร&quot;</td><td>&quot;https://storag…</td><td>[&quot;ร้องเรียน&quot;]</td><td>&quot;รอรับเรื่อง&quot;</td><td>2023-05-13 12:37:39.151965 +00:00</td><td>&quot;ร้องเรียน&quot;</td></tr></tbody></table></div>"
      ],
      "text/plain": [
       "shape: (270_802, 15)\n",
       "┌─────────┬────────────┬───────────┬────────────┬───┬────────────┬───────────┬─────────┬───────────┐\n",
       "│ ticket_ ┆ address    ┆ after_pho ┆ count_reop ┆ … ┆ problem_ty ┆ state     ┆ timesta ┆ type      │\n",
       "│ id      ┆ ---        ┆ to        ┆ en         ┆   ┆ pe_abdul   ┆ ---       ┆ mp      ┆ ---       │\n",
       "│ ---     ┆ str        ┆ ---       ┆ ---        ┆   ┆ ---        ┆ str       ┆ ---     ┆ str       │\n",
       "│ str     ┆            ┆ str       ┆ i32        ┆   ┆ list[str]  ┆           ┆ datetim ┆           │\n",
       "│         ┆            ┆           ┆            ┆   ┆            ┆           ┆ e[ns,   ┆           │\n",
       "│         ┆            ┆           ┆            ┆   ┆            ┆           ┆ +00:00] ┆           │\n",
       "╞═════════╪════════════╪═══════════╪════════════╪═══╪════════════╪═══════════╪═════════╪═══════════╡\n",
       "│ 2021-9L ┆ 1867       ┆ null      ┆ null       ┆ … ┆ []         ┆ ส่งเรื่องแล้ว ┆ 2021-09 ┆ null      │\n",
       "│ HDM6    ┆ จรัญสนิทวงศ์  ┆           ┆            ┆   ┆            ┆           ┆ -01 10: ┆           │\n",
       "│         ┆ แขวง       ┆           ┆            ┆   ┆            ┆           ┆ 44:55.3 ┆           │\n",
       "│         ┆ บางพลัด เ…  ┆           ┆            ┆   ┆            ┆           ┆ 53209   ┆           │\n",
       "│         ┆            ┆           ┆            ┆   ┆            ┆           ┆ +00:0…  ┆           │\n",
       "│ 2021-FY ┆ 12/14 ถนน  ┆ null      ┆ null       ┆ … ┆ [\"ความสะอา ┆ เสร็จสิ้น    ┆ 2021-09 ┆ ความสะอาด │\n",
       "│ JTFP    ┆ กรุงเทพ-    ┆           ┆            ┆   ┆ ด\"]        ┆           ┆ -03 12: ┆           │\n",
       "│         ┆ นนทบุรี แขวง ┆           ┆            ┆   ┆            ┆           ┆ 51:09.4 ┆           │\n",
       "│         ┆ …          ┆           ┆            ┆   ┆            ┆           ┆ 53003   ┆           │\n",
       "│         ┆            ┆           ┆            ┆   ┆            ┆           ┆ +00:0…  ┆           │\n",
       "│ 2021-8G ┆ 335/31     ┆ null      ┆ null       ┆ … ┆ [\"สายไฟ\"]  ┆ ส่งเรื่องแล้ว ┆ 2021-09 ┆ สายไฟ     │\n",
       "│ KAR9    ┆ ลาดพร้าว    ┆           ┆            ┆   ┆            ┆           ┆ -19 06: ┆           │\n",
       "│         ┆ แขวง       ┆           ┆            ┆   ┆            ┆           ┆ 47:50.4 ┆           │\n",
       "│         ┆ สามเสนนอก  ┆           ┆            ┆   ┆            ┆           ┆ 88685   ┆           │\n",
       "│         ┆ เ…         ┆           ┆            ┆   ┆            ┆           ┆ +00:0…  ┆           │\n",
       "│ 2021-AF ┆ 37 10 ซอย  ┆ null      ┆ null       ┆ … ┆ [\"ถนน\",    ┆ ส่งเรื่องแล้ว ┆ 2021-09 ┆ ถนน,สะพาน │\n",
       "│ PUXZ    ┆ สีลม 9 แขวง ┆           ┆            ┆   ┆ \"สะพาน\"]   ┆           ┆ -19 07: ┆           │\n",
       "│         ┆ สีลม เขตบา… ┆           ┆            ┆   ┆            ┆           ┆ 40:30.0 ┆           │\n",
       "│         ┆            ┆           ┆            ┆   ┆            ┆           ┆ 00781   ┆           │\n",
       "│         ┆            ┆           ┆            ┆   ┆            ┆           ┆ +00:0…  ┆           │\n",
       "│ …       ┆ …          ┆ …         ┆ …          ┆ … ┆ …          ┆ …         ┆ …       ┆ …         │\n",
       "│ 2023-4N ┆ 474 ซอย    ┆ null      ┆ 0          ┆ … ┆ [\"ถนน\",    ┆ รอรับเรื่อง  ┆ 2023-05 ┆ ถนน,แสงสว่ │\n",
       "│ 4AF2    ┆ ประชาอุทิศ   ┆           ┆            ┆   ┆ \"แสงสว่าง\"] ┆           ┆ -13 12: ┆ าง        │\n",
       "│         ┆ 19 แขวงสาม ┆           ┆            ┆   ┆            ┆           ┆ 30:48.2 ┆           │\n",
       "│         ┆ เสน…       ┆           ┆            ┆   ┆            ┆           ┆ 55606   ┆           │\n",
       "│         ┆            ┆           ┆            ┆   ┆            ┆           ┆ +00:0…  ┆           │\n",
       "│ 2023-KK ┆ วุฒากาศ     ┆ null      ┆ 0          ┆ … ┆ [\"แสงสว่าง\" ┆ ส่งต่อ(ใหม่) ┆ 2023-05 ┆ แสงสว่าง   │\n",
       "│ GF42    ┆ วุฒากาศ     ┆           ┆            ┆   ┆ ]          ┆           ┆ -13 12: ┆           │\n",
       "│         ┆ แขวง       ┆           ┆            ┆   ┆            ┆           ┆ 32:34.4 ┆           │\n",
       "│         ┆ ตลาดพลู     ┆           ┆            ┆   ┆            ┆           ┆ 37273   ┆           │\n",
       "│         ┆ เขต…       ┆           ┆            ┆   ┆            ┆           ┆ +00:0…  ┆           │\n",
       "│ 2023-H8 ┆ 528 ซอย    ┆ null      ┆ 0          ┆ … ┆ [\"ถนน\",    ┆ รอรับเรื่อง  ┆ 2023-05 ┆ ถนน,ป้าย   │\n",
       "│ VKLR    ┆ นวลจันทร์ 22 ┆           ┆            ┆   ┆ \"ป้าย\"]     ┆           ┆ -13 12: ┆           │\n",
       "│         ┆ แขวง บึงกุ่…  ┆           ┆            ┆   ┆            ┆           ┆ 34:40.0 ┆           │\n",
       "│         ┆            ┆           ┆            ┆   ┆            ┆           ┆ 86515   ┆           │\n",
       "│         ┆            ┆           ┆            ┆   ┆            ┆           ┆ +00:0…  ┆           │\n",
       "│ 2023-76 ┆ 16 ซอย     ┆ null      ┆ 0          ┆ … ┆ [\"ร้องเรียน\" ┆ รอรับเรื่อง  ┆ 2023-05 ┆ ร้องเรียน   │\n",
       "│ ZRQ8    ┆ กาญจนาภิเษก ┆           ┆            ┆   ┆ ]          ┆           ┆ -13 12: ┆           │\n",
       "│         ┆ 24 แขวง    ┆           ┆            ┆   ┆            ┆           ┆ 37:39.1 ┆           │\n",
       "│         ┆ ประเว…     ┆           ┆            ┆   ┆            ┆           ┆ 51965   ┆           │\n",
       "│         ┆            ┆           ┆            ┆   ┆            ┆           ┆ +00:0…  ┆           │\n",
       "└─────────┴────────────┴───────────┴────────────┴───┴────────────┴───────────┴─────────┴───────────┘"
      ]
     },
     "execution_count": 219,
     "metadata": {},
     "output_type": "execute_result"
    }
   ],
   "source": [
    "# Rearrange columns\n",
    "df.select(\n",
    "    sorted(df.columns, key=lambda x: (x != 'ticket_id', x))\n",
    ").sort('timestamp')"
   ]
  },
  {
   "cell_type": "code",
   "execution_count": 220,
   "metadata": {},
   "outputs": [],
   "source": [
    "df.write_ipc('../data/traffy_clean1_data.ipc')"
   ]
  },
  {
   "cell_type": "code",
   "execution_count": 221,
   "metadata": {},
   "outputs": [],
   "source": [
    "df.drop('problem_type_abdul').write_csv('../data/traffy_clean1_data.csv')"
   ]
  }
 ],
 "metadata": {
  "kernelspec": {
   "display_name": "base",
   "language": "python",
   "name": "python3"
  },
  "language_info": {
   "codemirror_mode": {
    "name": "ipython",
    "version": 3
   },
   "file_extension": ".py",
   "mimetype": "text/x-python",
   "name": "python",
   "nbconvert_exporter": "python",
   "pygments_lexer": "ipython3",
   "version": "3.9.13"
  },
  "orig_nbformat": 4,
  "vscode": {
   "interpreter": {
    "hash": "c9b331834caea015b00ef836b329143fad26c810777fb4cd8b2cec8fd927d17e"
   }
  }
 },
 "nbformat": 4,
 "nbformat_minor": 2
}
